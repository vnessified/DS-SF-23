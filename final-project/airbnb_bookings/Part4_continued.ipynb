{
 "cells": [
  {
   "cell_type": "markdown",
   "metadata": {},
   "source": [
    "# DS-SF-23 Final Project\n",
    "### [Predicting Airbnb bookings](https://docs.google.com/presentation/d/1FVTTS478OCozncuxhWlaJr5ZkUGrMPHfKJ6uLm4Hsuw/edit?usp=sharing)\n",
    "Vanessa Grass, July 12th 2016"
   ]
  },
  {
   "cell_type": "markdown",
   "metadata": {},
   "source": [
    "______________________________________________________________________________________________________________________"
   ]
  },
  {
   "cell_type": "markdown",
   "metadata": {},
   "source": [
    "# Part 4 continued: Modeling Performance\n",
    "Below is where I actually implement models. I learn that linear regression is definitely not appropriate for this dataset. After reworking first booking from number of days into binary (1 - first booking occurs same day as first active, 0 - first booking occurs 1+ days after first active), I try logistic regression, k nearest neighbors, and random forest. These result in slightly better score but still not great. Next steps to try are to go back to the data and try to normalize & transformation (perhaps log). After which I would further tune models & deep dive into cross validation. Other avenues would be to look into the additonal datasets provided by Airbnb as well as examinge other variables (ie age & gender) as my response variable."
   ]
  },
  {
   "cell_type": "markdown",
   "metadata": {},
   "source": [
    "## Import Libraries"
   ]
  },
  {
   "cell_type": "code",
   "execution_count": 1,
   "metadata": {
    "collapsed": false
   },
   "outputs": [],
   "source": [
    "import os\n",
    "import numpy as np\n",
    "import pandas as pd\n",
    "import csv\n",
    "import StringIO\n",
    "import matplotlib.pyplot as plt\n",
    "import seaborn as sns\n",
    "import statsmodels.api as sm\n",
    "import statsmodels.formula.api as smf\n",
    "from sklearn import datasets, tree, feature_selection, linear_model, neighbors, ensemble, cross_validation, grid_search, metrics\n",
    "from sklearn.externals.six import StringIO  \n",
    "\n",
    "# pd.set_option('display.max_rows', 10)\n",
    "# pd.set_option('display.notebook_repr_html', True)\n",
    "# pd.set_option('display.max_columns', 999)\n",
    "\n",
    "%matplotlib inline\n",
    "plt.style.use('ggplot')"
   ]
  },
  {
   "cell_type": "markdown",
   "metadata": {},
   "source": [
    "## Import Data "
   ]
  },
  {
   "cell_type": "code",
   "execution_count": 2,
   "metadata": {
    "collapsed": false
   },
   "outputs": [],
   "source": [
    "users = pd.read_csv(os.path.join('datasets', 'airbnb_features.csv'))"
   ]
  },
  {
   "cell_type": "code",
   "execution_count": 3,
   "metadata": {
    "collapsed": false
   },
   "outputs": [
    {
     "data": {
      "text/html": [
       "<div>\n",
       "<table border=\"1\" class=\"dataframe\">\n",
       "  <thead>\n",
       "    <tr style=\"text-align: right;\">\n",
       "      <th></th>\n",
       "      <th>id</th>\n",
       "      <th>gender</th>\n",
       "      <th>age</th>\n",
       "      <th>signup_method</th>\n",
       "      <th>signup_flow</th>\n",
       "      <th>language</th>\n",
       "      <th>affiliate_channel</th>\n",
       "      <th>affiliate_provider</th>\n",
       "      <th>first_affiliate_tracked</th>\n",
       "      <th>signup_app</th>\n",
       "      <th>...</th>\n",
       "      <th>dest_ES</th>\n",
       "      <th>dest_FR</th>\n",
       "      <th>dest_GB</th>\n",
       "      <th>dest_IT</th>\n",
       "      <th>dest_NL</th>\n",
       "      <th>dest_PT</th>\n",
       "      <th>dest_US</th>\n",
       "      <th>dest_other</th>\n",
       "      <th>binary_dest_US</th>\n",
       "      <th>binary_dest_other</th>\n",
       "    </tr>\n",
       "  </thead>\n",
       "  <tbody>\n",
       "    <tr>\n",
       "      <th>0</th>\n",
       "      <td>0</td>\n",
       "      <td>FEMALE</td>\n",
       "      <td>44.0</td>\n",
       "      <td>facebook</td>\n",
       "      <td>zero</td>\n",
       "      <td>en</td>\n",
       "      <td>direct</td>\n",
       "      <td>direct</td>\n",
       "      <td>linked</td>\n",
       "      <td>not-iOS</td>\n",
       "      <td>...</td>\n",
       "      <td>0.0</td>\n",
       "      <td>0.0</td>\n",
       "      <td>0.0</td>\n",
       "      <td>0.0</td>\n",
       "      <td>0.0</td>\n",
       "      <td>0.0</td>\n",
       "      <td>1.0</td>\n",
       "      <td>0.0</td>\n",
       "      <td>1.0</td>\n",
       "      <td>0.0</td>\n",
       "    </tr>\n",
       "    <tr>\n",
       "      <th>1</th>\n",
       "      <td>1</td>\n",
       "      <td>MALE</td>\n",
       "      <td>47.0</td>\n",
       "      <td>basic</td>\n",
       "      <td>zero</td>\n",
       "      <td>en</td>\n",
       "      <td>other</td>\n",
       "      <td>other</td>\n",
       "      <td>tracked-other</td>\n",
       "      <td>not-iOS</td>\n",
       "      <td>...</td>\n",
       "      <td>0.0</td>\n",
       "      <td>0.0</td>\n",
       "      <td>0.0</td>\n",
       "      <td>0.0</td>\n",
       "      <td>0.0</td>\n",
       "      <td>0.0</td>\n",
       "      <td>1.0</td>\n",
       "      <td>0.0</td>\n",
       "      <td>1.0</td>\n",
       "      <td>0.0</td>\n",
       "    </tr>\n",
       "  </tbody>\n",
       "</table>\n",
       "<p>2 rows × 127 columns</p>\n",
       "</div>"
      ],
      "text/plain": [
       "   id  gender   age signup_method signup_flow language affiliate_channel  \\\n",
       "0   0  FEMALE  44.0      facebook        zero       en            direct   \n",
       "1   1    MALE  47.0         basic        zero       en             other   \n",
       "\n",
       "  affiliate_provider first_affiliate_tracked signup_app        ...          \\\n",
       "0             direct                  linked    not-iOS        ...           \n",
       "1              other           tracked-other    not-iOS        ...           \n",
       "\n",
       "  dest_ES dest_FR dest_GB  dest_IT dest_NL  dest_PT  dest_US  dest_other  \\\n",
       "0     0.0     0.0     0.0      0.0     0.0      0.0      1.0         0.0   \n",
       "1     0.0     0.0     0.0      0.0     0.0      0.0      1.0         0.0   \n",
       "\n",
       "   binary_dest_US  binary_dest_other  \n",
       "0             1.0                0.0  \n",
       "1             1.0                0.0  \n",
       "\n",
       "[2 rows x 127 columns]"
      ]
     },
     "execution_count": 3,
     "metadata": {},
     "output_type": "execute_result"
    }
   ],
   "source": [
    "users.head(2)"
   ]
  },
  {
   "cell_type": "markdown",
   "metadata": {},
   "source": [
    "## Clean up new columns"
   ]
  },
  {
   "cell_type": "markdown",
   "metadata": {},
   "source": [
    "#### Create new dataframe from variables that seem most promising as predictors"
   ]
  },
  {
   "cell_type": "code",
   "execution_count": 4,
   "metadata": {
    "collapsed": false
   },
   "outputs": [],
   "source": [
    "users = users[ ['days', 'age_b', 'Gender_MALE', 'signup_basic', 'lang_fr', 'lang_ja', 'lang_pt', \n",
    "                'affiliate_channel_direct','affiliate_provider_direct', 'affiliate_provider_google', 'aff_linked', \n",
    "                'aff_other', 'aff_omg', 'Mac_Desktop','Safari' ]]"
   ]
  },
  {
   "cell_type": "markdown",
   "metadata": {},
   "source": [
    "#### Renaming a few columns..."
   ]
  },
  {
   "cell_type": "code",
   "execution_count": 5,
   "metadata": {
    "collapsed": true
   },
   "outputs": [],
   "source": [
    "users.rename(columns={\n",
    "'age_b': 'age', 'Gender_MALE': 'gender','signup_basic': 'signup','lang_fr': 'french',\n",
    "'lang_ja': 'japanese','lang_pt': 'portuguese','affiliate_channel_direct': 'direct_affiliate_channel', \n",
    "'affiliate_provider_direct': 'direct_affiliate_provider', 'affiliate_provider_google': 'google_affiliate_provider',\n",
    "'aff_linked':'linked_affiliate', 'aff_other': 'other_affiliate', 'aff_omg': 'omg_affiliate'}, inplace = True)"
   ]
  },
  {
   "cell_type": "code",
   "execution_count": 6,
   "metadata": {
    "collapsed": false
   },
   "outputs": [
    {
     "data": {
      "text/html": [
       "<div>\n",
       "<table border=\"1\" class=\"dataframe\">\n",
       "  <thead>\n",
       "    <tr style=\"text-align: right;\">\n",
       "      <th></th>\n",
       "      <th>days</th>\n",
       "      <th>age</th>\n",
       "      <th>gender</th>\n",
       "      <th>signup</th>\n",
       "      <th>french</th>\n",
       "      <th>japanese</th>\n",
       "      <th>portuguese</th>\n",
       "      <th>direct_affiliate_channel</th>\n",
       "      <th>direct_affiliate_provider</th>\n",
       "      <th>google_affiliate_provider</th>\n",
       "      <th>linked_affiliate</th>\n",
       "      <th>other_affiliate</th>\n",
       "      <th>omg_affiliate</th>\n",
       "      <th>Mac_Desktop</th>\n",
       "      <th>Safari</th>\n",
       "    </tr>\n",
       "  </thead>\n",
       "  <tbody>\n",
       "    <tr>\n",
       "      <th>0</th>\n",
       "      <td>3.0</td>\n",
       "      <td>1.0</td>\n",
       "      <td>0.0</td>\n",
       "      <td>0.0</td>\n",
       "      <td>0.0</td>\n",
       "      <td>0.0</td>\n",
       "      <td>0.0</td>\n",
       "      <td>1.0</td>\n",
       "      <td>1.0</td>\n",
       "      <td>0.0</td>\n",
       "      <td>1.0</td>\n",
       "      <td>0.0</td>\n",
       "      <td>0.0</td>\n",
       "      <td>1.0</td>\n",
       "      <td>1.0</td>\n",
       "    </tr>\n",
       "    <tr>\n",
       "      <th>1</th>\n",
       "      <td>2.0</td>\n",
       "      <td>1.0</td>\n",
       "      <td>1.0</td>\n",
       "      <td>1.0</td>\n",
       "      <td>0.0</td>\n",
       "      <td>0.0</td>\n",
       "      <td>0.0</td>\n",
       "      <td>0.0</td>\n",
       "      <td>0.0</td>\n",
       "      <td>1.0</td>\n",
       "      <td>0.0</td>\n",
       "      <td>1.0</td>\n",
       "      <td>0.0</td>\n",
       "      <td>0.0</td>\n",
       "      <td>0.0</td>\n",
       "    </tr>\n",
       "  </tbody>\n",
       "</table>\n",
       "</div>"
      ],
      "text/plain": [
       "   days  age  gender  signup  french  japanese  portuguese  \\\n",
       "0   3.0  1.0     0.0     0.0     0.0       0.0         0.0   \n",
       "1   2.0  1.0     1.0     1.0     0.0       0.0         0.0   \n",
       "\n",
       "   direct_affiliate_channel  direct_affiliate_provider  \\\n",
       "0                       1.0                        1.0   \n",
       "1                       0.0                        0.0   \n",
       "\n",
       "   google_affiliate_provider  linked_affiliate  other_affiliate  \\\n",
       "0                        0.0               1.0              0.0   \n",
       "1                        1.0               0.0              1.0   \n",
       "\n",
       "   omg_affiliate  Mac_Desktop  Safari  \n",
       "0            0.0          1.0     1.0  \n",
       "1            0.0          0.0     0.0  "
      ]
     },
     "execution_count": 6,
     "metadata": {},
     "output_type": "execute_result"
    }
   ],
   "source": [
    "users.head(2)"
   ]
  },
  {
   "cell_type": "code",
   "execution_count": 7,
   "metadata": {
    "collapsed": false
   },
   "outputs": [
    {
     "data": {
      "text/plain": [
       "(15470, 15)"
      ]
     },
     "execution_count": 7,
     "metadata": {},
     "output_type": "execute_result"
    }
   ],
   "source": [
    "users.shape"
   ]
  },
  {
   "cell_type": "markdown",
   "metadata": {},
   "source": [
    "#### Data dictionary (kinda)\n",
    "1. days = booking date - first active date\n",
    "\n",
    "2. age = 1.0 (18-29), 0.0 (30+)\n",
    "\n",
    "3. gender = 1.0 (male), 0.0 (female)\n",
    "\n",
    "4. signup = 1.0 (basic), 0.0 (facebook)\n",
    "\n",
    "5. french = 1.0 (french), 0.0 (other language)\n",
    "\n",
    "6. japanese = 1.0 (japanese), 0.0 (other language)\n",
    "\n",
    "7. portuguese = 1.0 (portuguese), 0.0 (other language)\n",
    "\n",
    "8. direct_affiliate_channel = 1.0 (direct), 0.0 (other affiliate)\n",
    "\n",
    "9. direct_affiliate_provider = 1.0 (direct), 0.0 (other affiliate)\n",
    "\n",
    "10. google_affiliate_provider = 1.0 (google), 0.0 (other affiliate)\n",
    "\n",
    "11. linked_affiliate = 1.0 (linked), 0.0 (other)\n",
    "\n",
    "12. other_affiliate = 1.0 (other), 0.0 (other)\n",
    "\n",
    "13. omg_affiliate = 1.0 (omg), 0.0 (all non-other)\n",
    "\n",
    "14. Mac_Desktop = 1.0 (Mac Desktop), 0.0 (other device)\n",
    "\n",
    "15. Safari = 1.0 (Safari), 0.0 (other browser)"
   ]
  },
  {
   "cell_type": "markdown",
   "metadata": {},
   "source": [
    "# Models"
   ]
  },
  {
   "cell_type": "markdown",
   "metadata": {},
   "source": [
    "### Linear Regression\n",
    "I already know there isn't really a linear relationship between any of the variables but I'm just curious"
   ]
  },
  {
   "cell_type": "code",
   "execution_count": 8,
   "metadata": {
    "collapsed": false
   },
   "outputs": [
    {
     "data": {
      "text/html": [
       "<table class=\"simpletable\">\n",
       "<caption>OLS Regression Results</caption>\n",
       "<tr>\n",
       "  <th>Dep. Variable:</th>          <td>days</td>       <th>  R-squared:         </th> <td>   0.016</td> \n",
       "</tr>\n",
       "<tr>\n",
       "  <th>Model:</th>                   <td>OLS</td>       <th>  Adj. R-squared:    </th> <td>   0.015</td> \n",
       "</tr>\n",
       "<tr>\n",
       "  <th>Method:</th>             <td>Least Squares</td>  <th>  F-statistic:       </th> <td>   18.99</td> \n",
       "</tr>\n",
       "<tr>\n",
       "  <th>Date:</th>             <td>Wed, 13 Jul 2016</td> <th>  Prob (F-statistic):</th> <td>7.03e-45</td> \n",
       "</tr>\n",
       "<tr>\n",
       "  <th>Time:</th>                 <td>18:35:03</td>     <th>  Log-Likelihood:    </th> <td> -86479.</td> \n",
       "</tr>\n",
       "<tr>\n",
       "  <th>No. Observations:</th>      <td> 15470</td>      <th>  AIC:               </th> <td>1.730e+05</td>\n",
       "</tr>\n",
       "<tr>\n",
       "  <th>Df Residuals:</th>          <td> 15456</td>      <th>  BIC:               </th> <td>1.731e+05</td>\n",
       "</tr>\n",
       "<tr>\n",
       "  <th>Df Model:</th>              <td>    13</td>      <th>                     </th>     <td> </td>    \n",
       "</tr>\n",
       "<tr>\n",
       "  <th>Covariance Type:</th>      <td>nonrobust</td>    <th>                     </th>     <td> </td>    \n",
       "</tr>\n",
       "</table>\n",
       "<table class=\"simpletable\">\n",
       "<tr>\n",
       "              <td></td>                 <th>coef</th>     <th>std err</th>      <th>t</th>      <th>P>|t|</th> <th>[95.0% Conf. Int.]</th> \n",
       "</tr>\n",
       "<tr>\n",
       "  <th>Intercept</th>                 <td>   27.5626</td> <td>    4.695</td> <td>    5.871</td> <td> 0.000</td> <td>   18.360    36.766</td>\n",
       "</tr>\n",
       "<tr>\n",
       "  <th>age</th>                       <td>    5.9442</td> <td>    1.047</td> <td>    5.678</td> <td> 0.000</td> <td>    3.892     7.996</td>\n",
       "</tr>\n",
       "<tr>\n",
       "  <th>gender</th>                    <td>   -5.6844</td> <td>    1.052</td> <td>   -5.401</td> <td> 0.000</td> <td>   -7.747    -3.621</td>\n",
       "</tr>\n",
       "<tr>\n",
       "  <th>signup</th>                    <td>   -8.0096</td> <td>    1.079</td> <td>   -7.420</td> <td> 0.000</td> <td>  -10.125    -5.894</td>\n",
       "</tr>\n",
       "<tr>\n",
       "  <th>french</th>                    <td>    9.6176</td> <td>    6.546</td> <td>    1.469</td> <td> 0.142</td> <td>   -3.213    22.448</td>\n",
       "</tr>\n",
       "<tr>\n",
       "  <th>japanese</th>                  <td>  -30.0272</td> <td>   14.887</td> <td>   -2.017</td> <td> 0.044</td> <td>  -59.208    -0.847</td>\n",
       "</tr>\n",
       "<tr>\n",
       "  <th>portuguese</th>                <td>   37.0913</td> <td>   17.341</td> <td>    2.139</td> <td> 0.032</td> <td>    3.101    71.081</td>\n",
       "</tr>\n",
       "<tr>\n",
       "  <th>direct_affiliate_channel</th>  <td>   -2.6634</td> <td>    1.013</td> <td>   -2.630</td> <td> 0.009</td> <td>   -4.648    -0.678</td>\n",
       "</tr>\n",
       "<tr>\n",
       "  <th>direct_affiliate_provider</th> <td>   -2.6634</td> <td>    1.013</td> <td>   -2.630</td> <td> 0.009</td> <td>   -4.648    -0.678</td>\n",
       "</tr>\n",
       "<tr>\n",
       "  <th>google_affiliate_provider</th> <td>   -9.8014</td> <td>    2.098</td> <td>   -4.672</td> <td> 0.000</td> <td>  -13.913    -5.690</td>\n",
       "</tr>\n",
       "<tr>\n",
       "  <th>linked_affiliate</th>          <td>   11.8227</td> <td>    4.402</td> <td>    2.686</td> <td> 0.007</td> <td>    3.194    20.452</td>\n",
       "</tr>\n",
       "<tr>\n",
       "  <th>other_affiliate</th>           <td>   21.4340</td> <td>    4.942</td> <td>    4.337</td> <td> 0.000</td> <td>   11.746    31.122</td>\n",
       "</tr>\n",
       "<tr>\n",
       "  <th>omg_affiliate</th>             <td>    9.1495</td> <td>    4.509</td> <td>    2.029</td> <td> 0.042</td> <td>    0.311    17.989</td>\n",
       "</tr>\n",
       "<tr>\n",
       "  <th>Mac_Desktop</th>               <td>    3.3886</td> <td>    1.254</td> <td>    2.703</td> <td> 0.007</td> <td>    0.931     5.846</td>\n",
       "</tr>\n",
       "<tr>\n",
       "  <th>Safari</th>                    <td>    1.8300</td> <td>    1.425</td> <td>    1.285</td> <td> 0.199</td> <td>   -0.962     4.622</td>\n",
       "</tr>\n",
       "</table>\n",
       "<table class=\"simpletable\">\n",
       "<tr>\n",
       "  <th>Omnibus:</th>       <td>9285.454</td> <th>  Durbin-Watson:     </th> <td>   1.894</td> \n",
       "</tr>\n",
       "<tr>\n",
       "  <th>Prob(Omnibus):</th>  <td> 0.000</td>  <th>  Jarque-Bera (JB):  </th> <td>70464.080</td>\n",
       "</tr>\n",
       "<tr>\n",
       "  <th>Skew:</th>           <td> 2.925</td>  <th>  Prob(JB):          </th> <td>    0.00</td> \n",
       "</tr>\n",
       "<tr>\n",
       "  <th>Kurtosis:</th>       <td>11.665</td>  <th>  Cond. No.          </th> <td>2.77e+16</td> \n",
       "</tr>\n",
       "</table>"
      ],
      "text/plain": [
       "<class 'statsmodels.iolib.summary.Summary'>\n",
       "\"\"\"\n",
       "                            OLS Regression Results                            \n",
       "==============================================================================\n",
       "Dep. Variable:                   days   R-squared:                       0.016\n",
       "Model:                            OLS   Adj. R-squared:                  0.015\n",
       "Method:                 Least Squares   F-statistic:                     18.99\n",
       "Date:                Wed, 13 Jul 2016   Prob (F-statistic):           7.03e-45\n",
       "Time:                        18:35:03   Log-Likelihood:                -86479.\n",
       "No. Observations:               15470   AIC:                         1.730e+05\n",
       "Df Residuals:                   15456   BIC:                         1.731e+05\n",
       "Df Model:                          13                                         \n",
       "Covariance Type:            nonrobust                                         \n",
       "=============================================================================================\n",
       "                                coef    std err          t      P>|t|      [95.0% Conf. Int.]\n",
       "---------------------------------------------------------------------------------------------\n",
       "Intercept                    27.5626      4.695      5.871      0.000        18.360    36.766\n",
       "age                           5.9442      1.047      5.678      0.000         3.892     7.996\n",
       "gender                       -5.6844      1.052     -5.401      0.000        -7.747    -3.621\n",
       "signup                       -8.0096      1.079     -7.420      0.000       -10.125    -5.894\n",
       "french                        9.6176      6.546      1.469      0.142        -3.213    22.448\n",
       "japanese                    -30.0272     14.887     -2.017      0.044       -59.208    -0.847\n",
       "portuguese                   37.0913     17.341      2.139      0.032         3.101    71.081\n",
       "direct_affiliate_channel     -2.6634      1.013     -2.630      0.009        -4.648    -0.678\n",
       "direct_affiliate_provider    -2.6634      1.013     -2.630      0.009        -4.648    -0.678\n",
       "google_affiliate_provider    -9.8014      2.098     -4.672      0.000       -13.913    -5.690\n",
       "linked_affiliate             11.8227      4.402      2.686      0.007         3.194    20.452\n",
       "other_affiliate              21.4340      4.942      4.337      0.000        11.746    31.122\n",
       "omg_affiliate                 9.1495      4.509      2.029      0.042         0.311    17.989\n",
       "Mac_Desktop                   3.3886      1.254      2.703      0.007         0.931     5.846\n",
       "Safari                        1.8300      1.425      1.285      0.199        -0.962     4.622\n",
       "==============================================================================\n",
       "Omnibus:                     9285.454   Durbin-Watson:                   1.894\n",
       "Prob(Omnibus):                  0.000   Jarque-Bera (JB):            70464.080\n",
       "Skew:                           2.925   Prob(JB):                         0.00\n",
       "Kurtosis:                      11.665   Cond. No.                     2.77e+16\n",
       "==============================================================================\n",
       "\n",
       "Warnings:\n",
       "[1] Standard Errors assume that the covariance matrix of the errors is correctly specified.\n",
       "[2] The smallest eigenvalue is 6.9e-29. This might indicate that there are\n",
       "strong multicollinearity problems or that the design matrix is singular.\n",
       "\"\"\""
      ]
     },
     "execution_count": 8,
     "metadata": {},
     "output_type": "execute_result"
    }
   ],
   "source": [
    "#I realize this is too many variables but trying the kitchen sink strategy\n",
    "smf.ols(formula = \n",
    "'days ~ age + gender + signup + french + japanese + portuguese + direct_affiliate_channel + direct_affiliate_provider + google_affiliate_provider + linked_affiliate + other_affiliate + omg_affiliate + Mac_Desktop + Safari', \n",
    "data = users).fit().summary()"
   ]
  },
  {
   "cell_type": "code",
   "execution_count": 9,
   "metadata": {
    "collapsed": false
   },
   "outputs": [
    {
     "data": {
      "text/html": [
       "<table class=\"simpletable\">\n",
       "<caption>OLS Regression Results</caption>\n",
       "<tr>\n",
       "  <th>Dep. Variable:</th>          <td>days</td>       <th>  R-squared:         </th> <td>   0.014</td> \n",
       "</tr>\n",
       "<tr>\n",
       "  <th>Model:</th>                   <td>OLS</td>       <th>  Adj. R-squared:    </th> <td>   0.014</td> \n",
       "</tr>\n",
       "<tr>\n",
       "  <th>Method:</th>             <td>Least Squares</td>  <th>  F-statistic:       </th> <td>   36.51</td> \n",
       "</tr>\n",
       "<tr>\n",
       "  <th>Date:</th>             <td>Wed, 13 Jul 2016</td> <th>  Prob (F-statistic):</th> <td>3.50e-44</td> \n",
       "</tr>\n",
       "<tr>\n",
       "  <th>Time:</th>                 <td>18:35:07</td>     <th>  Log-Likelihood:    </th> <td> -86493.</td> \n",
       "</tr>\n",
       "<tr>\n",
       "  <th>No. Observations:</th>      <td> 15470</td>      <th>  AIC:               </th> <td>1.730e+05</td>\n",
       "</tr>\n",
       "<tr>\n",
       "  <th>Df Residuals:</th>          <td> 15463</td>      <th>  BIC:               </th> <td>1.731e+05</td>\n",
       "</tr>\n",
       "<tr>\n",
       "  <th>Df Model:</th>              <td>     6</td>      <th>                     </th>     <td> </td>    \n",
       "</tr>\n",
       "<tr>\n",
       "  <th>Covariance Type:</th>      <td>nonrobust</td>    <th>                     </th>     <td> </td>    \n",
       "</tr>\n",
       "</table>\n",
       "<table class=\"simpletable\">\n",
       "<tr>\n",
       "              <td></td>                 <th>coef</th>     <th>std err</th>      <th>t</th>      <th>P>|t|</th> <th>[95.0% Conf. Int.]</th> \n",
       "</tr>\n",
       "<tr>\n",
       "  <th>Intercept</th>                 <td>   34.4460</td> <td>    1.365</td> <td>   25.238</td> <td> 0.000</td> <td>   31.771    37.121</td>\n",
       "</tr>\n",
       "<tr>\n",
       "  <th>age</th>                       <td>    5.7369</td> <td>    1.045</td> <td>    5.488</td> <td> 0.000</td> <td>    3.688     7.786</td>\n",
       "</tr>\n",
       "<tr>\n",
       "  <th>gender</th>                    <td>   -5.7212</td> <td>    1.052</td> <td>   -5.438</td> <td> 0.000</td> <td>   -7.783    -3.659</td>\n",
       "</tr>\n",
       "<tr>\n",
       "  <th>signup</th>                    <td>   -8.4238</td> <td>    1.073</td> <td>   -7.852</td> <td> 0.000</td> <td>  -10.527    -6.321</td>\n",
       "</tr>\n",
       "<tr>\n",
       "  <th>google_affiliate_provider</th> <td>   -6.4815</td> <td>    1.060</td> <td>   -6.117</td> <td> 0.000</td> <td>   -8.559    -4.404</td>\n",
       "</tr>\n",
       "<tr>\n",
       "  <th>other_affiliate</th>           <td>   12.7108</td> <td>    2.397</td> <td>    5.303</td> <td> 0.000</td> <td>    8.013    17.409</td>\n",
       "</tr>\n",
       "<tr>\n",
       "  <th>Mac_Desktop</th>               <td>    4.1397</td> <td>    1.049</td> <td>    3.945</td> <td> 0.000</td> <td>    2.083     6.196</td>\n",
       "</tr>\n",
       "</table>\n",
       "<table class=\"simpletable\">\n",
       "<tr>\n",
       "  <th>Omnibus:</th>       <td>9299.749</td> <th>  Durbin-Watson:     </th> <td>   1.893</td> \n",
       "</tr>\n",
       "<tr>\n",
       "  <th>Prob(Omnibus):</th>  <td> 0.000</td>  <th>  Jarque-Bera (JB):  </th> <td>70664.913</td>\n",
       "</tr>\n",
       "<tr>\n",
       "  <th>Skew:</th>           <td> 2.931</td>  <th>  Prob(JB):          </th> <td>    0.00</td> \n",
       "</tr>\n",
       "<tr>\n",
       "  <th>Kurtosis:</th>       <td>11.676</td>  <th>  Cond. No.          </th> <td>    7.29</td> \n",
       "</tr>\n",
       "</table>"
      ],
      "text/plain": [
       "<class 'statsmodels.iolib.summary.Summary'>\n",
       "\"\"\"\n",
       "                            OLS Regression Results                            \n",
       "==============================================================================\n",
       "Dep. Variable:                   days   R-squared:                       0.014\n",
       "Model:                            OLS   Adj. R-squared:                  0.014\n",
       "Method:                 Least Squares   F-statistic:                     36.51\n",
       "Date:                Wed, 13 Jul 2016   Prob (F-statistic):           3.50e-44\n",
       "Time:                        18:35:07   Log-Likelihood:                -86493.\n",
       "No. Observations:               15470   AIC:                         1.730e+05\n",
       "Df Residuals:                   15463   BIC:                         1.731e+05\n",
       "Df Model:                           6                                         \n",
       "Covariance Type:            nonrobust                                         \n",
       "=============================================================================================\n",
       "                                coef    std err          t      P>|t|      [95.0% Conf. Int.]\n",
       "---------------------------------------------------------------------------------------------\n",
       "Intercept                    34.4460      1.365     25.238      0.000        31.771    37.121\n",
       "age                           5.7369      1.045      5.488      0.000         3.688     7.786\n",
       "gender                       -5.7212      1.052     -5.438      0.000        -7.783    -3.659\n",
       "signup                       -8.4238      1.073     -7.852      0.000       -10.527    -6.321\n",
       "google_affiliate_provider    -6.4815      1.060     -6.117      0.000        -8.559    -4.404\n",
       "other_affiliate              12.7108      2.397      5.303      0.000         8.013    17.409\n",
       "Mac_Desktop                   4.1397      1.049      3.945      0.000         2.083     6.196\n",
       "==============================================================================\n",
       "Omnibus:                     9299.749   Durbin-Watson:                   1.893\n",
       "Prob(Omnibus):                  0.000   Jarque-Bera (JB):            70664.913\n",
       "Skew:                           2.931   Prob(JB):                         0.00\n",
       "Kurtosis:                      11.676   Cond. No.                         7.29\n",
       "==============================================================================\n",
       "\n",
       "Warnings:\n",
       "[1] Standard Errors assume that the covariance matrix of the errors is correctly specified.\n",
       "\"\"\""
      ]
     },
     "execution_count": 9,
     "metadata": {},
     "output_type": "execute_result"
    }
   ],
   "source": [
    "#as simple as I can make this\n",
    "smf.ols(formula = \n",
    "'days ~ age + gender + signup + google_affiliate_provider + other_affiliate + Mac_Desktop', \n",
    "data = users).fit().summary()"
   ]
  },
  {
   "cell_type": "markdown",
   "metadata": {},
   "source": [
    "#### Plot Models"
   ]
  },
  {
   "cell_type": "code",
   "execution_count": 30,
   "metadata": {
    "collapsed": false,
    "scrolled": true
   },
   "outputs": [
    {
     "data": {
      "image/png": "[encoded data removed]",
      "text/plain": [
       "<matplotlib.figure.Figure at 0x123d8ae10>"
      ]
     },
     "metadata": {},
     "output_type": "display_data"
    }
   ],
   "source": [
    "model = smf.ols(formula = 'days ~ age + gender + signup + google_affiliate_provider + other_affiliate + Mac_Desktop', data = users).fit()\n",
    "model.resid.plot(kind = 'hist', bins = 250, figsize = (8, 8))\n",
    "\n",
    "plt.show()"
   ]
  },
  {
   "cell_type": "code",
   "execution_count": 12,
   "metadata": {
    "collapsed": false
   },
   "outputs": [
    {
     "data": {
      "image/png": "[encoded data removed]",
      "text/plain": [
       "<matplotlib.figure.Figure at 0x123617e50>"
      ]
     },
     "metadata": {},
     "output_type": "display_data"
    }
   ],
   "source": [
    "#q-q plot (residuals) against a normal distribution\n",
    "figure, ax = plt.subplots(figsize = (8, 8))\n",
    "figure = sm.qqplot(model.resid, line = 's', ax = ax)\n",
    "\n",
    "plt.show()"
   ]
  },
  {
   "cell_type": "markdown",
   "metadata": {},
   "source": [
    "### More appropriate models\n",
    "I realize at about the half-way point that linear regression was not going to yield a good model. I can rework my hypothesis into a classification problem by instead predicting whether Airbnb users book the same day they are first active."
   ]
  },
  {
   "cell_type": "markdown",
   "metadata": {},
   "source": [
    "#### Converting days into categorical/binary data"
   ]
  },
  {
   "cell_type": "code",
   "execution_count": 10,
   "metadata": {
    "collapsed": false
   },
   "outputs": [
    {
     "data": {
      "text/plain": [
       "3889"
      ]
     },
     "execution_count": 10,
     "metadata": {},
     "output_type": "execute_result"
    }
   ],
   "source": [
    "#checking bookings that happen the same day the user is first active\n",
    "sum(users.days == 0)"
   ]
  },
  {
   "cell_type": "code",
   "execution_count": 11,
   "metadata": {
    "collapsed": false
   },
   "outputs": [
    {
     "data": {
      "text/plain": [
       "11581"
      ]
     },
     "execution_count": 11,
     "metadata": {},
     "output_type": "execute_result"
    }
   ],
   "source": [
    "#checking bookings that happen more than one day after the user is first active\n",
    "sum(users.days > 0)"
   ]
  },
  {
   "cell_type": "code",
   "execution_count": 12,
   "metadata": {
    "collapsed": false
   },
   "outputs": [
    {
     "data": {
      "text/plain": [
       "15470"
      ]
     },
     "execution_count": 12,
     "metadata": {},
     "output_type": "execute_result"
    }
   ],
   "source": [
    "#summing them up - looks right\n",
    "3889+11581"
   ]
  },
  {
   "cell_type": "code",
   "execution_count": 13,
   "metadata": {
    "collapsed": true
   },
   "outputs": [],
   "source": [
    "#reassiging any number other than 0 to 1, thus giving me binary data\n",
    "users.days = np.where(users.days !=0, 1, 0)"
   ]
  },
  {
   "cell_type": "code",
   "execution_count": 14,
   "metadata": {
    "collapsed": false
   },
   "outputs": [
    {
     "data": {
      "text/plain": [
       "1    11581\n",
       "0     3889\n",
       "Name: days, dtype: int64"
      ]
     },
     "execution_count": 14,
     "metadata": {},
     "output_type": "execute_result"
    }
   ],
   "source": [
    "users.days.value_counts()"
   ]
  },
  {
   "cell_type": "code",
   "execution_count": 15,
   "metadata": {
    "collapsed": true
   },
   "outputs": [],
   "source": [
    "#separate data into training and testing sets\n",
    "train_users = users.sample(frac = .6, random_state = 0)\n",
    "test_users = users.drop(train_users.index)"
   ]
  },
  {
   "cell_type": "code",
   "execution_count": 31,
   "metadata": {
    "collapsed": false
   },
   "outputs": [],
   "source": [
    "#model features\n",
    "\n",
    "train_X = train_users[['age', 'gender', 'signup', 'google_affiliate_provider', \n",
    "                       'other_affiliate', 'Mac_Desktop']]\n",
    "train_y = train_users.days\n",
    "\n",
    "test_X = test_users[['age', 'gender', 'signup', 'google_affiliate_provider', \n",
    "                     'other_affiliate', 'Mac_Desktop']]\n",
    "test_y = test_users.days"
   ]
  },
  {
   "cell_type": "markdown",
   "metadata": {},
   "source": [
    "### Logistic Regression"
   ]
  },
  {
   "cell_type": "code",
   "execution_count": 17,
   "metadata": {
    "collapsed": false
   },
   "outputs": [
    {
     "data": {
      "text/plain": [
       "LogisticRegression(C=1.0, class_weight=None, dual=False, fit_intercept=True,\n",
       "          intercept_scaling=1, max_iter=100, multi_class='ovr', n_jobs=1,\n",
       "          penalty='l2', random_state=None, solver='liblinear', tol=0.0001,\n",
       "          verbose=0, warm_start=False)"
      ]
     },
     "execution_count": 17,
     "metadata": {},
     "output_type": "execute_result"
    }
   ],
   "source": [
    "model_users = linear_model.LogisticRegression()\n",
    "model_users.fit(train_X, train_y)"
   ]
  },
  {
   "cell_type": "code",
   "execution_count": 18,
   "metadata": {
    "collapsed": false
   },
   "outputs": [
    {
     "data": {
      "text/plain": [
       "0.25317819435466493"
      ]
     },
     "execution_count": 18,
     "metadata": {},
     "output_type": "execute_result"
    }
   ],
   "source": [
    "#score based on training \n",
    "model_users.score(train_X, train_y)"
   ]
  },
  {
   "cell_type": "code",
   "execution_count": 19,
   "metadata": {
    "collapsed": false
   },
   "outputs": [
    {
     "data": {
      "text/plain": [
       "0.24870717517776342"
      ]
     },
     "execution_count": 19,
     "metadata": {},
     "output_type": "execute_result"
    }
   ],
   "source": [
    "#score based on testing \n",
    "model_users.score(test_X, test_y)"
   ]
  },
  {
   "cell_type": "markdown",
   "metadata": {},
   "source": [
    "### K Nearest Neighbors"
   ]
  },
  {
   "cell_type": "code",
   "execution_count": 20,
   "metadata": {
    "collapsed": false
   },
   "outputs": [
    {
     "data": {
      "text/plain": [
       "KNeighborsClassifier(algorithm='auto', leaf_size=30, metric='minkowski',\n",
       "           metric_params=None, n_jobs=1, n_neighbors=5, p=2,\n",
       "           weights='uniform')"
      ]
     },
     "execution_count": 20,
     "metadata": {},
     "output_type": "execute_result"
    }
   ],
   "source": [
    "model_users = neighbors.KNeighborsClassifier(n_neighbors = 5, weights = 'uniform')\n",
    "model_users.fit(train_X, train_y)"
   ]
  },
  {
   "cell_type": "code",
   "execution_count": 24,
   "metadata": {
    "collapsed": false
   },
   "outputs": [
    {
     "data": {
      "text/plain": [
       "array([ 0.19702233,  0.19783058,  0.22342148,  0.19378531,  0.2265808 ])"
      ]
     },
     "execution_count": 24,
     "metadata": {},
     "output_type": "execute_result"
    }
   ],
   "source": [
    "cross_validation.cross_val_score(model_users, train_X, train_y, cv = 5)"
   ]
  },
  {
   "cell_type": "code",
   "execution_count": 23,
   "metadata": {
    "collapsed": false
   },
   "outputs": [
    {
     "data": {
      "text/plain": [
       "0.21315449256625726"
      ]
     },
     "execution_count": 23,
     "metadata": {},
     "output_type": "execute_result"
    }
   ],
   "source": [
    "model_users.score(test_X, test_y)"
   ]
  },
  {
   "cell_type": "markdown",
   "metadata": {},
   "source": [
    "### Random Forest"
   ]
  },
  {
   "cell_type": "code",
   "execution_count": 25,
   "metadata": {
    "collapsed": false
   },
   "outputs": [
    {
     "data": {
      "text/plain": [
       "RandomForestClassifier(bootstrap=True, class_weight=None, criterion='gini',\n",
       "            max_depth=None, max_features='auto', max_leaf_nodes=None,\n",
       "            min_samples_leaf=1, min_samples_split=2,\n",
       "            min_weight_fraction_leaf=0.0, n_estimators=5, n_jobs=1,\n",
       "            oob_score=False, random_state=None, verbose=0,\n",
       "            warm_start=False)"
      ]
     },
     "execution_count": 25,
     "metadata": {},
     "output_type": "execute_result"
    }
   ],
   "source": [
    "model_users = ensemble.RandomForestClassifier(n_estimators = 5)\n",
    "model_users.fit(train_X, train_y)"
   ]
  },
  {
   "cell_type": "code",
   "execution_count": 27,
   "metadata": {
    "collapsed": false
   },
   "outputs": [
    {
     "data": {
      "text/plain": [
       "array([ 0.20106289,  0.2181987 ,  0.22888016,  0.23319328,  0.25770925,\n",
       "        0.26297968,  0.26542491,  0.28023952,  0.28606357,  0.29625   ])"
      ]
     },
     "execution_count": 27,
     "metadata": {},
     "output_type": "execute_result"
    }
   ],
   "source": [
    "cross_validation.cross_val_score(model_users, train_X, train_y, cv = 10)"
   ]
  },
  {
   "cell_type": "code",
   "execution_count": 28,
   "metadata": {
    "collapsed": false,
    "scrolled": true
   },
   "outputs": [
    {
     "data": {
      "text/plain": [
       "0.24256625727213962"
      ]
     },
     "execution_count": 28,
     "metadata": {},
     "output_type": "execute_result"
    }
   ],
   "source": [
    "model_users.score(test_X, test_y)"
   ]
  },
  {
   "cell_type": "code",
   "execution_count": null,
   "metadata": {
    "collapsed": true
   },
   "outputs": [],
   "source": []
  }
 ],
 "metadata": {
  "kernelspec": {
   "display_name": "Python 2",
   "language": "python",
   "name": "python2"
  },
  "language_info": {
   "codemirror_mode": {
    "name": "ipython",
    "version": 2
   },
   "file_extension": ".py",
   "mimetype": "text/x-python",
   "name": "python",
   "nbconvert_exporter": "python",
   "pygments_lexer": "ipython2",
   "version": "2.7.11"
  }
 },
 "nbformat": 4,
 "nbformat_minor": 0
}
