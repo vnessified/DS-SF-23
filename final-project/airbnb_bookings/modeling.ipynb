{
 "cells": [
  {
   "cell_type": "code",
   "execution_count": 1,
   "metadata": {
    "collapsed": true
   },
   "outputs": [],
   "source": [
    "import os\n",
    "import numpy as np\n",
    "import pandas as pd\n",
    "import csv\n",
    "import matplotlib.pyplot as plt\n",
    "import seaborn as sns\n",
    "import statsmodels.api as sm\n",
    "import statsmodels.formula.api as smf\n",
    "from sklearn import feature_selection, linear_model, neighbors, ensemble, cross_validation, grid_search, metrics\n",
    "\n",
    "# pd.set_option('display.max_rows', 10)\n",
    "# pd.set_option('display.notebook_repr_html', True)\n",
    "# pd.set_option('display.max_columns', 999)\n",
    "\n",
    "%matplotlib inline\n",
    "plt.style.use('ggplot')"
   ]
  },
  {
   "cell_type": "code",
   "execution_count": 2,
   "metadata": {
    "collapsed": false
   },
   "outputs": [],
   "source": [
    "users = pd.read_csv(os.path.join('datasets', 'airbnb_features.csv'))"
   ]
  },
  {
   "cell_type": "code",
   "execution_count": 3,
   "metadata": {
    "collapsed": false
   },
   "outputs": [
    {
     "data": {
      "text/html": [
       "<div>\n",
       "<table border=\"1\" class=\"dataframe\">\n",
       "  <thead>\n",
       "    <tr style=\"text-align: right;\">\n",
       "      <th></th>\n",
       "      <th>id</th>\n",
       "      <th>gender</th>\n",
       "      <th>age</th>\n",
       "      <th>signup_method</th>\n",
       "      <th>signup_flow</th>\n",
       "      <th>language</th>\n",
       "      <th>affiliate_channel</th>\n",
       "      <th>affiliate_provider</th>\n",
       "      <th>first_affiliate_tracked</th>\n",
       "      <th>signup_app</th>\n",
       "      <th>...</th>\n",
       "      <th>dest_ES</th>\n",
       "      <th>dest_FR</th>\n",
       "      <th>dest_GB</th>\n",
       "      <th>dest_IT</th>\n",
       "      <th>dest_NL</th>\n",
       "      <th>dest_PT</th>\n",
       "      <th>dest_US</th>\n",
       "      <th>dest_other</th>\n",
       "      <th>binary_dest_US</th>\n",
       "      <th>binary_dest_other</th>\n",
       "    </tr>\n",
       "  </thead>\n",
       "  <tbody>\n",
       "    <tr>\n",
       "      <th>0</th>\n",
       "      <td>0</td>\n",
       "      <td>FEMALE</td>\n",
       "      <td>44.0</td>\n",
       "      <td>facebook</td>\n",
       "      <td>zero</td>\n",
       "      <td>en</td>\n",
       "      <td>direct</td>\n",
       "      <td>direct</td>\n",
       "      <td>linked</td>\n",
       "      <td>not-iOS</td>\n",
       "      <td>...</td>\n",
       "      <td>0.0</td>\n",
       "      <td>0.0</td>\n",
       "      <td>0.0</td>\n",
       "      <td>0.0</td>\n",
       "      <td>0.0</td>\n",
       "      <td>0.0</td>\n",
       "      <td>1.0</td>\n",
       "      <td>0.0</td>\n",
       "      <td>1.0</td>\n",
       "      <td>0.0</td>\n",
       "    </tr>\n",
       "    <tr>\n",
       "      <th>1</th>\n",
       "      <td>1</td>\n",
       "      <td>MALE</td>\n",
       "      <td>47.0</td>\n",
       "      <td>basic</td>\n",
       "      <td>zero</td>\n",
       "      <td>en</td>\n",
       "      <td>other</td>\n",
       "      <td>other</td>\n",
       "      <td>tracked-other</td>\n",
       "      <td>not-iOS</td>\n",
       "      <td>...</td>\n",
       "      <td>0.0</td>\n",
       "      <td>0.0</td>\n",
       "      <td>0.0</td>\n",
       "      <td>0.0</td>\n",
       "      <td>0.0</td>\n",
       "      <td>0.0</td>\n",
       "      <td>1.0</td>\n",
       "      <td>0.0</td>\n",
       "      <td>1.0</td>\n",
       "      <td>0.0</td>\n",
       "    </tr>\n",
       "  </tbody>\n",
       "</table>\n",
       "<p>2 rows × 127 columns</p>\n",
       "</div>"
      ],
      "text/plain": [
       "   id  gender   age signup_method signup_flow language affiliate_channel  \\\n",
       "0   0  FEMALE  44.0      facebook        zero       en            direct   \n",
       "1   1    MALE  47.0         basic        zero       en             other   \n",
       "\n",
       "  affiliate_provider first_affiliate_tracked signup_app        ...          \\\n",
       "0             direct                  linked    not-iOS        ...           \n",
       "1              other           tracked-other    not-iOS        ...           \n",
       "\n",
       "  dest_ES dest_FR dest_GB  dest_IT dest_NL  dest_PT  dest_US  dest_other  \\\n",
       "0     0.0     0.0     0.0      0.0     0.0      0.0      1.0         0.0   \n",
       "1     0.0     0.0     0.0      0.0     0.0      0.0      1.0         0.0   \n",
       "\n",
       "   binary_dest_US  binary_dest_other  \n",
       "0             1.0                0.0  \n",
       "1             1.0                0.0  \n",
       "\n",
       "[2 rows x 127 columns]"
      ]
     },
     "execution_count": 3,
     "metadata": {},
     "output_type": "execute_result"
    }
   ],
   "source": [
    "users.head(2)"
   ]
  },
  {
   "cell_type": "code",
   "execution_count": 4,
   "metadata": {
    "collapsed": false
   },
   "outputs": [],
   "source": [
    "users = users[ ['days', 'age_b', 'Gender_MALE', 'signup_basic', 'lang_fr', 'lang_ja', 'lang_pt', \n",
    "                'affiliate_channel_direct','affiliate_provider_direct', 'affiliate_provider_google', 'aff_linked', \n",
    "                'aff_other', 'aff_omg', 'Mac_Desktop','Safari' ]]"
   ]
  },
  {
   "cell_type": "code",
   "execution_count": 5,
   "metadata": {
    "collapsed": true
   },
   "outputs": [],
   "source": [
    "users.rename(columns={\n",
    "'age_b': 'age', 'Gender_MALE': 'gender','signup_basic': 'signup','lang_fr': 'french',\n",
    "'lang_ja': 'japanese','lang_pt': 'portuguese','affiliate_channel_direct': 'direct_affiliate_channel', \n",
    "'affiliate_provider_direct': 'direct_affiliate_provider', 'affiliate_provider_google': 'google_affiliate_provider',\n",
    "'aff_linked':'linked_affiliate', 'aff_other': 'other_affiliate', 'aff_omg': 'omg_affiliate'}, inplace = True)"
   ]
  },
  {
   "cell_type": "code",
   "execution_count": 6,
   "metadata": {
    "collapsed": false
   },
   "outputs": [
    {
     "data": {
      "text/html": [
       "<div>\n",
       "<table border=\"1\" class=\"dataframe\">\n",
       "  <thead>\n",
       "    <tr style=\"text-align: right;\">\n",
       "      <th></th>\n",
       "      <th>days</th>\n",
       "      <th>age</th>\n",
       "      <th>gender</th>\n",
       "      <th>signup</th>\n",
       "      <th>french</th>\n",
       "      <th>japanese</th>\n",
       "      <th>portuguese</th>\n",
       "      <th>direct_affiliate_channel</th>\n",
       "      <th>direct_affiliate_provider</th>\n",
       "      <th>google_affiliate_provider</th>\n",
       "      <th>linked_affiliate</th>\n",
       "      <th>other_affiliate</th>\n",
       "      <th>omg_affiliate</th>\n",
       "      <th>Mac_Desktop</th>\n",
       "      <th>Safari</th>\n",
       "    </tr>\n",
       "  </thead>\n",
       "  <tbody>\n",
       "    <tr>\n",
       "      <th>0</th>\n",
       "      <td>3.0</td>\n",
       "      <td>1.0</td>\n",
       "      <td>0.0</td>\n",
       "      <td>0.0</td>\n",
       "      <td>0.0</td>\n",
       "      <td>0.0</td>\n",
       "      <td>0.0</td>\n",
       "      <td>1.0</td>\n",
       "      <td>1.0</td>\n",
       "      <td>0.0</td>\n",
       "      <td>1.0</td>\n",
       "      <td>0.0</td>\n",
       "      <td>0.0</td>\n",
       "      <td>1.0</td>\n",
       "      <td>1.0</td>\n",
       "    </tr>\n",
       "    <tr>\n",
       "      <th>1</th>\n",
       "      <td>2.0</td>\n",
       "      <td>1.0</td>\n",
       "      <td>1.0</td>\n",
       "      <td>1.0</td>\n",
       "      <td>0.0</td>\n",
       "      <td>0.0</td>\n",
       "      <td>0.0</td>\n",
       "      <td>0.0</td>\n",
       "      <td>0.0</td>\n",
       "      <td>1.0</td>\n",
       "      <td>0.0</td>\n",
       "      <td>1.0</td>\n",
       "      <td>0.0</td>\n",
       "      <td>0.0</td>\n",
       "      <td>0.0</td>\n",
       "    </tr>\n",
       "  </tbody>\n",
       "</table>\n",
       "</div>"
      ],
      "text/plain": [
       "   days  age  gender  signup  french  japanese  portuguese  \\\n",
       "0   3.0  1.0     0.0     0.0     0.0       0.0         0.0   \n",
       "1   2.0  1.0     1.0     1.0     0.0       0.0         0.0   \n",
       "\n",
       "   direct_affiliate_channel  direct_affiliate_provider  \\\n",
       "0                       1.0                        1.0   \n",
       "1                       0.0                        0.0   \n",
       "\n",
       "   google_affiliate_provider  linked_affiliate  other_affiliate  \\\n",
       "0                        0.0               1.0              0.0   \n",
       "1                        1.0               0.0              1.0   \n",
       "\n",
       "   omg_affiliate  Mac_Desktop  Safari  \n",
       "0            0.0          1.0     1.0  \n",
       "1            0.0          0.0     0.0  "
      ]
     },
     "execution_count": 6,
     "metadata": {},
     "output_type": "execute_result"
    }
   ],
   "source": [
    "users.head(2)"
   ]
  },
  {
   "cell_type": "code",
   "execution_count": 7,
   "metadata": {
    "collapsed": false
   },
   "outputs": [
    {
     "data": {
      "text/plain": [
       "(15470, 15)"
      ]
     },
     "execution_count": 7,
     "metadata": {},
     "output_type": "execute_result"
    }
   ],
   "source": [
    "users.shape"
   ]
  },
  {
   "cell_type": "markdown",
   "metadata": {},
   "source": [
    "1. days = booking date - first active date\n",
    "\n",
    "2. age = 1.0 (18-29), 0.0 (30+)\n",
    "3. gender = 1.0 (male), 0.0 (female)\n",
    "\n",
    "4. signup = 1.0 (basic), 0.0 (facebook)\n",
    "5. french = 1.0 (french), 0.0 (other language)\n",
    "6. japanese = 1.0 (japanese), 0.0 (other language)\n",
    "7. portuguese = 1.0 (portuguese), 0.0 (other language)\n",
    "\n",
    "8. direct_affiliate_channel = 1.0 (direct), 0.0 (other affiliate)\n",
    "9. direct_affiliate_provider = 1.0 (direct), 0.0 (other affiliate)\n",
    "10. google_affiliate_provider = 1.0 (google), 0.0 (other affiliate)\n",
    "\n",
    "11. linked_affiliate = 1.0 (linked), 0.0 (other)\n",
    "12. other_affiliate = 1.0 (other), 0.0 (other)\n",
    "13. omg_affiliate = 1.0 (omg), 0.0 (all non-other)\n",
    "\n",
    "14. Mac_Desktop = 1.0 (Mac Desktop), 0.0 (other device)\n",
    "15. Safari = 1.0 (Safari), 0.0 (other browser)"
   ]
  },
  {
   "cell_type": "code",
   "execution_count": 8,
   "metadata": {
    "collapsed": false
   },
   "outputs": [
    {
     "data": {
      "text/html": [
       "<table class=\"simpletable\">\n",
       "<caption>OLS Regression Results</caption>\n",
       "<tr>\n",
       "  <th>Dep. Variable:</th>          <td>days</td>       <th>  R-squared:         </th> <td>   0.016</td> \n",
       "</tr>\n",
       "<tr>\n",
       "  <th>Model:</th>                   <td>OLS</td>       <th>  Adj. R-squared:    </th> <td>   0.015</td> \n",
       "</tr>\n",
       "<tr>\n",
       "  <th>Method:</th>             <td>Least Squares</td>  <th>  F-statistic:       </th> <td>   18.99</td> \n",
       "</tr>\n",
       "<tr>\n",
       "  <th>Date:</th>             <td>Tue, 12 Jul 2016</td> <th>  Prob (F-statistic):</th> <td>7.03e-45</td> \n",
       "</tr>\n",
       "<tr>\n",
       "  <th>Time:</th>                 <td>05:06:50</td>     <th>  Log-Likelihood:    </th> <td> -86479.</td> \n",
       "</tr>\n",
       "<tr>\n",
       "  <th>No. Observations:</th>      <td> 15470</td>      <th>  AIC:               </th> <td>1.730e+05</td>\n",
       "</tr>\n",
       "<tr>\n",
       "  <th>Df Residuals:</th>          <td> 15456</td>      <th>  BIC:               </th> <td>1.731e+05</td>\n",
       "</tr>\n",
       "<tr>\n",
       "  <th>Df Model:</th>              <td>    13</td>      <th>                     </th>     <td> </td>    \n",
       "</tr>\n",
       "<tr>\n",
       "  <th>Covariance Type:</th>      <td>nonrobust</td>    <th>                     </th>     <td> </td>    \n",
       "</tr>\n",
       "</table>\n",
       "<table class=\"simpletable\">\n",
       "<tr>\n",
       "              <td></td>                 <th>coef</th>     <th>std err</th>      <th>t</th>      <th>P>|t|</th> <th>[95.0% Conf. Int.]</th> \n",
       "</tr>\n",
       "<tr>\n",
       "  <th>Intercept</th>                 <td>   27.5626</td> <td>    4.695</td> <td>    5.871</td> <td> 0.000</td> <td>   18.360    36.766</td>\n",
       "</tr>\n",
       "<tr>\n",
       "  <th>age</th>                       <td>    5.9442</td> <td>    1.047</td> <td>    5.678</td> <td> 0.000</td> <td>    3.892     7.996</td>\n",
       "</tr>\n",
       "<tr>\n",
       "  <th>gender</th>                    <td>   -5.6844</td> <td>    1.052</td> <td>   -5.401</td> <td> 0.000</td> <td>   -7.747    -3.621</td>\n",
       "</tr>\n",
       "<tr>\n",
       "  <th>signup</th>                    <td>   -8.0096</td> <td>    1.079</td> <td>   -7.420</td> <td> 0.000</td> <td>  -10.125    -5.894</td>\n",
       "</tr>\n",
       "<tr>\n",
       "  <th>french</th>                    <td>    9.6176</td> <td>    6.546</td> <td>    1.469</td> <td> 0.142</td> <td>   -3.213    22.448</td>\n",
       "</tr>\n",
       "<tr>\n",
       "  <th>japanese</th>                  <td>  -30.0272</td> <td>   14.887</td> <td>   -2.017</td> <td> 0.044</td> <td>  -59.208    -0.847</td>\n",
       "</tr>\n",
       "<tr>\n",
       "  <th>portuguese</th>                <td>   37.0913</td> <td>   17.341</td> <td>    2.139</td> <td> 0.032</td> <td>    3.101    71.081</td>\n",
       "</tr>\n",
       "<tr>\n",
       "  <th>direct_affiliate_channel</th>  <td>   -2.6634</td> <td>    1.013</td> <td>   -2.630</td> <td> 0.009</td> <td>   -4.648    -0.678</td>\n",
       "</tr>\n",
       "<tr>\n",
       "  <th>direct_affiliate_provider</th> <td>   -2.6634</td> <td>    1.013</td> <td>   -2.630</td> <td> 0.009</td> <td>   -4.648    -0.678</td>\n",
       "</tr>\n",
       "<tr>\n",
       "  <th>google_affiliate_provider</th> <td>   -9.8014</td> <td>    2.098</td> <td>   -4.672</td> <td> 0.000</td> <td>  -13.913    -5.690</td>\n",
       "</tr>\n",
       "<tr>\n",
       "  <th>linked_affiliate</th>          <td>   11.8227</td> <td>    4.402</td> <td>    2.686</td> <td> 0.007</td> <td>    3.194    20.452</td>\n",
       "</tr>\n",
       "<tr>\n",
       "  <th>other_affiliate</th>           <td>   21.4340</td> <td>    4.942</td> <td>    4.337</td> <td> 0.000</td> <td>   11.746    31.122</td>\n",
       "</tr>\n",
       "<tr>\n",
       "  <th>omg_affiliate</th>             <td>    9.1495</td> <td>    4.509</td> <td>    2.029</td> <td> 0.042</td> <td>    0.311    17.989</td>\n",
       "</tr>\n",
       "<tr>\n",
       "  <th>Mac_Desktop</th>               <td>    3.3886</td> <td>    1.254</td> <td>    2.703</td> <td> 0.007</td> <td>    0.931     5.846</td>\n",
       "</tr>\n",
       "<tr>\n",
       "  <th>Safari</th>                    <td>    1.8300</td> <td>    1.425</td> <td>    1.285</td> <td> 0.199</td> <td>   -0.962     4.622</td>\n",
       "</tr>\n",
       "</table>\n",
       "<table class=\"simpletable\">\n",
       "<tr>\n",
       "  <th>Omnibus:</th>       <td>9285.454</td> <th>  Durbin-Watson:     </th> <td>   1.894</td> \n",
       "</tr>\n",
       "<tr>\n",
       "  <th>Prob(Omnibus):</th>  <td> 0.000</td>  <th>  Jarque-Bera (JB):  </th> <td>70464.080</td>\n",
       "</tr>\n",
       "<tr>\n",
       "  <th>Skew:</th>           <td> 2.925</td>  <th>  Prob(JB):          </th> <td>    0.00</td> \n",
       "</tr>\n",
       "<tr>\n",
       "  <th>Kurtosis:</th>       <td>11.665</td>  <th>  Cond. No.          </th> <td>2.77e+16</td> \n",
       "</tr>\n",
       "</table>"
      ],
      "text/plain": [
       "<class 'statsmodels.iolib.summary.Summary'>\n",
       "\"\"\"\n",
       "                            OLS Regression Results                            \n",
       "==============================================================================\n",
       "Dep. Variable:                   days   R-squared:                       0.016\n",
       "Model:                            OLS   Adj. R-squared:                  0.015\n",
       "Method:                 Least Squares   F-statistic:                     18.99\n",
       "Date:                Tue, 12 Jul 2016   Prob (F-statistic):           7.03e-45\n",
       "Time:                        05:06:50   Log-Likelihood:                -86479.\n",
       "No. Observations:               15470   AIC:                         1.730e+05\n",
       "Df Residuals:                   15456   BIC:                         1.731e+05\n",
       "Df Model:                          13                                         \n",
       "Covariance Type:            nonrobust                                         \n",
       "=============================================================================================\n",
       "                                coef    std err          t      P>|t|      [95.0% Conf. Int.]\n",
       "---------------------------------------------------------------------------------------------\n",
       "Intercept                    27.5626      4.695      5.871      0.000        18.360    36.766\n",
       "age                           5.9442      1.047      5.678      0.000         3.892     7.996\n",
       "gender                       -5.6844      1.052     -5.401      0.000        -7.747    -3.621\n",
       "signup                       -8.0096      1.079     -7.420      0.000       -10.125    -5.894\n",
       "french                        9.6176      6.546      1.469      0.142        -3.213    22.448\n",
       "japanese                    -30.0272     14.887     -2.017      0.044       -59.208    -0.847\n",
       "portuguese                   37.0913     17.341      2.139      0.032         3.101    71.081\n",
       "direct_affiliate_channel     -2.6634      1.013     -2.630      0.009        -4.648    -0.678\n",
       "direct_affiliate_provider    -2.6634      1.013     -2.630      0.009        -4.648    -0.678\n",
       "google_affiliate_provider    -9.8014      2.098     -4.672      0.000       -13.913    -5.690\n",
       "linked_affiliate             11.8227      4.402      2.686      0.007         3.194    20.452\n",
       "other_affiliate              21.4340      4.942      4.337      0.000        11.746    31.122\n",
       "omg_affiliate                 9.1495      4.509      2.029      0.042         0.311    17.989\n",
       "Mac_Desktop                   3.3886      1.254      2.703      0.007         0.931     5.846\n",
       "Safari                        1.8300      1.425      1.285      0.199        -0.962     4.622\n",
       "==============================================================================\n",
       "Omnibus:                     9285.454   Durbin-Watson:                   1.894\n",
       "Prob(Omnibus):                  0.000   Jarque-Bera (JB):            70464.080\n",
       "Skew:                           2.925   Prob(JB):                         0.00\n",
       "Kurtosis:                      11.665   Cond. No.                     2.77e+16\n",
       "==============================================================================\n",
       "\n",
       "Warnings:\n",
       "[1] Standard Errors assume that the covariance matrix of the errors is correctly specified.\n",
       "[2] The smallest eigenvalue is 6.9e-29. This might indicate that there are\n",
       "strong multicollinearity problems or that the design matrix is singular.\n",
       "\"\"\""
      ]
     },
     "execution_count": 8,
     "metadata": {},
     "output_type": "execute_result"
    }
   ],
   "source": [
    "smf.ols(formula = \n",
    "'days ~ age + gender + signup + french + japanese + portuguese + direct_affiliate_channel + direct_affiliate_provider + google_affiliate_provider + linked_affiliate + other_affiliate + omg_affiliate + Mac_Desktop + Safari', \n",
    "data = users).fit().summary()"
   ]
  },
  {
   "cell_type": "code",
   "execution_count": 9,
   "metadata": {
    "collapsed": true
   },
   "outputs": [],
   "source": [
    "bins = [0, 1, 2]"
   ]
  },
  {
   "cell_type": "code",
   "execution_count": 10,
   "metadata": {
    "collapsed": true
   },
   "outputs": [],
   "source": [
    "group_names = ['0', '1']"
   ]
  },
  {
   "cell_type": "code",
   "execution_count": 11,
   "metadata": {
    "collapsed": false
   },
   "outputs": [
    {
     "data": {
      "text/plain": [
       "0    2695\n",
       "1    1241\n",
       "dtype: int64"
      ]
     },
     "execution_count": 11,
     "metadata": {},
     "output_type": "execute_result"
    }
   ],
   "source": [
    "days_binary = pd.cut(users['days'], bins, labels=group_names)\n",
    "users['days_binary'] = pd.cut(users['days'], bins, labels=group_names)\n",
    "users.days_binary.value_counts()"
   ]
  },
  {
   "cell_type": "code",
   "execution_count": 12,
   "metadata": {
    "collapsed": false
   },
   "outputs": [
    {
     "data": {
      "text/plain": [
       "3889"
      ]
     },
     "execution_count": 12,
     "metadata": {},
     "output_type": "execute_result"
    }
   ],
   "source": [
    "sum(users.days == 0)"
   ]
  },
  {
   "cell_type": "code",
   "execution_count": 13,
   "metadata": {
    "collapsed": false
   },
   "outputs": [
    {
     "data": {
      "text/plain": [
       "11581"
      ]
     },
     "execution_count": 13,
     "metadata": {},
     "output_type": "execute_result"
    }
   ],
   "source": [
    "sum(users.days > 0)"
   ]
  },
  {
   "cell_type": "code",
   "execution_count": 14,
   "metadata": {
    "collapsed": false
   },
   "outputs": [
    {
     "data": {
      "text/plain": [
       "15470"
      ]
     },
     "execution_count": 14,
     "metadata": {},
     "output_type": "execute_result"
    }
   ],
   "source": [
    "3889+11581"
   ]
  },
  {
   "cell_type": "code",
   "execution_count": 15,
   "metadata": {
    "collapsed": true
   },
   "outputs": [],
   "source": [
    "users.days = np.where(users.days !=0, 1, 0)"
   ]
  },
  {
   "cell_type": "code",
   "execution_count": 16,
   "metadata": {
    "collapsed": false
   },
   "outputs": [
    {
     "data": {
      "text/plain": [
       "dtype('int64')"
      ]
     },
     "execution_count": 16,
     "metadata": {},
     "output_type": "execute_result"
    }
   ],
   "source": [
    "users.days.dtype"
   ]
  },
  {
   "cell_type": "code",
   "execution_count": 17,
   "metadata": {
    "collapsed": true
   },
   "outputs": [],
   "source": [
    "train_users = users.sample(frac = .6, random_state = 0)\n",
    "test_users = users.drop(train_users.index)"
   ]
  },
  {
   "cell_type": "code",
   "execution_count": 18,
   "metadata": {
    "collapsed": false
   },
   "outputs": [],
   "source": [
    "train_X = train_users[['age','gender','signup','french','japanese','portuguese','direct_affiliate_channel',\n",
    "                       'direct_affiliate_provider','google_affiliate_provider','linked_affiliate','other_affiliate',\n",
    "                       'omg_affiliate','Mac_Desktop','Safari']]\n",
    "train_y = train_users.days\n",
    "\n",
    "\n",
    "test_X = test_users[['age','gender','signup','french','japanese','portuguese','direct_affiliate_channel',\n",
    "                       'direct_affiliate_provider','google_affiliate_provider','linked_affiliate','other_affiliate',\n",
    "                       'omg_affiliate','Mac_Desktop','Safari']]\n",
    "test_y = test_users.days"
   ]
  },
  {
   "cell_type": "code",
   "execution_count": 19,
   "metadata": {
    "collapsed": false
   },
   "outputs": [
    {
     "data": {
      "text/plain": [
       "LogisticRegression(C=1.0, class_weight=None, dual=False, fit_intercept=True,\n",
       "          intercept_scaling=1, max_iter=100, multi_class='ovr', n_jobs=1,\n",
       "          penalty='l2', random_state=None, solver='liblinear', tol=0.0001,\n",
       "          verbose=0, warm_start=False)"
      ]
     },
     "execution_count": 19,
     "metadata": {},
     "output_type": "execute_result"
    }
   ],
   "source": [
    "logmodel = linear_model.LogisticRegression()\n",
    "logmodel.fit(train_X, train_y)"
   ]
  },
  {
   "cell_type": "code",
   "execution_count": 20,
   "metadata": {
    "collapsed": false
   },
   "outputs": [
    {
     "data": {
      "text/plain": [
       "0.74682180564533507"
      ]
     },
     "execution_count": 20,
     "metadata": {},
     "output_type": "execute_result"
    }
   ],
   "source": [
    "logmodel.score(train_X, train_y)"
   ]
  },
  {
   "cell_type": "code",
   "execution_count": 21,
   "metadata": {
    "collapsed": false
   },
   "outputs": [
    {
     "data": {
      "text/plain": [
       "0.75129282482223658"
      ]
     },
     "execution_count": 21,
     "metadata": {},
     "output_type": "execute_result"
    }
   ],
   "source": [
    "logmodel.score(test_X, test_y)"
   ]
  },
  {
   "cell_type": "code",
   "execution_count": 22,
   "metadata": {
    "collapsed": false
   },
   "outputs": [
    {
     "data": {
      "text/plain": [
       "KNeighborsClassifier(algorithm='auto', leaf_size=30, metric='minkowski',\n",
       "           metric_params=None, n_jobs=1, n_neighbors=5, p=2,\n",
       "           weights='distance')"
      ]
     },
     "execution_count": 22,
     "metadata": {},
     "output_type": "execute_result"
    }
   ],
   "source": [
    "knnmodel = neighbors.KNeighborsClassifier(n_neighbors = 5, weights = 'distance')\n",
    "knnmodel.fit(train_X, train_y)"
   ]
  },
  {
   "cell_type": "code",
   "execution_count": 23,
   "metadata": {
    "collapsed": false
   },
   "outputs": [
    {
     "data": {
      "text/plain": [
       "0.69909522217889442"
      ]
     },
     "execution_count": 23,
     "metadata": {},
     "output_type": "execute_result"
    }
   ],
   "source": [
    "cross_validation.cross_val_score(knnmodel, train_X, train_y, cv = 5).mean()"
   ]
  },
  {
   "cell_type": "code",
   "execution_count": 24,
   "metadata": {
    "collapsed": false
   },
   "outputs": [
    {
     "data": {
      "text/plain": [
       "0.70006464124111178"
      ]
     },
     "execution_count": 24,
     "metadata": {},
     "output_type": "execute_result"
    }
   ],
   "source": [
    "knnmodel.score(test_X, test_y)"
   ]
  },
  {
   "cell_type": "code",
   "execution_count": 25,
   "metadata": {
    "collapsed": false
   },
   "outputs": [
    {
     "data": {
      "text/plain": [
       "RandomForestClassifier(bootstrap=True, class_weight=None, criterion='gini',\n",
       "            max_depth=None, max_features='auto', max_leaf_nodes=None,\n",
       "            min_samples_leaf=1, min_samples_split=2,\n",
       "            min_weight_fraction_leaf=0.0, n_estimators=1000, n_jobs=1,\n",
       "            oob_score=True, random_state=None, verbose=0, warm_start=False)"
      ]
     },
     "execution_count": 25,
     "metadata": {},
     "output_type": "execute_result"
    }
   ],
   "source": [
    "rfmodel = ensemble.RandomForestClassifier(n_estimators = 1000, oob_score = True)\n",
    "\n",
    "rfmodel.fit(train_X, train_y)"
   ]
  },
  {
   "cell_type": "code",
   "execution_count": 26,
   "metadata": {
    "collapsed": false
   },
   "outputs": [
    {
     "data": {
      "text/plain": [
       "0.74272786037491922"
      ]
     },
     "execution_count": 26,
     "metadata": {},
     "output_type": "execute_result"
    }
   ],
   "source": [
    "rfmodel.oob_score_"
   ]
  },
  {
   "cell_type": "code",
   "execution_count": 27,
   "metadata": {
    "collapsed": false
   },
   "outputs": [
    {
     "data": {
      "text/plain": [
       "0.7402493825785007"
      ]
     },
     "execution_count": 27,
     "metadata": {},
     "output_type": "execute_result"
    }
   ],
   "source": [
    "cross_validation.cross_val_score(rfmodel, train_X, train_y, cv = 5).mean()"
   ]
  },
  {
   "cell_type": "code",
   "execution_count": 28,
   "metadata": {
    "collapsed": false
   },
   "outputs": [
    {
     "data": {
      "text/plain": [
       "0.74806076276664513"
      ]
     },
     "execution_count": 28,
     "metadata": {},
     "output_type": "execute_result"
    }
   ],
   "source": [
    "rfmodel.score(test_X, test_y)"
   ]
  },
  {
   "cell_type": "code",
   "execution_count": null,
   "metadata": {
    "collapsed": true
   },
   "outputs": [],
   "source": []
  }
 ],
 "metadata": {
  "kernelspec": {
   "display_name": "Python 2",
   "language": "python",
   "name": "python2"
  },
  "language_info": {
   "codemirror_mode": {
    "name": "ipython",
    "version": 2
   },
   "file_extension": ".py",
   "mimetype": "text/x-python",
   "name": "python",
   "nbconvert_exporter": "python",
   "pygments_lexer": "ipython2",
   "version": "2.7.11"
  }
 },
 "nbformat": 4,
 "nbformat_minor": 0
}
