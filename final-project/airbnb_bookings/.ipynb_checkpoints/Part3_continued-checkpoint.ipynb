{
 "cells": [
  {
   "cell_type": "markdown",
   "metadata": {},
   "source": [
    "# DS-SF-23 Final Project\n",
    "### [Predicting Airbnb bookings](https://docs.google.com/presentation/d/1FVTTS478OCozncuxhWlaJr5ZkUGrMPHfKJ6uLm4Hsuw/edit?usp=sharing)\n",
    "Vanessa Grass, July 12th 2016"
   ]
  },
  {
   "cell_type": "markdown",
   "metadata": {},
   "source": [
    "______________________________________________________________________________________________________________________"
   ]
  },
  {
   "cell_type": "markdown",
   "metadata": {},
   "source": [
    "# Part 3 continued: Exploratory Data Analysis\n",
    "Below I essentially get the lag from first active to first booking. First I get the time delta in days, then convert to hours, only to realize that while first active has hours, minutes, seconds first — booking does not, thus yielding a negative time delta as first booking defaulta to a midnight timestamp. I also do some additional exploratory analysis on the first active to first booking lag. Lastly, I export the resulting dataframe with the newly created days column to csv.\n"
   ]
  },
  {
   "cell_type": "markdown",
   "metadata": {},
   "source": [
    "## Import Libraries"
   ]
  },
  {
   "cell_type": "code",
   "execution_count": 1,
   "metadata": {
    "collapsed": true
   },
   "outputs": [],
   "source": [
    "import os\n",
    "import numpy as np\n",
    "import pandas as pd\n",
    "import datetime\n",
    "import csv\n",
    "import matplotlib.pyplot as plt\n",
    "import statsmodels.formula.api as smf\n",
    "\n",
    "# pd.set_option('display.max_rows', 10)\n",
    "# pd.set_option('display.notebook_repr_html', True)\n",
    "# pd.set_option('display.max_columns', 10)\n",
    "\n",
    "%matplotlib inline\n",
    "plt.style.use('ggplot')"
   ]
  },
  {
   "cell_type": "markdown",
   "metadata": {},
   "source": [
    "## Import Data"
   ]
  },
  {
   "cell_type": "code",
   "execution_count": 2,
   "metadata": {
    "collapsed": false
   },
   "outputs": [
    {
     "data": {
      "text/html": [
       "<div>\n",
       "<table border=\"1\" class=\"dataframe\">\n",
       "  <thead>\n",
       "    <tr style=\"text-align: right;\">\n",
       "      <th></th>\n",
       "      <th>account</th>\n",
       "      <th>active</th>\n",
       "      <th>booked</th>\n",
       "      <th>gender</th>\n",
       "      <th>age</th>\n",
       "      <th>signup_method</th>\n",
       "      <th>signup_flow</th>\n",
       "      <th>language</th>\n",
       "      <th>affiliate_channel</th>\n",
       "      <th>affiliate_provider</th>\n",
       "      <th>first_affiliate_tracked</th>\n",
       "      <th>signup_app</th>\n",
       "      <th>first_device_type</th>\n",
       "      <th>first_browser</th>\n",
       "      <th>country_destination</th>\n",
       "    </tr>\n",
       "    <tr>\n",
       "      <th>id</th>\n",
       "      <th></th>\n",
       "      <th></th>\n",
       "      <th></th>\n",
       "      <th></th>\n",
       "      <th></th>\n",
       "      <th></th>\n",
       "      <th></th>\n",
       "      <th></th>\n",
       "      <th></th>\n",
       "      <th></th>\n",
       "      <th></th>\n",
       "      <th></th>\n",
       "      <th></th>\n",
       "      <th></th>\n",
       "      <th></th>\n",
       "    </tr>\n",
       "  </thead>\n",
       "  <tbody>\n",
       "    <tr>\n",
       "      <th>5ozmhime8v</th>\n",
       "      <td>2013-01-02:00:00:00</td>\n",
       "      <td>2013-01-02:01:48:12</td>\n",
       "      <td>2013-01-05:00:00:00</td>\n",
       "      <td>FEMALE</td>\n",
       "      <td>44.0</td>\n",
       "      <td>facebook</td>\n",
       "      <td>0</td>\n",
       "      <td>en</td>\n",
       "      <td>direct</td>\n",
       "      <td>direct</td>\n",
       "      <td>linked</td>\n",
       "      <td>Web</td>\n",
       "      <td>Mac Desktop</td>\n",
       "      <td>Safari</td>\n",
       "      <td>US</td>\n",
       "    </tr>\n",
       "    <tr>\n",
       "      <th>2llh6fo1cp</th>\n",
       "      <td>2013-01-02:00:00:00</td>\n",
       "      <td>2013-01-02:01:57:46</td>\n",
       "      <td>2013-01-04:00:00:00</td>\n",
       "      <td>MALE</td>\n",
       "      <td>47.0</td>\n",
       "      <td>basic</td>\n",
       "      <td>0</td>\n",
       "      <td>en</td>\n",
       "      <td>sem-brand</td>\n",
       "      <td>google</td>\n",
       "      <td>tracked-other</td>\n",
       "      <td>Web</td>\n",
       "      <td>iPad</td>\n",
       "      <td>Mobile Safari</td>\n",
       "      <td>US</td>\n",
       "    </tr>\n",
       "    <tr>\n",
       "      <th>n4o9woov3x</th>\n",
       "      <td>2013-01-02:00:00:00</td>\n",
       "      <td>2013-01-02:03:20:05</td>\n",
       "      <td>2013-03-11:00:00:00</td>\n",
       "      <td>FEMALE</td>\n",
       "      <td>56.0</td>\n",
       "      <td>facebook</td>\n",
       "      <td>0</td>\n",
       "      <td>en</td>\n",
       "      <td>direct</td>\n",
       "      <td>direct</td>\n",
       "      <td>linked</td>\n",
       "      <td>Web</td>\n",
       "      <td>Mac Desktop</td>\n",
       "      <td>Safari</td>\n",
       "      <td>US</td>\n",
       "    </tr>\n",
       "  </tbody>\n",
       "</table>\n",
       "</div>"
      ],
      "text/plain": [
       "                        account               active               booked  \\\n",
       "id                                                                          \n",
       "5ozmhime8v  2013-01-02:00:00:00  2013-01-02:01:48:12  2013-01-05:00:00:00   \n",
       "2llh6fo1cp  2013-01-02:00:00:00  2013-01-02:01:57:46  2013-01-04:00:00:00   \n",
       "n4o9woov3x  2013-01-02:00:00:00  2013-01-02:03:20:05  2013-03-11:00:00:00   \n",
       "\n",
       "            gender   age signup_method  signup_flow language  \\\n",
       "id                                                             \n",
       "5ozmhime8v  FEMALE  44.0      facebook            0       en   \n",
       "2llh6fo1cp    MALE  47.0         basic            0       en   \n",
       "n4o9woov3x  FEMALE  56.0      facebook            0       en   \n",
       "\n",
       "           affiliate_channel affiliate_provider first_affiliate_tracked  \\\n",
       "id                                                                        \n",
       "5ozmhime8v            direct             direct                  linked   \n",
       "2llh6fo1cp         sem-brand             google           tracked-other   \n",
       "n4o9woov3x            direct             direct                  linked   \n",
       "\n",
       "           signup_app first_device_type  first_browser country_destination  \n",
       "id                                                                          \n",
       "5ozmhime8v        Web       Mac Desktop         Safari                  US  \n",
       "2llh6fo1cp        Web              iPad  Mobile Safari                  US  \n",
       "n4o9woov3x        Web       Mac Desktop         Safari                  US  "
      ]
     },
     "execution_count": 2,
     "metadata": {},
     "output_type": "execute_result"
    }
   ],
   "source": [
    "users = pd.read_csv(os.path.join('datasets', 'airbnb_clean.csv'), index_col = 'id')\n",
    "users.head(3)"
   ]
  },
  {
   "cell_type": "markdown",
   "metadata": {},
   "source": [
    "## Additional clean up & Analysis"
   ]
  },
  {
   "cell_type": "markdown",
   "metadata": {},
   "source": [
    "#### Looking into active -> booked in hours"
   ]
  },
  {
   "cell_type": "code",
   "execution_count": 3,
   "metadata": {
    "collapsed": false
   },
   "outputs": [
    {
     "data": {
      "text/plain": [
       "account    object\n",
       "active     object\n",
       "booked     object\n",
       "dtype: object"
      ]
     },
     "execution_count": 3,
     "metadata": {},
     "output_type": "execute_result"
    }
   ],
   "source": [
    "#check datatypes of timestamps \n",
    "users.dtypes.head(3)"
   ]
  },
  {
   "cell_type": "code",
   "execution_count": 4,
   "metadata": {
    "collapsed": false
   },
   "outputs": [],
   "source": [
    "#convert to datetime again\n",
    "users['account'] = pd.to_datetime(users['account'], format='%Y-%m-%d:%H:%M:%S')\n",
    "users['booked'] = pd.to_datetime(users['booked'], format='%Y-%m-%d:%H:%M:%S')\n",
    "users['active'] = pd.to_datetime(users['active'], format='%Y-%m-%d:%H:%M:%S')"
   ]
  },
  {
   "cell_type": "code",
   "execution_count": 5,
   "metadata": {
    "collapsed": false
   },
   "outputs": [
    {
     "data": {
      "text/html": [
       "<div>\n",
       "<table border=\"1\" class=\"dataframe\">\n",
       "  <thead>\n",
       "    <tr style=\"text-align: right;\">\n",
       "      <th></th>\n",
       "      <th>account</th>\n",
       "      <th>active</th>\n",
       "      <th>booked</th>\n",
       "      <th>gender</th>\n",
       "      <th>age</th>\n",
       "      <th>signup_method</th>\n",
       "      <th>signup_flow</th>\n",
       "      <th>language</th>\n",
       "      <th>affiliate_channel</th>\n",
       "      <th>affiliate_provider</th>\n",
       "      <th>first_affiliate_tracked</th>\n",
       "      <th>signup_app</th>\n",
       "      <th>first_device_type</th>\n",
       "      <th>first_browser</th>\n",
       "      <th>country_destination</th>\n",
       "    </tr>\n",
       "    <tr>\n",
       "      <th>id</th>\n",
       "      <th></th>\n",
       "      <th></th>\n",
       "      <th></th>\n",
       "      <th></th>\n",
       "      <th></th>\n",
       "      <th></th>\n",
       "      <th></th>\n",
       "      <th></th>\n",
       "      <th></th>\n",
       "      <th></th>\n",
       "      <th></th>\n",
       "      <th></th>\n",
       "      <th></th>\n",
       "      <th></th>\n",
       "      <th></th>\n",
       "    </tr>\n",
       "  </thead>\n",
       "  <tbody>\n",
       "    <tr>\n",
       "      <th>5ozmhime8v</th>\n",
       "      <td>2013-01-02</td>\n",
       "      <td>2013-01-02 01:48:12</td>\n",
       "      <td>2013-01-05</td>\n",
       "      <td>FEMALE</td>\n",
       "      <td>44.0</td>\n",
       "      <td>facebook</td>\n",
       "      <td>0</td>\n",
       "      <td>en</td>\n",
       "      <td>direct</td>\n",
       "      <td>direct</td>\n",
       "      <td>linked</td>\n",
       "      <td>Web</td>\n",
       "      <td>Mac Desktop</td>\n",
       "      <td>Safari</td>\n",
       "      <td>US</td>\n",
       "    </tr>\n",
       "  </tbody>\n",
       "</table>\n",
       "</div>"
      ],
      "text/plain": [
       "              account              active     booked  gender   age  \\\n",
       "id                                                                   \n",
       "5ozmhime8v 2013-01-02 2013-01-02 01:48:12 2013-01-05  FEMALE  44.0   \n",
       "\n",
       "           signup_method  signup_flow language affiliate_channel  \\\n",
       "id                                                                 \n",
       "5ozmhime8v      facebook            0       en            direct   \n",
       "\n",
       "           affiliate_provider first_affiliate_tracked signup_app  \\\n",
       "id                                                                 \n",
       "5ozmhime8v             direct                  linked        Web   \n",
       "\n",
       "           first_device_type first_browser country_destination  \n",
       "id                                                              \n",
       "5ozmhime8v       Mac Desktop        Safari                  US  "
      ]
     },
     "execution_count": 5,
     "metadata": {},
     "output_type": "execute_result"
    }
   ],
   "source": [
    "users.head(1)"
   ]
  },
  {
   "cell_type": "code",
   "execution_count": 6,
   "metadata": {
    "collapsed": true
   },
   "outputs": [],
   "source": [
    "#trying to get the 00:00:00 back for account & booked\n",
    "users['account']=users['account'].apply(pd.datetools.normalize_date)"
   ]
  },
  {
   "cell_type": "code",
   "execution_count": 7,
   "metadata": {
    "collapsed": false
   },
   "outputs": [
    {
     "data": {
      "text/html": [
       "<div>\n",
       "<table border=\"1\" class=\"dataframe\">\n",
       "  <thead>\n",
       "    <tr style=\"text-align: right;\">\n",
       "      <th></th>\n",
       "      <th>account</th>\n",
       "      <th>active</th>\n",
       "      <th>booked</th>\n",
       "      <th>gender</th>\n",
       "      <th>age</th>\n",
       "      <th>signup_method</th>\n",
       "      <th>signup_flow</th>\n",
       "      <th>language</th>\n",
       "      <th>affiliate_channel</th>\n",
       "      <th>affiliate_provider</th>\n",
       "      <th>first_affiliate_tracked</th>\n",
       "      <th>signup_app</th>\n",
       "      <th>first_device_type</th>\n",
       "      <th>first_browser</th>\n",
       "      <th>country_destination</th>\n",
       "    </tr>\n",
       "    <tr>\n",
       "      <th>id</th>\n",
       "      <th></th>\n",
       "      <th></th>\n",
       "      <th></th>\n",
       "      <th></th>\n",
       "      <th></th>\n",
       "      <th></th>\n",
       "      <th></th>\n",
       "      <th></th>\n",
       "      <th></th>\n",
       "      <th></th>\n",
       "      <th></th>\n",
       "      <th></th>\n",
       "      <th></th>\n",
       "      <th></th>\n",
       "      <th></th>\n",
       "    </tr>\n",
       "  </thead>\n",
       "  <tbody>\n",
       "    <tr>\n",
       "      <th>5ozmhime8v</th>\n",
       "      <td>2013-01-02</td>\n",
       "      <td>2013-01-02 01:48:12</td>\n",
       "      <td>2013-01-05</td>\n",
       "      <td>FEMALE</td>\n",
       "      <td>44.0</td>\n",
       "      <td>facebook</td>\n",
       "      <td>0</td>\n",
       "      <td>en</td>\n",
       "      <td>direct</td>\n",
       "      <td>direct</td>\n",
       "      <td>linked</td>\n",
       "      <td>Web</td>\n",
       "      <td>Mac Desktop</td>\n",
       "      <td>Safari</td>\n",
       "      <td>US</td>\n",
       "    </tr>\n",
       "  </tbody>\n",
       "</table>\n",
       "</div>"
      ],
      "text/plain": [
       "              account              active     booked  gender   age  \\\n",
       "id                                                                   \n",
       "5ozmhime8v 2013-01-02 2013-01-02 01:48:12 2013-01-05  FEMALE  44.0   \n",
       "\n",
       "           signup_method  signup_flow language affiliate_channel  \\\n",
       "id                                                                 \n",
       "5ozmhime8v      facebook            0       en            direct   \n",
       "\n",
       "           affiliate_provider first_affiliate_tracked signup_app  \\\n",
       "id                                                                 \n",
       "5ozmhime8v             direct                  linked        Web   \n",
       "\n",
       "           first_device_type first_browser country_destination  \n",
       "id                                                              \n",
       "5ozmhime8v       Mac Desktop        Safari                  US  "
      ]
     },
     "execution_count": 7,
     "metadata": {},
     "output_type": "execute_result"
    }
   ],
   "source": [
    "#didn't work :(\n",
    "users.head(1)"
   ]
  },
  {
   "cell_type": "code",
   "execution_count": 8,
   "metadata": {
    "collapsed": true
   },
   "outputs": [],
   "source": [
    "#getting timedelta between active -> booked\n",
    "users['active_to_booked'] = users['booked'] - users['active']"
   ]
  },
  {
   "cell_type": "code",
   "execution_count": 9,
   "metadata": {
    "collapsed": false
   },
   "outputs": [
    {
     "data": {
      "text/plain": [
       "count                       15508\n",
       "mean      29 days 04:42:46.842661\n",
       "std       65 days 08:57:19.320619\n",
       "min             -1 days +00:05:14\n",
       "25%      -1 days +23:57:03.500000\n",
       "50%               1 days 22:16:21\n",
       "75%       17 days 16:02:57.500000\n",
       "max             364 days 23:25:13\n",
       "Name: active_to_booked, dtype: object"
      ]
     },
     "execution_count": 9,
     "metadata": {},
     "output_type": "execute_result"
    }
   ],
   "source": [
    "#fairly large std and negative numbers don't make sense here\n",
    "users['active_to_booked'].describe()"
   ]
  },
  {
   "cell_type": "code",
   "execution_count": 10,
   "metadata": {
    "collapsed": false
   },
   "outputs": [
    {
     "data": {
      "text/plain": [
       "3894"
      ]
     },
     "execution_count": 10,
     "metadata": {},
     "output_type": "execute_result"
    }
   ],
   "source": [
    "#when booking occurs \"before\" active\n",
    "sum(users.booked < users.active)"
   ]
  },
  {
   "cell_type": "code",
   "execution_count": 11,
   "metadata": {
    "collapsed": false
   },
   "outputs": [
    {
     "data": {
      "text/plain": [
       "11614"
      ]
     },
     "execution_count": 11,
     "metadata": {},
     "output_type": "execute_result"
    }
   ],
   "source": [
    "#when booking occurs after active - which makes sense\n",
    "sum(users.booked > users.active)"
   ]
  },
  {
   "cell_type": "code",
   "execution_count": 12,
   "metadata": {
    "collapsed": false
   },
   "outputs": [],
   "source": [
    "#converting to hours\n",
    "users['active_to_booked'] = ((users['active_to_booked'] / np.timedelta64(1, 's'))/3600.0)"
   ]
  },
  {
   "cell_type": "code",
   "execution_count": 13,
   "metadata": {
    "collapsed": false
   },
   "outputs": [
    {
     "data": {
      "text/html": [
       "<div>\n",
       "<table border=\"1\" class=\"dataframe\">\n",
       "  <thead>\n",
       "    <tr style=\"text-align: right;\">\n",
       "      <th></th>\n",
       "      <th>active_to_booked</th>\n",
       "    </tr>\n",
       "    <tr>\n",
       "      <th>id</th>\n",
       "      <th></th>\n",
       "    </tr>\n",
       "  </thead>\n",
       "  <tbody>\n",
       "    <tr>\n",
       "      <th>5ozmhime8v</th>\n",
       "      <td>70.196667</td>\n",
       "    </tr>\n",
       "    <tr>\n",
       "      <th>2llh6fo1cp</th>\n",
       "      <td>46.037222</td>\n",
       "    </tr>\n",
       "    <tr>\n",
       "      <th>n4o9woov3x</th>\n",
       "      <td>1628.665278</td>\n",
       "    </tr>\n",
       "    <tr>\n",
       "      <th>q7a55cobxp</th>\n",
       "      <td>332.262500</td>\n",
       "    </tr>\n",
       "    <tr>\n",
       "      <th>9dz0er4rej</th>\n",
       "      <td>427.971111</td>\n",
       "    </tr>\n",
       "  </tbody>\n",
       "</table>\n",
       "</div>"
      ],
      "text/plain": [
       "            active_to_booked\n",
       "id                          \n",
       "5ozmhime8v         70.196667\n",
       "2llh6fo1cp         46.037222\n",
       "n4o9woov3x       1628.665278\n",
       "q7a55cobxp        332.262500\n",
       "9dz0er4rej        427.971111"
      ]
     },
     "execution_count": 13,
     "metadata": {},
     "output_type": "execute_result"
    }
   ],
   "source": [
    "#checking results\n",
    "users[ ['active_to_booked'] ].head()"
   ]
  },
  {
   "cell_type": "code",
   "execution_count": 14,
   "metadata": {
    "collapsed": false
   },
   "outputs": [
    {
     "data": {
      "text/html": [
       "<div>\n",
       "<table border=\"1\" class=\"dataframe\">\n",
       "  <thead>\n",
       "    <tr style=\"text-align: right;\">\n",
       "      <th></th>\n",
       "      <th>active</th>\n",
       "      <th>booked</th>\n",
       "      <th>active_to_booked</th>\n",
       "    </tr>\n",
       "    <tr>\n",
       "      <th>id</th>\n",
       "      <th></th>\n",
       "      <th></th>\n",
       "      <th></th>\n",
       "    </tr>\n",
       "  </thead>\n",
       "  <tbody>\n",
       "    <tr>\n",
       "      <th>08nydybna2</th>\n",
       "      <td>2013-01-02 19:15:43</td>\n",
       "      <td>2013-01-02</td>\n",
       "      <td>-19.261944</td>\n",
       "    </tr>\n",
       "    <tr>\n",
       "      <th>qjzv22qxit</th>\n",
       "      <td>2013-01-03 02:25:52</td>\n",
       "      <td>2013-01-03</td>\n",
       "      <td>-2.431111</td>\n",
       "    </tr>\n",
       "    <tr>\n",
       "      <th>gkhgow5fln</th>\n",
       "      <td>2013-01-03 02:27:21</td>\n",
       "      <td>2013-01-03</td>\n",
       "      <td>-2.455833</td>\n",
       "    </tr>\n",
       "    <tr>\n",
       "      <th>usv849q0nk</th>\n",
       "      <td>2013-01-03 04:09:53</td>\n",
       "      <td>2013-01-03</td>\n",
       "      <td>-4.164722</td>\n",
       "    </tr>\n",
       "    <tr>\n",
       "      <th>35i47hzjt2</th>\n",
       "      <td>2013-01-03 05:35:03</td>\n",
       "      <td>2013-01-03</td>\n",
       "      <td>-5.584167</td>\n",
       "    </tr>\n",
       "  </tbody>\n",
       "</table>\n",
       "</div>"
      ],
      "text/plain": [
       "                        active     booked  active_to_booked\n",
       "id                                                         \n",
       "08nydybna2 2013-01-02 19:15:43 2013-01-02        -19.261944\n",
       "qjzv22qxit 2013-01-03 02:25:52 2013-01-03         -2.431111\n",
       "gkhgow5fln 2013-01-03 02:27:21 2013-01-03         -2.455833\n",
       "usv849q0nk 2013-01-03 04:09:53 2013-01-03         -4.164722\n",
       "35i47hzjt2 2013-01-03 05:35:03 2013-01-03         -5.584167"
      ]
     },
     "execution_count": 14,
     "metadata": {},
     "output_type": "execute_result"
    }
   ],
   "source": [
    "#creating dataframe for active, booked, active_to_booked\n",
    "users_dates=users[[ 'active', 'booked', 'active_to_booked']]\n",
    "users_dates[ users_dates.active_to_booked < 0 ].head()"
   ]
  },
  {
   "cell_type": "code",
   "execution_count": 15,
   "metadata": {
    "collapsed": false
   },
   "outputs": [
    {
     "data": {
      "text/plain": [
       "count    15508.000000\n",
       "mean       700.713012\n",
       "std       1568.955367\n",
       "min        -23.912778\n",
       "25%         -0.049028\n",
       "50%         46.272500\n",
       "75%        424.049306\n",
       "max       8759.420278\n",
       "Name: active_to_booked, dtype: float64"
      ]
     },
     "execution_count": 15,
     "metadata": {},
     "output_type": "execute_result"
    }
   ],
   "source": [
    "#ah, ok negative values are because booked H:M:S assumes midnight booked time when substracting active\n",
    "users.active_to_booked.describe()"
   ]
  },
  {
   "cell_type": "markdown",
   "metadata": {},
   "source": [
    "#### Looking into active -> booked in days\n",
    "Since booked does not have H:M:S value, pandas defaults to 00:00:00 which makes hour timedelta pretty much invalid"
   ]
  },
  {
   "cell_type": "code",
   "execution_count": 16,
   "metadata": {
    "collapsed": false
   },
   "outputs": [],
   "source": [
    "#dropping hour, minutes, seconds values from active to get delta in days\n",
    "users['active'] = users['active'].apply(lambda x: x.date())"
   ]
  },
  {
   "cell_type": "code",
   "execution_count": 17,
   "metadata": {
    "collapsed": false
   },
   "outputs": [
    {
     "data": {
      "text/plain": [
       "dtype('O')"
      ]
     },
     "execution_count": 17,
     "metadata": {},
     "output_type": "execute_result"
    }
   ],
   "source": [
    "#above code changes active back to string for some reason\n",
    "users.active.dtypes"
   ]
  },
  {
   "cell_type": "code",
   "execution_count": 18,
   "metadata": {
    "collapsed": true
   },
   "outputs": [],
   "source": [
    "#convert back to datetime\n",
    "users['active'] = pd.to_datetime(users['active'], format='%Y-%m-%d')"
   ]
  },
  {
   "cell_type": "code",
   "execution_count": 19,
   "metadata": {
    "collapsed": false
   },
   "outputs": [
    {
     "data": {
      "text/plain": [
       "account             datetime64[ns]\n",
       "active              datetime64[ns]\n",
       "booked              datetime64[ns]\n",
       "active_to_booked           float64\n",
       "dtype: object"
      ]
     },
     "execution_count": 19,
     "metadata": {},
     "output_type": "execute_result"
    }
   ],
   "source": [
    "#checking datatypes again - active_to_booked is no longer timedelta object\n",
    "users[ ['account', 'active', 'booked', 'active_to_booked'] ].dtypes"
   ]
  },
  {
   "cell_type": "code",
   "execution_count": 20,
   "metadata": {
    "collapsed": true
   },
   "outputs": [],
   "source": [
    "#recreating active_to_booked in hours\n",
    "users['active_to_booked'] = users['booked'] - users['active']"
   ]
  },
  {
   "cell_type": "code",
   "execution_count": 21,
   "metadata": {
    "collapsed": false
   },
   "outputs": [
    {
     "data": {
      "text/plain": [
       "account              datetime64[ns]\n",
       "active               datetime64[ns]\n",
       "booked               datetime64[ns]\n",
       "active_to_booked    timedelta64[ns]\n",
       "dtype: object"
      ]
     },
     "execution_count": 21,
     "metadata": {},
     "output_type": "execute_result"
    }
   ],
   "source": [
    "#checking datatypes again - active_to_booked is now timedelta object again\n",
    "users[ ['account', 'active', 'booked', 'active_to_booked'] ].dtypes"
   ]
  },
  {
   "cell_type": "code",
   "execution_count": 22,
   "metadata": {
    "collapsed": false
   },
   "outputs": [
    {
     "data": {
      "text/html": [
       "<div>\n",
       "<table border=\"1\" class=\"dataframe\">\n",
       "  <thead>\n",
       "    <tr style=\"text-align: right;\">\n",
       "      <th></th>\n",
       "      <th>active</th>\n",
       "      <th>booked</th>\n",
       "      <th>active_to_booked</th>\n",
       "    </tr>\n",
       "    <tr>\n",
       "      <th>id</th>\n",
       "      <th></th>\n",
       "      <th></th>\n",
       "      <th></th>\n",
       "    </tr>\n",
       "  </thead>\n",
       "  <tbody>\n",
       "    <tr>\n",
       "      <th>5ozmhime8v</th>\n",
       "      <td>2013-01-02</td>\n",
       "      <td>2013-01-05</td>\n",
       "      <td>3 days</td>\n",
       "    </tr>\n",
       "    <tr>\n",
       "      <th>2llh6fo1cp</th>\n",
       "      <td>2013-01-02</td>\n",
       "      <td>2013-01-04</td>\n",
       "      <td>2 days</td>\n",
       "    </tr>\n",
       "    <tr>\n",
       "      <th>n4o9woov3x</th>\n",
       "      <td>2013-01-02</td>\n",
       "      <td>2013-03-11</td>\n",
       "      <td>68 days</td>\n",
       "    </tr>\n",
       "    <tr>\n",
       "      <th>q7a55cobxp</th>\n",
       "      <td>2013-01-02</td>\n",
       "      <td>2013-01-16</td>\n",
       "      <td>14 days</td>\n",
       "    </tr>\n",
       "    <tr>\n",
       "      <th>9dz0er4rej</th>\n",
       "      <td>2013-01-02</td>\n",
       "      <td>2013-01-20</td>\n",
       "      <td>18 days</td>\n",
       "    </tr>\n",
       "  </tbody>\n",
       "</table>\n",
       "</div>"
      ],
      "text/plain": [
       "               active     booked  active_to_booked\n",
       "id                                                \n",
       "5ozmhime8v 2013-01-02 2013-01-05            3 days\n",
       "2llh6fo1cp 2013-01-02 2013-01-04            2 days\n",
       "n4o9woov3x 2013-01-02 2013-03-11           68 days\n",
       "q7a55cobxp 2013-01-02 2013-01-16           14 days\n",
       "9dz0er4rej 2013-01-02 2013-01-20           18 days"
      ]
     },
     "execution_count": 22,
     "metadata": {},
     "output_type": "execute_result"
    }
   ],
   "source": [
    "#creating dataframe for active, booked, active_to_booked in days\n",
    "users[ ['active', 'booked', 'active_to_booked'] ].head()"
   ]
  },
  {
   "cell_type": "code",
   "execution_count": 23,
   "metadata": {
    "collapsed": false
   },
   "outputs": [
    {
     "data": {
      "text/plain": [
       "count                      15508\n",
       "mean     29 days 17:13:00.913077\n",
       "std      65 days 09:03:47.989635\n",
       "min              0 days 00:00:00\n",
       "25%              0 days 00:00:00\n",
       "50%              2 days 00:00:00\n",
       "75%             18 days 00:00:00\n",
       "max            365 days 00:00:00\n",
       "Name: active_to_booked, dtype: object"
      ]
     },
     "execution_count": 23,
     "metadata": {},
     "output_type": "execute_result"
    }
   ],
   "source": [
    "#using days yields less precise but more accurate data\n",
    "users.active_to_booked.describe()"
   ]
  },
  {
   "cell_type": "code",
   "execution_count": 24,
   "metadata": {
    "collapsed": false
   },
   "outputs": [],
   "source": [
    "#converting to an integer so I can plot \n",
    "users['days'] = users['booked'] - users['active']\n",
    "users['days'] = ((users['days'] / np.timedelta64(1, 's'))/86400.0)"
   ]
  },
  {
   "cell_type": "code",
   "execution_count": 25,
   "metadata": {
    "collapsed": false
   },
   "outputs": [
    {
     "data": {
      "text/plain": [
       "count    15508.000000\n",
       "mean        29.717372\n",
       "std         65.377639\n",
       "min          0.000000\n",
       "25%          0.000000\n",
       "50%          2.000000\n",
       "75%         18.000000\n",
       "max        365.000000\n",
       "Name: days, dtype: float64"
      ]
     },
     "execution_count": 25,
     "metadata": {},
     "output_type": "execute_result"
    }
   ],
   "source": [
    "users.days.describe()"
   ]
  },
  {
   "cell_type": "code",
   "execution_count": 26,
   "metadata": {
    "collapsed": false
   },
   "outputs": [
    {
     "data": {
      "text/plain": [
       "<matplotlib.axes._subplots.AxesSubplot at 0x119d8b350>"
      ]
     },
     "execution_count": 26,
     "metadata": {},
     "output_type": "execute_result"
    },
    {
     "data": {
      "image/png": "[encoded data removed]",
      "text/plain": [
       "<matplotlib.figure.Figure at 0x11978b810>"
      ]
     },
     "metadata": {},
     "output_type": "display_data"
    }
   ],
   "source": [
    "users.days.plot(kind = 'hist', figsize = (8, 8))"
   ]
  },
  {
   "cell_type": "code",
   "execution_count": 34,
   "metadata": {
    "collapsed": false
   },
   "outputs": [
    {
     "data": {
      "text/plain": [
       "8913"
      ]
     },
     "execution_count": 34,
     "metadata": {},
     "output_type": "execute_result"
    }
   ],
   "source": [
    "sum(users.days > 1)"
   ]
  },
  {
   "cell_type": "code",
   "execution_count": 33,
   "metadata": {
    "collapsed": false
   },
   "outputs": [
    {
     "data": {
      "text/plain": [
       "3894"
      ]
     },
     "execution_count": 33,
     "metadata": {},
     "output_type": "execute_result"
    }
   ],
   "source": [
    "sum(users.days < 1)"
   ]
  },
  {
   "cell_type": "code",
   "execution_count": 35,
   "metadata": {
    "collapsed": false
   },
   "outputs": [
    {
     "data": {
      "text/html": [
       "<div>\n",
       "<table border=\"1\" class=\"dataframe\">\n",
       "  <thead>\n",
       "    <tr style=\"text-align: right;\">\n",
       "      <th></th>\n",
       "      <th>active</th>\n",
       "      <th>booked</th>\n",
       "      <th>days</th>\n",
       "    </tr>\n",
       "    <tr>\n",
       "      <th>id</th>\n",
       "      <th></th>\n",
       "      <th></th>\n",
       "      <th></th>\n",
       "    </tr>\n",
       "  </thead>\n",
       "  <tbody>\n",
       "    <tr>\n",
       "      <th>08nydybna2</th>\n",
       "      <td>2013-01-02</td>\n",
       "      <td>2013-01-02</td>\n",
       "      <td>0.0</td>\n",
       "    </tr>\n",
       "    <tr>\n",
       "      <th>qjzv22qxit</th>\n",
       "      <td>2013-01-03</td>\n",
       "      <td>2013-01-03</td>\n",
       "      <td>0.0</td>\n",
       "    </tr>\n",
       "    <tr>\n",
       "      <th>gkhgow5fln</th>\n",
       "      <td>2013-01-03</td>\n",
       "      <td>2013-01-03</td>\n",
       "      <td>0.0</td>\n",
       "    </tr>\n",
       "  </tbody>\n",
       "</table>\n",
       "</div>"
      ],
      "text/plain": [
       "               active     booked  days\n",
       "id                                    \n",
       "08nydybna2 2013-01-02 2013-01-02   0.0\n",
       "qjzv22qxit 2013-01-03 2013-01-03   0.0\n",
       "gkhgow5fln 2013-01-03 2013-01-03   0.0"
      ]
     },
     "execution_count": 35,
     "metadata": {},
     "output_type": "execute_result"
    }
   ],
   "source": [
    "users_days=users[[ 'active', 'booked', 'days']]\n",
    "users_days[ users.days < 1 ].head(3)"
   ]
  },
  {
   "cell_type": "code",
   "execution_count": 38,
   "metadata": {
    "collapsed": true
   },
   "outputs": [],
   "source": [
    "users.to_csv('datasets/airbnb_clean_2.csv', index_label = 'id')"
   ]
  },
  {
   "cell_type": "code",
   "execution_count": null,
   "metadata": {
    "collapsed": true
   },
   "outputs": [],
   "source": []
  }
 ],
 "metadata": {
  "kernelspec": {
   "display_name": "Python 2",
   "language": "python",
   "name": "python2"
  },
  "language_info": {
   "codemirror_mode": {
    "name": "ipython",
    "version": 2
   },
   "file_extension": ".py",
   "mimetype": "text/x-python",
   "name": "python",
   "nbconvert_exporter": "python",
   "pygments_lexer": "ipython2",
   "version": "2.7.11"
  }
 },
 "nbformat": 4,
 "nbformat_minor": 0
}
