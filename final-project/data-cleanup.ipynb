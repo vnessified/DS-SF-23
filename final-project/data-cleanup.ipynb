{
 "cells": [
  {
   "cell_type": "markdown",
   "metadata": {},
   "source": [
    "Mostly clean up, some exploratory analysis too"
   ]
  },
  {
   "cell_type": "markdown",
   "metadata": {},
   "source": [
    "# Import Libraries"
   ]
  },
  {
   "cell_type": "code",
   "execution_count": 1,
   "metadata": {
    "collapsed": false
   },
   "outputs": [],
   "source": [
    "import os\n",
    "import numpy as np\n",
    "import pandas as pd\n",
    "import datetime\n",
    "import csv\n",
    "import matplotlib.pyplot as plt\n",
    "\n",
    "%matplotlib inline\n",
    "\n",
    "plt.style.use('ggplot')"
   ]
  },
  {
   "cell_type": "markdown",
   "metadata": {},
   "source": [
    "# Import (& some prelim clean up)"
   ]
  },
  {
   "cell_type": "code",
   "execution_count": 2,
   "metadata": {
    "collapsed": false
   },
   "outputs": [
    {
     "data": {
      "text/html": [
       "<div>\n",
       "<table border=\"1\" class=\"dataframe\">\n",
       "  <thead>\n",
       "    <tr style=\"text-align: right;\">\n",
       "      <th></th>\n",
       "      <th>account</th>\n",
       "      <th>active</th>\n",
       "      <th>booked</th>\n",
       "      <th>gender</th>\n",
       "      <th>age</th>\n",
       "      <th>signup_method</th>\n",
       "      <th>signup_flow</th>\n",
       "      <th>language</th>\n",
       "      <th>affiliate_channel</th>\n",
       "      <th>affiliate_provider</th>\n",
       "      <th>first_affiliate_tracked</th>\n",
       "      <th>signup_app</th>\n",
       "      <th>first_device_type</th>\n",
       "      <th>first_browser</th>\n",
       "      <th>country_destination</th>\n",
       "    </tr>\n",
       "    <tr>\n",
       "      <th>id</th>\n",
       "      <th></th>\n",
       "      <th></th>\n",
       "      <th></th>\n",
       "      <th></th>\n",
       "      <th></th>\n",
       "      <th></th>\n",
       "      <th></th>\n",
       "      <th></th>\n",
       "      <th></th>\n",
       "      <th></th>\n",
       "      <th></th>\n",
       "      <th></th>\n",
       "      <th></th>\n",
       "      <th></th>\n",
       "      <th></th>\n",
       "    </tr>\n",
       "  </thead>\n",
       "  <tbody>\n",
       "    <tr>\n",
       "      <th>gxn3p5htnn</th>\n",
       "      <td>2010-06-28</td>\n",
       "      <td>20090319043255</td>\n",
       "      <td>NaN</td>\n",
       "      <td>-unknown-</td>\n",
       "      <td>NaN</td>\n",
       "      <td>facebook</td>\n",
       "      <td>0</td>\n",
       "      <td>en</td>\n",
       "      <td>direct</td>\n",
       "      <td>direct</td>\n",
       "      <td>untracked</td>\n",
       "      <td>Web</td>\n",
       "      <td>Mac Desktop</td>\n",
       "      <td>Chrome</td>\n",
       "      <td>NDF</td>\n",
       "    </tr>\n",
       "    <tr>\n",
       "      <th>820tgsjxq7</th>\n",
       "      <td>2011-05-25</td>\n",
       "      <td>20090523174809</td>\n",
       "      <td>NaN</td>\n",
       "      <td>MALE</td>\n",
       "      <td>38.0</td>\n",
       "      <td>facebook</td>\n",
       "      <td>0</td>\n",
       "      <td>en</td>\n",
       "      <td>seo</td>\n",
       "      <td>google</td>\n",
       "      <td>untracked</td>\n",
       "      <td>Web</td>\n",
       "      <td>Mac Desktop</td>\n",
       "      <td>Chrome</td>\n",
       "      <td>NDF</td>\n",
       "    </tr>\n",
       "    <tr>\n",
       "      <th>4ft3gnwmtx</th>\n",
       "      <td>2010-09-28</td>\n",
       "      <td>20090609231247</td>\n",
       "      <td>2010-08-02</td>\n",
       "      <td>FEMALE</td>\n",
       "      <td>56.0</td>\n",
       "      <td>basic</td>\n",
       "      <td>3</td>\n",
       "      <td>en</td>\n",
       "      <td>direct</td>\n",
       "      <td>direct</td>\n",
       "      <td>untracked</td>\n",
       "      <td>Web</td>\n",
       "      <td>Windows Desktop</td>\n",
       "      <td>IE</td>\n",
       "      <td>US</td>\n",
       "    </tr>\n",
       "    <tr>\n",
       "      <th>bjjt8pjhuk</th>\n",
       "      <td>2011-12-05</td>\n",
       "      <td>20091031060129</td>\n",
       "      <td>2012-09-08</td>\n",
       "      <td>FEMALE</td>\n",
       "      <td>42.0</td>\n",
       "      <td>facebook</td>\n",
       "      <td>0</td>\n",
       "      <td>en</td>\n",
       "      <td>direct</td>\n",
       "      <td>direct</td>\n",
       "      <td>untracked</td>\n",
       "      <td>Web</td>\n",
       "      <td>Mac Desktop</td>\n",
       "      <td>Firefox</td>\n",
       "      <td>other</td>\n",
       "    </tr>\n",
       "    <tr>\n",
       "      <th>87mebub9p4</th>\n",
       "      <td>2010-09-14</td>\n",
       "      <td>20091208061105</td>\n",
       "      <td>2010-02-18</td>\n",
       "      <td>-unknown-</td>\n",
       "      <td>41.0</td>\n",
       "      <td>basic</td>\n",
       "      <td>0</td>\n",
       "      <td>en</td>\n",
       "      <td>direct</td>\n",
       "      <td>direct</td>\n",
       "      <td>untracked</td>\n",
       "      <td>Web</td>\n",
       "      <td>Mac Desktop</td>\n",
       "      <td>Chrome</td>\n",
       "      <td>US</td>\n",
       "    </tr>\n",
       "  </tbody>\n",
       "</table>\n",
       "</div>"
      ],
      "text/plain": [
       "               account          active      booked     gender   age  \\\n",
       "id                                                                    \n",
       "gxn3p5htnn  2010-06-28  20090319043255         NaN  -unknown-   NaN   \n",
       "820tgsjxq7  2011-05-25  20090523174809         NaN       MALE  38.0   \n",
       "4ft3gnwmtx  2010-09-28  20090609231247  2010-08-02     FEMALE  56.0   \n",
       "bjjt8pjhuk  2011-12-05  20091031060129  2012-09-08     FEMALE  42.0   \n",
       "87mebub9p4  2010-09-14  20091208061105  2010-02-18  -unknown-  41.0   \n",
       "\n",
       "           signup_method  signup_flow language affiliate_channel  \\\n",
       "id                                                                 \n",
       "gxn3p5htnn      facebook            0       en            direct   \n",
       "820tgsjxq7      facebook            0       en               seo   \n",
       "4ft3gnwmtx         basic            3       en            direct   \n",
       "bjjt8pjhuk      facebook            0       en            direct   \n",
       "87mebub9p4         basic            0       en            direct   \n",
       "\n",
       "           affiliate_provider first_affiliate_tracked signup_app  \\\n",
       "id                                                                 \n",
       "gxn3p5htnn             direct               untracked        Web   \n",
       "820tgsjxq7             google               untracked        Web   \n",
       "4ft3gnwmtx             direct               untracked        Web   \n",
       "bjjt8pjhuk             direct               untracked        Web   \n",
       "87mebub9p4             direct               untracked        Web   \n",
       "\n",
       "           first_device_type first_browser country_destination  \n",
       "id                                                              \n",
       "gxn3p5htnn       Mac Desktop        Chrome                 NDF  \n",
       "820tgsjxq7       Mac Desktop        Chrome                 NDF  \n",
       "4ft3gnwmtx   Windows Desktop            IE                  US  \n",
       "bjjt8pjhuk       Mac Desktop       Firefox               other  \n",
       "87mebub9p4       Mac Desktop        Chrome                  US  "
      ]
     },
     "execution_count": 2,
     "metadata": {},
     "output_type": "execute_result"
    }
   ],
   "source": [
    "#import dataset\n",
    "users = pd.read_csv(os.path.join('datasets', 'train_users_2.csv'), index_col = 'id')\n",
    "\n",
    "#renaming a few things\n",
    "users.rename(columns = {'date_account_created' : 'account', 'timestamp_first_active' : 'active', \n",
    "                     'date_first_booking': 'booked'}, inplace=True)\n",
    "\n",
    "users.head()"
   ]
  },
  {
   "cell_type": "markdown",
   "metadata": {},
   "source": [
    "Double checking cleaned data (see below) against original^"
   ]
  },
  {
   "cell_type": "code",
   "execution_count": 3,
   "metadata": {
    "collapsed": false
   },
   "outputs": [
    {
     "data": {
      "text/plain": [
       "account                        2013-01-02\n",
       "active                     20130102014812\n",
       "booked                         2013-01-05\n",
       "gender                             FEMALE\n",
       "age                                    44\n",
       "signup_method                    facebook\n",
       "signup_flow                             0\n",
       "language                               en\n",
       "affiliate_channel                  direct\n",
       "affiliate_provider                 direct\n",
       "first_affiliate_tracked            linked\n",
       "signup_app                            Web\n",
       "first_device_type             Mac Desktop\n",
       "first_browser                      Safari\n",
       "country_destination                    US\n",
       "Name: 5ozmhime8v, dtype: object"
      ]
     },
     "execution_count": 3,
     "metadata": {},
     "output_type": "execute_result"
    }
   ],
   "source": [
    "users.loc[\"5ozmhime8v\"]"
   ]
  },
  {
   "cell_type": "markdown",
   "metadata": {},
   "source": [
    "# Clean up"
   ]
  },
  {
   "cell_type": "markdown",
   "metadata": {},
   "source": [
    "#### Datatypes\n",
    "Clean up dtype for dates"
   ]
  },
  {
   "cell_type": "code",
   "execution_count": 4,
   "metadata": {
    "collapsed": false,
    "scrolled": true
   },
   "outputs": [
    {
     "data": {
      "text/plain": [
       "account                     object\n",
       "active                       int64\n",
       "booked                      object\n",
       "gender                      object\n",
       "age                        float64\n",
       "signup_method               object\n",
       "signup_flow                  int64\n",
       "language                    object\n",
       "affiliate_channel           object\n",
       "affiliate_provider          object\n",
       "first_affiliate_tracked     object\n",
       "signup_app                  object\n",
       "first_device_type           object\n",
       "first_browser               object\n",
       "country_destination         object\n",
       "dtype: object"
      ]
     },
     "execution_count": 4,
     "metadata": {},
     "output_type": "execute_result"
    }
   ],
   "source": [
    "users.dtypes"
   ]
  },
  {
   "cell_type": "code",
   "execution_count": 5,
   "metadata": {
    "collapsed": true
   },
   "outputs": [],
   "source": [
    "users['account'] = pd.to_datetime(users['account'])\n",
    "users['booked'] = pd.to_datetime(users['booked'])\n",
    "users['active'] = pd.to_datetime(users['active'], format='%Y%m%d%H%M%S')"
   ]
  },
  {
   "cell_type": "code",
   "execution_count": 6,
   "metadata": {
    "collapsed": false,
    "scrolled": true
   },
   "outputs": [
    {
     "data": {
      "text/plain": [
       "account                    datetime64[ns]\n",
       "active                     datetime64[ns]\n",
       "booked                     datetime64[ns]\n",
       "gender                             object\n",
       "age                               float64\n",
       "signup_method                      object\n",
       "signup_flow                         int64\n",
       "language                           object\n",
       "affiliate_channel                  object\n",
       "affiliate_provider                 object\n",
       "first_affiliate_tracked            object\n",
       "signup_app                         object\n",
       "first_device_type                  object\n",
       "first_browser                      object\n",
       "country_destination                object\n",
       "dtype: object"
      ]
     },
     "execution_count": 6,
     "metadata": {},
     "output_type": "execute_result"
    }
   ],
   "source": [
    "users.dtypes"
   ]
  },
  {
   "cell_type": "markdown",
   "metadata": {},
   "source": [
    "#### Counts\n",
    "Dop NaN in `booked`, `age`, and `first_affiliate_tracked`"
   ]
  },
  {
   "cell_type": "code",
   "execution_count": 7,
   "metadata": {
    "collapsed": false
   },
   "outputs": [
    {
     "data": {
      "text/plain": [
       "account                    213451\n",
       "active                     213451\n",
       "booked                      88908\n",
       "gender                     213451\n",
       "age                        125461\n",
       "signup_method              213451\n",
       "signup_flow                213451\n",
       "language                   213451\n",
       "affiliate_channel          213451\n",
       "affiliate_provider         213451\n",
       "first_affiliate_tracked    207386\n",
       "signup_app                 213451\n",
       "first_device_type          213451\n",
       "first_browser              213451\n",
       "country_destination        213451\n",
       "dtype: int64"
      ]
     },
     "execution_count": 7,
     "metadata": {},
     "output_type": "execute_result"
    }
   ],
   "source": [
    "users.count()"
   ]
  },
  {
   "cell_type": "code",
   "execution_count": 8,
   "metadata": {
    "collapsed": true
   },
   "outputs": [],
   "source": [
    "users.dropna(inplace = True, subset = ['booked','age','first_affiliate_tracked'])"
   ]
  },
  {
   "cell_type": "code",
   "execution_count": 9,
   "metadata": {
    "collapsed": false
   },
   "outputs": [
    {
     "data": {
      "text/plain": [
       "account                    68171\n",
       "active                     68171\n",
       "booked                     68171\n",
       "gender                     68171\n",
       "age                        68171\n",
       "signup_method              68171\n",
       "signup_flow                68171\n",
       "language                   68171\n",
       "affiliate_channel          68171\n",
       "affiliate_provider         68171\n",
       "first_affiliate_tracked    68171\n",
       "signup_app                 68171\n",
       "first_device_type          68171\n",
       "first_browser              68171\n",
       "country_destination        68171\n",
       "dtype: int64"
      ]
     },
     "execution_count": 9,
     "metadata": {},
     "output_type": "execute_result"
    }
   ],
   "source": [
    "users.count()"
   ]
  },
  {
   "cell_type": "code",
   "execution_count": 10,
   "metadata": {
    "collapsed": false
   },
   "outputs": [
    {
     "data": {
      "text/plain": [
       "68.06245929979245"
      ]
     },
     "execution_count": 10,
     "metadata": {},
     "output_type": "execute_result"
    }
   ],
   "source": [
    "#data lost\n",
    "((213451.00-68171)/213451)*100"
   ]
  },
  {
   "cell_type": "markdown",
   "metadata": {},
   "source": [
    "#### Dates\n",
    "Drop dates before Jan 2013 for better data"
   ]
  },
  {
   "cell_type": "code",
   "execution_count": 11,
   "metadata": {
    "collapsed": false
   },
   "outputs": [
    {
     "data": {
      "text/plain": [
       "count                   68171\n",
       "unique                  68171\n",
       "top       2014-03-16 22:26:35\n",
       "freq                        1\n",
       "first     2009-06-09 23:12:47\n",
       "last      2014-06-30 23:55:47\n",
       "Name: active, dtype: object"
      ]
     },
     "execution_count": 11,
     "metadata": {},
     "output_type": "execute_result"
    }
   ],
   "source": [
    "#checking range for first active (6/9/2009 - 6/30/2014)\n",
    "users.active.describe()"
   ]
  },
  {
   "cell_type": "code",
   "execution_count": 12,
   "metadata": {
    "collapsed": false
   },
   "outputs": [
    {
     "data": {
      "text/plain": [
       "id\n",
       "4ft3gnwmtx   2009-06-09 23:12:47\n",
       "bjjt8pjhuk   2009-10-31 06:01:29\n",
       "87mebub9p4   2009-12-08 06:11:05\n",
       "lsw9q7uk0j   2010-01-02 01:25:58\n",
       "0d01nltbrs   2010-01-03 19:19:05\n",
       "a1vcnhxeij   2010-01-04 00:42:11\n",
       "6uh8zyj2gn   2010-01-04 02:37:58\n",
       "yuuqmid2rp   2010-01-04 19:42:51\n",
       "v4d5rl22px   2010-01-07 20:45:55\n",
       "gdka1q5ktd   2010-01-10 01:08:17\n",
       "qsibmuz9sx   2010-01-10 22:09:41\n",
       "80f7dwscrn   2010-01-11 03:14:38\n",
       "al8bcetz0g   2010-01-12 13:14:44\n",
       "hfrl5gle36   2010-01-12 20:59:49\n",
       "hql77nu2lk   2010-01-13 06:43:33\n",
       "cheova4spt   2010-01-14 02:52:57\n",
       "7my0vrljxc   2010-01-15 22:19:29\n",
       "k15j7mbny0   2010-01-19 01:36:16\n",
       "g1q6caq452   2010-01-23 20:15:40\n",
       "ae59m0iqsx   2010-01-25 23:22:46\n",
       "efabqzuxmf   2010-01-26 19:20:45\n",
       "emg8edpcpm   2010-01-26 23:30:19\n",
       "fp6ndcm5ak   2010-01-27 23:20:16\n",
       "0xvbruzuzz   2010-01-30 04:57:49\n",
       "h53mz152m4   2010-02-02 22:31:17\n",
       "b9pzliufcj   2010-02-03 00:09:44\n",
       "h2gn4f9oqa   2010-02-03 22:58:54\n",
       "rxdkzkowt2   2010-02-06 07:22:33\n",
       "prqnudhgdx   2010-02-07 01:42:29\n",
       "6qx6xl5eho   2010-02-07 01:52:07\n",
       "                     ...        \n",
       "gfend4omwv   2014-06-30 20:57:07\n",
       "qatcx5e1tk   2014-06-30 21:11:20\n",
       "9yj2xqlard   2014-06-30 21:16:55\n",
       "iecf5zctoz   2014-06-30 21:17:06\n",
       "wfz3ow176v   2014-06-30 21:21:28\n",
       "auafpy23gk   2014-06-30 21:27:24\n",
       "g6sulrjk7c   2014-06-30 21:36:50\n",
       "d339w9196p   2014-06-30 21:55:17\n",
       "0co6s86hgb   2014-06-30 21:59:47\n",
       "nhtc9mxlp7   2014-06-30 22:03:26\n",
       "bzcqek3k51   2014-06-30 22:11:15\n",
       "3yew808eqp   2014-06-30 22:15:22\n",
       "gedoe2zmrj   2014-06-30 22:22:00\n",
       "c999p94qui   2014-06-30 22:22:53\n",
       "lc6apdi0hc   2014-06-30 22:37:31\n",
       "x17avasiuk   2014-06-30 22:39:43\n",
       "xif0n17eof   2014-06-30 22:40:49\n",
       "jfcwjhkmtv   2014-06-30 22:41:08\n",
       "5q5k8aov71   2014-06-30 22:44:52\n",
       "x3m80xzv0h   2014-06-30 22:45:40\n",
       "iu1abga5nx   2014-06-30 22:46:35\n",
       "l8tltghomx   2014-06-30 22:46:54\n",
       "git9gx54o9   2014-06-30 22:48:02\n",
       "ezuin5g4lu   2014-06-30 22:48:32\n",
       "a1rvlsdijt   2014-06-30 22:51:57\n",
       "7plqriggxp   2014-06-30 23:01:36\n",
       "msucfwmlzc   2014-06-30 23:47:29\n",
       "omlc9iku7t   2014-06-30 23:51:51\n",
       "0k26r3mir0   2014-06-30 23:53:40\n",
       "qbxza0xojf   2014-06-30 23:55:47\n",
       "Name: active, dtype: datetime64[ns]"
      ]
     },
     "execution_count": 12,
     "metadata": {},
     "output_type": "execute_result"
    }
   ],
   "source": [
    "#double checking \n",
    "users.active.sort_values()"
   ]
  },
  {
   "cell_type": "code",
   "execution_count": 13,
   "metadata": {
    "collapsed": false
   },
   "outputs": [
    {
     "data": {
      "text/plain": [
       "count                   68171\n",
       "unique                   1938\n",
       "top       2014-05-22 00:00:00\n",
       "freq                      193\n",
       "first     2010-01-04 00:00:00\n",
       "last      2015-06-29 00:00:00\n",
       "Name: booked, dtype: object"
      ]
     },
     "execution_count": 13,
     "metadata": {},
     "output_type": "execute_result"
    }
   ],
   "source": [
    "#checking range for first booking (1/4/2010 - 6/29/2015)\n",
    "users.booked.describe()"
   ]
  },
  {
   "cell_type": "code",
   "execution_count": 14,
   "metadata": {
    "collapsed": false
   },
   "outputs": [
    {
     "data": {
      "text/plain": [
       "count                   68171\n",
       "unique                   1598\n",
       "top       2014-05-20 00:00:00\n",
       "freq                      200\n",
       "first     2010-01-02 00:00:00\n",
       "last      2014-06-30 00:00:00\n",
       "Name: account, dtype: object"
      ]
     },
     "execution_count": 14,
     "metadata": {},
     "output_type": "execute_result"
    }
   ],
   "source": [
    "#checking range for account created (1/2/2010 - 6/30/2014)\n",
    "users.account.describe()"
   ]
  },
  {
   "cell_type": "code",
   "execution_count": 15,
   "metadata": {
    "collapsed": false
   },
   "outputs": [
    {
     "data": {
      "text/plain": [
       "<matplotlib.axes._subplots.AxesSubplot at 0x11be26c90>"
      ]
     },
     "execution_count": 15,
     "metadata": {},
     "output_type": "execute_result"
    },
    {
     "data": {
      "image/png": "[encoded data removed]",
      "text/plain": [
       "<matplotlib.figure.Figure at 0x104453b90>"
      ]
     },
     "metadata": {},
     "output_type": "display_data"
    }
   ],
   "source": [
    "#graph of first booking dates\n",
    "#drop in July 2014 - I think Airbnb reopened competition & added more data and/or reflects users slow to convert?\n",
    "booked = users.booked.apply(lambda x: datetime.datetime(x.year, x.month, x.day))\n",
    "booked.value_counts().plot(kind='line', figsize = (8, 8))"
   ]
  },
  {
   "cell_type": "code",
   "execution_count": 16,
   "metadata": {
    "collapsed": false
   },
   "outputs": [
    {
     "data": {
      "text/plain": [
       "<matplotlib.axes._subplots.AxesSubplot at 0x104453cd0>"
      ]
     },
     "execution_count": 16,
     "metadata": {},
     "output_type": "execute_result"
    },
    {
     "data": {
      "image/png": "[encoded data removed]",
      "text/plain": [
       "<matplotlib.figure.Figure at 0x118480990>"
      ]
     },
     "metadata": {},
     "output_type": "display_data"
    }
   ],
   "source": [
    "#graph of first active dates by frequency\n",
    "active = users.active.apply(lambda x: datetime.datetime(x.year, x.month, x.day))\n",
    "active.value_counts().plot(kind='line', figsize = (8, 8))"
   ]
  },
  {
   "cell_type": "code",
   "execution_count": 17,
   "metadata": {
    "collapsed": false
   },
   "outputs": [
    {
     "data": {
      "text/plain": [
       "<matplotlib.axes._subplots.AxesSubplot at 0x11b121f90>"
      ]
     },
     "execution_count": 17,
     "metadata": {},
     "output_type": "execute_result"
    },
    {
     "data": {
      "image/png": "[encoded data removed]",
      "text/plain": [
       "<matplotlib.figure.Figure at 0x11ad1acd0>"
      ]
     },
     "metadata": {},
     "output_type": "display_data"
    }
   ],
   "source": [
    "#graph of account created dates by frequency\n",
    "account = users.account.apply(lambda x: datetime.datetime(x.year, x.month, x.day))\n",
    "account.value_counts().plot(kind='line', figsize = (8, 8))"
   ]
  },
  {
   "cell_type": "code",
   "execution_count": 18,
   "metadata": {
    "collapsed": false
   },
   "outputs": [
    {
     "data": {
      "text/html": [
       "<div>\n",
       "<table border=\"1\" class=\"dataframe\">\n",
       "  <thead>\n",
       "    <tr style=\"text-align: right;\">\n",
       "      <th></th>\n",
       "      <th>account</th>\n",
       "      <th>active</th>\n",
       "      <th>booked</th>\n",
       "      <th>gender</th>\n",
       "      <th>age</th>\n",
       "      <th>signup_method</th>\n",
       "      <th>signup_flow</th>\n",
       "      <th>language</th>\n",
       "      <th>affiliate_channel</th>\n",
       "      <th>affiliate_provider</th>\n",
       "      <th>first_affiliate_tracked</th>\n",
       "      <th>signup_app</th>\n",
       "      <th>first_device_type</th>\n",
       "      <th>first_browser</th>\n",
       "      <th>country_destination</th>\n",
       "    </tr>\n",
       "    <tr>\n",
       "      <th>id</th>\n",
       "      <th></th>\n",
       "      <th></th>\n",
       "      <th></th>\n",
       "      <th></th>\n",
       "      <th></th>\n",
       "      <th></th>\n",
       "      <th></th>\n",
       "      <th></th>\n",
       "      <th></th>\n",
       "      <th></th>\n",
       "      <th></th>\n",
       "      <th></th>\n",
       "      <th></th>\n",
       "      <th></th>\n",
       "      <th></th>\n",
       "    </tr>\n",
       "  </thead>\n",
       "  <tbody>\n",
       "    <tr>\n",
       "      <th>4ft3gnwmtx</th>\n",
       "      <td>2010-09-28</td>\n",
       "      <td>2009-06-09 23:12:47</td>\n",
       "      <td>2010-08-02</td>\n",
       "      <td>FEMALE</td>\n",
       "      <td>56.0</td>\n",
       "      <td>basic</td>\n",
       "      <td>3</td>\n",
       "      <td>en</td>\n",
       "      <td>direct</td>\n",
       "      <td>direct</td>\n",
       "      <td>untracked</td>\n",
       "      <td>Web</td>\n",
       "      <td>Windows Desktop</td>\n",
       "      <td>IE</td>\n",
       "      <td>US</td>\n",
       "    </tr>\n",
       "    <tr>\n",
       "      <th>bjjt8pjhuk</th>\n",
       "      <td>2011-12-05</td>\n",
       "      <td>2009-10-31 06:01:29</td>\n",
       "      <td>2012-09-08</td>\n",
       "      <td>FEMALE</td>\n",
       "      <td>42.0</td>\n",
       "      <td>facebook</td>\n",
       "      <td>0</td>\n",
       "      <td>en</td>\n",
       "      <td>direct</td>\n",
       "      <td>direct</td>\n",
       "      <td>untracked</td>\n",
       "      <td>Web</td>\n",
       "      <td>Mac Desktop</td>\n",
       "      <td>Firefox</td>\n",
       "      <td>other</td>\n",
       "    </tr>\n",
       "    <tr>\n",
       "      <th>87mebub9p4</th>\n",
       "      <td>2010-09-14</td>\n",
       "      <td>2009-12-08 06:11:05</td>\n",
       "      <td>2010-02-18</td>\n",
       "      <td>-unknown-</td>\n",
       "      <td>41.0</td>\n",
       "      <td>basic</td>\n",
       "      <td>0</td>\n",
       "      <td>en</td>\n",
       "      <td>direct</td>\n",
       "      <td>direct</td>\n",
       "      <td>untracked</td>\n",
       "      <td>Web</td>\n",
       "      <td>Mac Desktop</td>\n",
       "      <td>Chrome</td>\n",
       "      <td>US</td>\n",
       "    </tr>\n",
       "    <tr>\n",
       "      <th>lsw9q7uk0j</th>\n",
       "      <td>2010-01-02</td>\n",
       "      <td>2010-01-02 01:25:58</td>\n",
       "      <td>2010-01-05</td>\n",
       "      <td>FEMALE</td>\n",
       "      <td>46.0</td>\n",
       "      <td>basic</td>\n",
       "      <td>0</td>\n",
       "      <td>en</td>\n",
       "      <td>other</td>\n",
       "      <td>craigslist</td>\n",
       "      <td>untracked</td>\n",
       "      <td>Web</td>\n",
       "      <td>Mac Desktop</td>\n",
       "      <td>Safari</td>\n",
       "      <td>US</td>\n",
       "    </tr>\n",
       "    <tr>\n",
       "      <th>0d01nltbrs</th>\n",
       "      <td>2010-01-03</td>\n",
       "      <td>2010-01-03 19:19:05</td>\n",
       "      <td>2010-01-13</td>\n",
       "      <td>FEMALE</td>\n",
       "      <td>47.0</td>\n",
       "      <td>basic</td>\n",
       "      <td>0</td>\n",
       "      <td>en</td>\n",
       "      <td>direct</td>\n",
       "      <td>direct</td>\n",
       "      <td>omg</td>\n",
       "      <td>Web</td>\n",
       "      <td>Mac Desktop</td>\n",
       "      <td>Safari</td>\n",
       "      <td>US</td>\n",
       "    </tr>\n",
       "    <tr>\n",
       "      <th>a1vcnhxeij</th>\n",
       "      <td>2010-01-04</td>\n",
       "      <td>2010-01-04 00:42:11</td>\n",
       "      <td>2010-07-29</td>\n",
       "      <td>FEMALE</td>\n",
       "      <td>50.0</td>\n",
       "      <td>basic</td>\n",
       "      <td>0</td>\n",
       "      <td>en</td>\n",
       "      <td>other</td>\n",
       "      <td>craigslist</td>\n",
       "      <td>untracked</td>\n",
       "      <td>Web</td>\n",
       "      <td>Mac Desktop</td>\n",
       "      <td>Safari</td>\n",
       "      <td>US</td>\n",
       "    </tr>\n",
       "    <tr>\n",
       "      <th>6uh8zyj2gn</th>\n",
       "      <td>2010-01-04</td>\n",
       "      <td>2010-01-04 02:37:58</td>\n",
       "      <td>2010-01-04</td>\n",
       "      <td>-unknown-</td>\n",
       "      <td>46.0</td>\n",
       "      <td>basic</td>\n",
       "      <td>0</td>\n",
       "      <td>en</td>\n",
       "      <td>other</td>\n",
       "      <td>craigslist</td>\n",
       "      <td>omg</td>\n",
       "      <td>Web</td>\n",
       "      <td>Mac Desktop</td>\n",
       "      <td>Firefox</td>\n",
       "      <td>US</td>\n",
       "    </tr>\n",
       "    <tr>\n",
       "      <th>yuuqmid2rp</th>\n",
       "      <td>2010-01-04</td>\n",
       "      <td>2010-01-04 19:42:51</td>\n",
       "      <td>2010-01-06</td>\n",
       "      <td>FEMALE</td>\n",
       "      <td>36.0</td>\n",
       "      <td>basic</td>\n",
       "      <td>0</td>\n",
       "      <td>en</td>\n",
       "      <td>other</td>\n",
       "      <td>craigslist</td>\n",
       "      <td>untracked</td>\n",
       "      <td>Web</td>\n",
       "      <td>Mac Desktop</td>\n",
       "      <td>Firefox</td>\n",
       "      <td>US</td>\n",
       "    </tr>\n",
       "    <tr>\n",
       "      <th>v4d5rl22px</th>\n",
       "      <td>2010-01-07</td>\n",
       "      <td>2010-01-07 20:45:55</td>\n",
       "      <td>2010-01-08</td>\n",
       "      <td>FEMALE</td>\n",
       "      <td>33.0</td>\n",
       "      <td>basic</td>\n",
       "      <td>0</td>\n",
       "      <td>en</td>\n",
       "      <td>direct</td>\n",
       "      <td>direct</td>\n",
       "      <td>untracked</td>\n",
       "      <td>Web</td>\n",
       "      <td>Windows Desktop</td>\n",
       "      <td>Chrome</td>\n",
       "      <td>CA</td>\n",
       "    </tr>\n",
       "    <tr>\n",
       "      <th>gdka1q5ktd</th>\n",
       "      <td>2010-01-10</td>\n",
       "      <td>2010-01-10 01:08:17</td>\n",
       "      <td>2010-01-10</td>\n",
       "      <td>FEMALE</td>\n",
       "      <td>29.0</td>\n",
       "      <td>basic</td>\n",
       "      <td>0</td>\n",
       "      <td>en</td>\n",
       "      <td>direct</td>\n",
       "      <td>direct</td>\n",
       "      <td>untracked</td>\n",
       "      <td>Web</td>\n",
       "      <td>Mac Desktop</td>\n",
       "      <td>Chrome</td>\n",
       "      <td>FR</td>\n",
       "    </tr>\n",
       "    <tr>\n",
       "      <th>qsibmuz9sx</th>\n",
       "      <td>2010-01-10</td>\n",
       "      <td>2010-01-10 22:09:41</td>\n",
       "      <td>2010-01-11</td>\n",
       "      <td>MALE</td>\n",
       "      <td>30.0</td>\n",
       "      <td>basic</td>\n",
       "      <td>0</td>\n",
       "      <td>en</td>\n",
       "      <td>direct</td>\n",
       "      <td>direct</td>\n",
       "      <td>linked</td>\n",
       "      <td>Web</td>\n",
       "      <td>Mac Desktop</td>\n",
       "      <td>Chrome</td>\n",
       "      <td>US</td>\n",
       "    </tr>\n",
       "    <tr>\n",
       "      <th>80f7dwscrn</th>\n",
       "      <td>2010-01-11</td>\n",
       "      <td>2010-01-11 03:14:38</td>\n",
       "      <td>2010-01-11</td>\n",
       "      <td>-unknown-</td>\n",
       "      <td>40.0</td>\n",
       "      <td>basic</td>\n",
       "      <td>0</td>\n",
       "      <td>en</td>\n",
       "      <td>seo</td>\n",
       "      <td>google</td>\n",
       "      <td>untracked</td>\n",
       "      <td>Web</td>\n",
       "      <td>iPhone</td>\n",
       "      <td>-unknown-</td>\n",
       "      <td>US</td>\n",
       "    </tr>\n",
       "    <tr>\n",
       "      <th>al8bcetz0g</th>\n",
       "      <td>2010-01-12</td>\n",
       "      <td>2010-01-12 13:14:44</td>\n",
       "      <td>2010-01-15</td>\n",
       "      <td>FEMALE</td>\n",
       "      <td>26.0</td>\n",
       "      <td>basic</td>\n",
       "      <td>0</td>\n",
       "      <td>en</td>\n",
       "      <td>other</td>\n",
       "      <td>craigslist</td>\n",
       "      <td>untracked</td>\n",
       "      <td>Web</td>\n",
       "      <td>Mac Desktop</td>\n",
       "      <td>Chrome</td>\n",
       "      <td>FR</td>\n",
       "    </tr>\n",
       "    <tr>\n",
       "      <th>hfrl5gle36</th>\n",
       "      <td>2010-01-12</td>\n",
       "      <td>2010-01-12 20:59:49</td>\n",
       "      <td>2010-01-22</td>\n",
       "      <td>FEMALE</td>\n",
       "      <td>32.0</td>\n",
       "      <td>basic</td>\n",
       "      <td>0</td>\n",
       "      <td>en</td>\n",
       "      <td>other</td>\n",
       "      <td>craigslist</td>\n",
       "      <td>untracked</td>\n",
       "      <td>Web</td>\n",
       "      <td>Desktop (Other)</td>\n",
       "      <td>Chrome</td>\n",
       "      <td>US</td>\n",
       "    </tr>\n",
       "    <tr>\n",
       "      <th>hql77nu2lk</th>\n",
       "      <td>2010-01-13</td>\n",
       "      <td>2010-01-13 06:43:33</td>\n",
       "      <td>2010-01-19</td>\n",
       "      <td>-unknown-</td>\n",
       "      <td>37.0</td>\n",
       "      <td>basic</td>\n",
       "      <td>0</td>\n",
       "      <td>en</td>\n",
       "      <td>direct</td>\n",
       "      <td>direct</td>\n",
       "      <td>untracked</td>\n",
       "      <td>Web</td>\n",
       "      <td>Android Tablet</td>\n",
       "      <td>-unknown-</td>\n",
       "      <td>US</td>\n",
       "    </tr>\n",
       "    <tr>\n",
       "      <th>cheova4spt</th>\n",
       "      <td>2010-01-14</td>\n",
       "      <td>2010-01-14 02:52:57</td>\n",
       "      <td>2010-01-24</td>\n",
       "      <td>-unknown-</td>\n",
       "      <td>42.0</td>\n",
       "      <td>basic</td>\n",
       "      <td>0</td>\n",
       "      <td>en</td>\n",
       "      <td>other</td>\n",
       "      <td>craigslist</td>\n",
       "      <td>untracked</td>\n",
       "      <td>Web</td>\n",
       "      <td>Mac Desktop</td>\n",
       "      <td>Firefox</td>\n",
       "      <td>FR</td>\n",
       "    </tr>\n",
       "    <tr>\n",
       "      <th>7my0vrljxc</th>\n",
       "      <td>2010-01-15</td>\n",
       "      <td>2010-01-15 22:19:29</td>\n",
       "      <td>2010-01-15</td>\n",
       "      <td>FEMALE</td>\n",
       "      <td>31.0</td>\n",
       "      <td>basic</td>\n",
       "      <td>0</td>\n",
       "      <td>en</td>\n",
       "      <td>direct</td>\n",
       "      <td>direct</td>\n",
       "      <td>linked</td>\n",
       "      <td>Web</td>\n",
       "      <td>Mac Desktop</td>\n",
       "      <td>Safari</td>\n",
       "      <td>US</td>\n",
       "    </tr>\n",
       "    <tr>\n",
       "      <th>k15j7mbny0</th>\n",
       "      <td>2010-01-19</td>\n",
       "      <td>2010-01-19 01:36:16</td>\n",
       "      <td>2010-01-21</td>\n",
       "      <td>FEMALE</td>\n",
       "      <td>30.0</td>\n",
       "      <td>basic</td>\n",
       "      <td>0</td>\n",
       "      <td>en</td>\n",
       "      <td>direct</td>\n",
       "      <td>direct</td>\n",
       "      <td>untracked</td>\n",
       "      <td>Web</td>\n",
       "      <td>Mac Desktop</td>\n",
       "      <td>Chrome</td>\n",
       "      <td>US</td>\n",
       "    </tr>\n",
       "    <tr>\n",
       "      <th>g1q6caq452</th>\n",
       "      <td>2010-01-23</td>\n",
       "      <td>2010-01-23 20:15:40</td>\n",
       "      <td>2010-01-27</td>\n",
       "      <td>FEMALE</td>\n",
       "      <td>44.0</td>\n",
       "      <td>basic</td>\n",
       "      <td>0</td>\n",
       "      <td>en</td>\n",
       "      <td>other</td>\n",
       "      <td>craigslist</td>\n",
       "      <td>untracked</td>\n",
       "      <td>Web</td>\n",
       "      <td>Windows Desktop</td>\n",
       "      <td>IE</td>\n",
       "      <td>US</td>\n",
       "    </tr>\n",
       "    <tr>\n",
       "      <th>ae59m0iqsx</th>\n",
       "      <td>2010-01-25</td>\n",
       "      <td>2010-01-25 23:22:46</td>\n",
       "      <td>2010-01-26</td>\n",
       "      <td>-unknown-</td>\n",
       "      <td>33.0</td>\n",
       "      <td>basic</td>\n",
       "      <td>0</td>\n",
       "      <td>en</td>\n",
       "      <td>other</td>\n",
       "      <td>craigslist</td>\n",
       "      <td>untracked</td>\n",
       "      <td>Web</td>\n",
       "      <td>iPad</td>\n",
       "      <td>Mobile Safari</td>\n",
       "      <td>US</td>\n",
       "    </tr>\n",
       "    <tr>\n",
       "      <th>efabqzuxmf</th>\n",
       "      <td>2010-01-26</td>\n",
       "      <td>2010-01-26 19:20:45</td>\n",
       "      <td>2010-01-27</td>\n",
       "      <td>-unknown-</td>\n",
       "      <td>44.0</td>\n",
       "      <td>basic</td>\n",
       "      <td>0</td>\n",
       "      <td>en</td>\n",
       "      <td>other</td>\n",
       "      <td>craigslist</td>\n",
       "      <td>untracked</td>\n",
       "      <td>Web</td>\n",
       "      <td>Mac Desktop</td>\n",
       "      <td>Firefox</td>\n",
       "      <td>US</td>\n",
       "    </tr>\n",
       "    <tr>\n",
       "      <th>emg8edpcpm</th>\n",
       "      <td>2010-01-26</td>\n",
       "      <td>2010-01-26 23:30:19</td>\n",
       "      <td>2010-07-30</td>\n",
       "      <td>-unknown-</td>\n",
       "      <td>19.0</td>\n",
       "      <td>basic</td>\n",
       "      <td>0</td>\n",
       "      <td>en</td>\n",
       "      <td>direct</td>\n",
       "      <td>direct</td>\n",
       "      <td>omg</td>\n",
       "      <td>Web</td>\n",
       "      <td>iPad</td>\n",
       "      <td>Mobile Safari</td>\n",
       "      <td>US</td>\n",
       "    </tr>\n",
       "    <tr>\n",
       "      <th>fp6ndcm5ak</th>\n",
       "      <td>2010-01-27</td>\n",
       "      <td>2010-01-27 23:20:16</td>\n",
       "      <td>2010-01-27</td>\n",
       "      <td>MALE</td>\n",
       "      <td>52.0</td>\n",
       "      <td>basic</td>\n",
       "      <td>0</td>\n",
       "      <td>en</td>\n",
       "      <td>direct</td>\n",
       "      <td>direct</td>\n",
       "      <td>untracked</td>\n",
       "      <td>Web</td>\n",
       "      <td>Windows Desktop</td>\n",
       "      <td>Firefox</td>\n",
       "      <td>US</td>\n",
       "    </tr>\n",
       "    <tr>\n",
       "      <th>0xvbruzuzz</th>\n",
       "      <td>2010-01-30</td>\n",
       "      <td>2010-01-30 04:57:49</td>\n",
       "      <td>2010-01-31</td>\n",
       "      <td>MALE</td>\n",
       "      <td>35.0</td>\n",
       "      <td>basic</td>\n",
       "      <td>0</td>\n",
       "      <td>en</td>\n",
       "      <td>direct</td>\n",
       "      <td>direct</td>\n",
       "      <td>untracked</td>\n",
       "      <td>Web</td>\n",
       "      <td>Windows Desktop</td>\n",
       "      <td>IE</td>\n",
       "      <td>CA</td>\n",
       "    </tr>\n",
       "    <tr>\n",
       "      <th>h53mz152m4</th>\n",
       "      <td>2010-02-02</td>\n",
       "      <td>2010-02-02 22:31:17</td>\n",
       "      <td>2010-02-09</td>\n",
       "      <td>FEMALE</td>\n",
       "      <td>57.0</td>\n",
       "      <td>basic</td>\n",
       "      <td>0</td>\n",
       "      <td>en</td>\n",
       "      <td>other</td>\n",
       "      <td>craigslist</td>\n",
       "      <td>omg</td>\n",
       "      <td>Web</td>\n",
       "      <td>Windows Desktop</td>\n",
       "      <td>Firefox</td>\n",
       "      <td>FR</td>\n",
       "    </tr>\n",
       "    <tr>\n",
       "      <th>b9pzliufcj</th>\n",
       "      <td>2010-02-03</td>\n",
       "      <td>2010-02-03 00:09:44</td>\n",
       "      <td>2010-02-04</td>\n",
       "      <td>FEMALE</td>\n",
       "      <td>30.0</td>\n",
       "      <td>basic</td>\n",
       "      <td>0</td>\n",
       "      <td>en</td>\n",
       "      <td>direct</td>\n",
       "      <td>direct</td>\n",
       "      <td>untracked</td>\n",
       "      <td>Web</td>\n",
       "      <td>Mac Desktop</td>\n",
       "      <td>Chrome</td>\n",
       "      <td>US</td>\n",
       "    </tr>\n",
       "    <tr>\n",
       "      <th>h2gn4f9oqa</th>\n",
       "      <td>2010-02-03</td>\n",
       "      <td>2010-02-03 22:58:54</td>\n",
       "      <td>2010-08-12</td>\n",
       "      <td>-unknown-</td>\n",
       "      <td>49.0</td>\n",
       "      <td>basic</td>\n",
       "      <td>0</td>\n",
       "      <td>en</td>\n",
       "      <td>other</td>\n",
       "      <td>craigslist</td>\n",
       "      <td>untracked</td>\n",
       "      <td>Web</td>\n",
       "      <td>Mac Desktop</td>\n",
       "      <td>Chrome</td>\n",
       "      <td>US</td>\n",
       "    </tr>\n",
       "    <tr>\n",
       "      <th>rxdkzkowt2</th>\n",
       "      <td>2010-02-06</td>\n",
       "      <td>2010-02-06 07:22:33</td>\n",
       "      <td>2010-02-10</td>\n",
       "      <td>FEMALE</td>\n",
       "      <td>36.0</td>\n",
       "      <td>basic</td>\n",
       "      <td>2</td>\n",
       "      <td>en</td>\n",
       "      <td>other</td>\n",
       "      <td>craigslist</td>\n",
       "      <td>untracked</td>\n",
       "      <td>Web</td>\n",
       "      <td>iPhone</td>\n",
       "      <td>-unknown-</td>\n",
       "      <td>US</td>\n",
       "    </tr>\n",
       "    <tr>\n",
       "      <th>prqnudhgdx</th>\n",
       "      <td>2010-02-07</td>\n",
       "      <td>2010-02-07 01:42:29</td>\n",
       "      <td>2010-02-07</td>\n",
       "      <td>FEMALE</td>\n",
       "      <td>32.0</td>\n",
       "      <td>basic</td>\n",
       "      <td>0</td>\n",
       "      <td>en</td>\n",
       "      <td>other</td>\n",
       "      <td>craigslist</td>\n",
       "      <td>linked</td>\n",
       "      <td>Web</td>\n",
       "      <td>Windows Desktop</td>\n",
       "      <td>Chrome</td>\n",
       "      <td>US</td>\n",
       "    </tr>\n",
       "    <tr>\n",
       "      <th>6qx6xl5eho</th>\n",
       "      <td>2010-02-07</td>\n",
       "      <td>2010-02-07 01:52:07</td>\n",
       "      <td>2010-06-01</td>\n",
       "      <td>MALE</td>\n",
       "      <td>33.0</td>\n",
       "      <td>basic</td>\n",
       "      <td>2</td>\n",
       "      <td>en</td>\n",
       "      <td>direct</td>\n",
       "      <td>direct</td>\n",
       "      <td>untracked</td>\n",
       "      <td>Web</td>\n",
       "      <td>Mac Desktop</td>\n",
       "      <td>Firefox</td>\n",
       "      <td>US</td>\n",
       "    </tr>\n",
       "    <tr>\n",
       "      <th>...</th>\n",
       "      <td>...</td>\n",
       "      <td>...</td>\n",
       "      <td>...</td>\n",
       "      <td>...</td>\n",
       "      <td>...</td>\n",
       "      <td>...</td>\n",
       "      <td>...</td>\n",
       "      <td>...</td>\n",
       "      <td>...</td>\n",
       "      <td>...</td>\n",
       "      <td>...</td>\n",
       "      <td>...</td>\n",
       "      <td>...</td>\n",
       "      <td>...</td>\n",
       "      <td>...</td>\n",
       "    </tr>\n",
       "    <tr>\n",
       "      <th>x2otzto3uq</th>\n",
       "      <td>2012-12-29</td>\n",
       "      <td>2012-12-29 01:39:04</td>\n",
       "      <td>2012-12-29</td>\n",
       "      <td>MALE</td>\n",
       "      <td>31.0</td>\n",
       "      <td>basic</td>\n",
       "      <td>0</td>\n",
       "      <td>en</td>\n",
       "      <td>direct</td>\n",
       "      <td>direct</td>\n",
       "      <td>linked</td>\n",
       "      <td>Web</td>\n",
       "      <td>Windows Desktop</td>\n",
       "      <td>Firefox</td>\n",
       "      <td>US</td>\n",
       "    </tr>\n",
       "    <tr>\n",
       "      <th>uc4qk41p6e</th>\n",
       "      <td>2012-12-29</td>\n",
       "      <td>2012-12-29 01:47:11</td>\n",
       "      <td>2012-12-30</td>\n",
       "      <td>MALE</td>\n",
       "      <td>36.0</td>\n",
       "      <td>basic</td>\n",
       "      <td>0</td>\n",
       "      <td>en</td>\n",
       "      <td>direct</td>\n",
       "      <td>direct</td>\n",
       "      <td>untracked</td>\n",
       "      <td>Web</td>\n",
       "      <td>Mac Desktop</td>\n",
       "      <td>Chrome</td>\n",
       "      <td>US</td>\n",
       "    </tr>\n",
       "    <tr>\n",
       "      <th>y3tum2p1ma</th>\n",
       "      <td>2012-12-29</td>\n",
       "      <td>2012-12-29 02:55:08</td>\n",
       "      <td>2012-12-31</td>\n",
       "      <td>MALE</td>\n",
       "      <td>27.0</td>\n",
       "      <td>facebook</td>\n",
       "      <td>0</td>\n",
       "      <td>en</td>\n",
       "      <td>direct</td>\n",
       "      <td>direct</td>\n",
       "      <td>linked</td>\n",
       "      <td>Web</td>\n",
       "      <td>Windows Desktop</td>\n",
       "      <td>Chrome</td>\n",
       "      <td>US</td>\n",
       "    </tr>\n",
       "    <tr>\n",
       "      <th>vklbr6biyb</th>\n",
       "      <td>2012-12-29</td>\n",
       "      <td>2012-12-29 03:19:48</td>\n",
       "      <td>2012-12-29</td>\n",
       "      <td>FEMALE</td>\n",
       "      <td>24.0</td>\n",
       "      <td>facebook</td>\n",
       "      <td>0</td>\n",
       "      <td>en</td>\n",
       "      <td>direct</td>\n",
       "      <td>direct</td>\n",
       "      <td>linked</td>\n",
       "      <td>Web</td>\n",
       "      <td>Mac Desktop</td>\n",
       "      <td>Safari</td>\n",
       "      <td>US</td>\n",
       "    </tr>\n",
       "    <tr>\n",
       "      <th>gyjoy5es8m</th>\n",
       "      <td>2012-12-29</td>\n",
       "      <td>2012-12-29 03:39:39</td>\n",
       "      <td>2012-12-30</td>\n",
       "      <td>FEMALE</td>\n",
       "      <td>27.0</td>\n",
       "      <td>facebook</td>\n",
       "      <td>0</td>\n",
       "      <td>en</td>\n",
       "      <td>sem-brand</td>\n",
       "      <td>google</td>\n",
       "      <td>linked</td>\n",
       "      <td>Web</td>\n",
       "      <td>Mac Desktop</td>\n",
       "      <td>Safari</td>\n",
       "      <td>US</td>\n",
       "    </tr>\n",
       "    <tr>\n",
       "      <th>lxfxcha9r3</th>\n",
       "      <td>2012-12-29</td>\n",
       "      <td>2012-12-29 06:46:55</td>\n",
       "      <td>2012-12-31</td>\n",
       "      <td>FEMALE</td>\n",
       "      <td>25.0</td>\n",
       "      <td>facebook</td>\n",
       "      <td>0</td>\n",
       "      <td>en</td>\n",
       "      <td>direct</td>\n",
       "      <td>direct</td>\n",
       "      <td>untracked</td>\n",
       "      <td>Web</td>\n",
       "      <td>Windows Desktop</td>\n",
       "      <td>Chrome</td>\n",
       "      <td>FR</td>\n",
       "    </tr>\n",
       "    <tr>\n",
       "      <th>keily0ikyr</th>\n",
       "      <td>2012-12-29</td>\n",
       "      <td>2012-12-29 06:50:01</td>\n",
       "      <td>2012-12-31</td>\n",
       "      <td>MALE</td>\n",
       "      <td>40.0</td>\n",
       "      <td>basic</td>\n",
       "      <td>0</td>\n",
       "      <td>en</td>\n",
       "      <td>direct</td>\n",
       "      <td>direct</td>\n",
       "      <td>untracked</td>\n",
       "      <td>Web</td>\n",
       "      <td>Windows Desktop</td>\n",
       "      <td>IE</td>\n",
       "      <td>US</td>\n",
       "    </tr>\n",
       "    <tr>\n",
       "      <th>lmha02h4zk</th>\n",
       "      <td>2012-12-29</td>\n",
       "      <td>2012-12-29 08:11:14</td>\n",
       "      <td>2012-12-30</td>\n",
       "      <td>FEMALE</td>\n",
       "      <td>70.0</td>\n",
       "      <td>basic</td>\n",
       "      <td>0</td>\n",
       "      <td>en</td>\n",
       "      <td>remarketing</td>\n",
       "      <td>google</td>\n",
       "      <td>omg</td>\n",
       "      <td>Web</td>\n",
       "      <td>Windows Desktop</td>\n",
       "      <td>IE</td>\n",
       "      <td>US</td>\n",
       "    </tr>\n",
       "    <tr>\n",
       "      <th>mzkff2namt</th>\n",
       "      <td>2012-12-29</td>\n",
       "      <td>2012-12-29 08:14:48</td>\n",
       "      <td>2012-12-29</td>\n",
       "      <td>FEMALE</td>\n",
       "      <td>49.0</td>\n",
       "      <td>facebook</td>\n",
       "      <td>0</td>\n",
       "      <td>en</td>\n",
       "      <td>direct</td>\n",
       "      <td>direct</td>\n",
       "      <td>untracked</td>\n",
       "      <td>Web</td>\n",
       "      <td>Windows Desktop</td>\n",
       "      <td>Chrome</td>\n",
       "      <td>GB</td>\n",
       "    </tr>\n",
       "    <tr>\n",
       "      <th>jc9cbun8mr</th>\n",
       "      <td>2012-12-29</td>\n",
       "      <td>2012-12-29 17:33:53</td>\n",
       "      <td>2012-12-29</td>\n",
       "      <td>FEMALE</td>\n",
       "      <td>33.0</td>\n",
       "      <td>facebook</td>\n",
       "      <td>0</td>\n",
       "      <td>en</td>\n",
       "      <td>sem-brand</td>\n",
       "      <td>google</td>\n",
       "      <td>omg</td>\n",
       "      <td>Web</td>\n",
       "      <td>Mac Desktop</td>\n",
       "      <td>Chrome</td>\n",
       "      <td>US</td>\n",
       "    </tr>\n",
       "    <tr>\n",
       "      <th>lngw8kkr9l</th>\n",
       "      <td>2012-12-29</td>\n",
       "      <td>2012-12-29 19:07:20</td>\n",
       "      <td>2012-12-30</td>\n",
       "      <td>MALE</td>\n",
       "      <td>27.0</td>\n",
       "      <td>facebook</td>\n",
       "      <td>0</td>\n",
       "      <td>en</td>\n",
       "      <td>direct</td>\n",
       "      <td>direct</td>\n",
       "      <td>linked</td>\n",
       "      <td>Web</td>\n",
       "      <td>Mac Desktop</td>\n",
       "      <td>Chrome</td>\n",
       "      <td>US</td>\n",
       "    </tr>\n",
       "    <tr>\n",
       "      <th>t3qe518q0s</th>\n",
       "      <td>2012-12-29</td>\n",
       "      <td>2012-12-29 19:22:53</td>\n",
       "      <td>2012-12-30</td>\n",
       "      <td>MALE</td>\n",
       "      <td>42.0</td>\n",
       "      <td>facebook</td>\n",
       "      <td>0</td>\n",
       "      <td>en</td>\n",
       "      <td>direct</td>\n",
       "      <td>direct</td>\n",
       "      <td>untracked</td>\n",
       "      <td>Web</td>\n",
       "      <td>Mac Desktop</td>\n",
       "      <td>Safari</td>\n",
       "      <td>US</td>\n",
       "    </tr>\n",
       "    <tr>\n",
       "      <th>xp698u9w41</th>\n",
       "      <td>2012-12-29</td>\n",
       "      <td>2012-12-29 19:46:57</td>\n",
       "      <td>2012-12-29</td>\n",
       "      <td>FEMALE</td>\n",
       "      <td>48.0</td>\n",
       "      <td>facebook</td>\n",
       "      <td>0</td>\n",
       "      <td>en</td>\n",
       "      <td>direct</td>\n",
       "      <td>direct</td>\n",
       "      <td>linked</td>\n",
       "      <td>Web</td>\n",
       "      <td>Mac Desktop</td>\n",
       "      <td>Chrome</td>\n",
       "      <td>US</td>\n",
       "    </tr>\n",
       "    <tr>\n",
       "      <th>mqeko7nl3o</th>\n",
       "      <td>2012-12-29</td>\n",
       "      <td>2012-12-29 21:48:31</td>\n",
       "      <td>2012-12-30</td>\n",
       "      <td>FEMALE</td>\n",
       "      <td>35.0</td>\n",
       "      <td>facebook</td>\n",
       "      <td>12</td>\n",
       "      <td>en</td>\n",
       "      <td>api</td>\n",
       "      <td>other</td>\n",
       "      <td>untracked</td>\n",
       "      <td>iOS</td>\n",
       "      <td>iPhone</td>\n",
       "      <td>-unknown-</td>\n",
       "      <td>US</td>\n",
       "    </tr>\n",
       "    <tr>\n",
       "      <th>i1zx9q8lgk</th>\n",
       "      <td>2012-12-29</td>\n",
       "      <td>2012-12-29 22:31:51</td>\n",
       "      <td>2012-12-30</td>\n",
       "      <td>MALE</td>\n",
       "      <td>32.0</td>\n",
       "      <td>basic</td>\n",
       "      <td>0</td>\n",
       "      <td>en</td>\n",
       "      <td>sem-brand</td>\n",
       "      <td>google</td>\n",
       "      <td>omg</td>\n",
       "      <td>Web</td>\n",
       "      <td>Windows Desktop</td>\n",
       "      <td>Firefox</td>\n",
       "      <td>US</td>\n",
       "    </tr>\n",
       "    <tr>\n",
       "      <th>3lm3ny71wo</th>\n",
       "      <td>2012-12-29</td>\n",
       "      <td>2012-12-29 22:39:57</td>\n",
       "      <td>2012-12-30</td>\n",
       "      <td>MALE</td>\n",
       "      <td>39.0</td>\n",
       "      <td>facebook</td>\n",
       "      <td>0</td>\n",
       "      <td>en</td>\n",
       "      <td>sem-non-brand</td>\n",
       "      <td>google</td>\n",
       "      <td>omg</td>\n",
       "      <td>Web</td>\n",
       "      <td>Windows Desktop</td>\n",
       "      <td>Firefox</td>\n",
       "      <td>US</td>\n",
       "    </tr>\n",
       "    <tr>\n",
       "      <th>q3tqibqh6b</th>\n",
       "      <td>2012-12-30</td>\n",
       "      <td>2012-12-30 02:46:15</td>\n",
       "      <td>2012-12-31</td>\n",
       "      <td>MALE</td>\n",
       "      <td>24.0</td>\n",
       "      <td>facebook</td>\n",
       "      <td>0</td>\n",
       "      <td>en</td>\n",
       "      <td>direct</td>\n",
       "      <td>direct</td>\n",
       "      <td>untracked</td>\n",
       "      <td>Web</td>\n",
       "      <td>Mac Desktop</td>\n",
       "      <td>Safari</td>\n",
       "      <td>US</td>\n",
       "    </tr>\n",
       "    <tr>\n",
       "      <th>fs4qlkncsg</th>\n",
       "      <td>2012-12-30</td>\n",
       "      <td>2012-12-30 04:09:11</td>\n",
       "      <td>2012-12-30</td>\n",
       "      <td>-unknown-</td>\n",
       "      <td>25.0</td>\n",
       "      <td>basic</td>\n",
       "      <td>0</td>\n",
       "      <td>en</td>\n",
       "      <td>direct</td>\n",
       "      <td>direct</td>\n",
       "      <td>untracked</td>\n",
       "      <td>Web</td>\n",
       "      <td>Mac Desktop</td>\n",
       "      <td>Firefox</td>\n",
       "      <td>other</td>\n",
       "    </tr>\n",
       "    <tr>\n",
       "      <th>sb1yrmvojc</th>\n",
       "      <td>2012-12-30</td>\n",
       "      <td>2012-12-30 04:22:15</td>\n",
       "      <td>2012-12-30</td>\n",
       "      <td>-unknown-</td>\n",
       "      <td>33.0</td>\n",
       "      <td>basic</td>\n",
       "      <td>0</td>\n",
       "      <td>en</td>\n",
       "      <td>direct</td>\n",
       "      <td>direct</td>\n",
       "      <td>linked</td>\n",
       "      <td>Web</td>\n",
       "      <td>Mac Desktop</td>\n",
       "      <td>Safari</td>\n",
       "      <td>other</td>\n",
       "    </tr>\n",
       "    <tr>\n",
       "      <th>73dmxkdqad</th>\n",
       "      <td>2012-12-30</td>\n",
       "      <td>2012-12-30 05:24:38</td>\n",
       "      <td>2012-12-31</td>\n",
       "      <td>FEMALE</td>\n",
       "      <td>31.0</td>\n",
       "      <td>facebook</td>\n",
       "      <td>12</td>\n",
       "      <td>en</td>\n",
       "      <td>api</td>\n",
       "      <td>other</td>\n",
       "      <td>linked</td>\n",
       "      <td>iOS</td>\n",
       "      <td>Mac Desktop</td>\n",
       "      <td>Chrome</td>\n",
       "      <td>US</td>\n",
       "    </tr>\n",
       "    <tr>\n",
       "      <th>j4d6bcnjgd</th>\n",
       "      <td>2012-12-30</td>\n",
       "      <td>2012-12-30 14:54:17</td>\n",
       "      <td>2012-12-30</td>\n",
       "      <td>-unknown-</td>\n",
       "      <td>27.0</td>\n",
       "      <td>basic</td>\n",
       "      <td>0</td>\n",
       "      <td>en</td>\n",
       "      <td>direct</td>\n",
       "      <td>direct</td>\n",
       "      <td>untracked</td>\n",
       "      <td>Web</td>\n",
       "      <td>Windows Desktop</td>\n",
       "      <td>Chrome</td>\n",
       "      <td>ES</td>\n",
       "    </tr>\n",
       "    <tr>\n",
       "      <th>gldqvo8zpo</th>\n",
       "      <td>2012-12-30</td>\n",
       "      <td>2012-12-30 19:08:51</td>\n",
       "      <td>2012-12-31</td>\n",
       "      <td>FEMALE</td>\n",
       "      <td>34.0</td>\n",
       "      <td>facebook</td>\n",
       "      <td>0</td>\n",
       "      <td>en</td>\n",
       "      <td>sem-brand</td>\n",
       "      <td>google</td>\n",
       "      <td>omg</td>\n",
       "      <td>Web</td>\n",
       "      <td>Mac Desktop</td>\n",
       "      <td>Chrome</td>\n",
       "      <td>NL</td>\n",
       "    </tr>\n",
       "    <tr>\n",
       "      <th>ljlk0jea21</th>\n",
       "      <td>2012-12-30</td>\n",
       "      <td>2012-12-30 20:45:13</td>\n",
       "      <td>2012-12-30</td>\n",
       "      <td>FEMALE</td>\n",
       "      <td>28.0</td>\n",
       "      <td>basic</td>\n",
       "      <td>0</td>\n",
       "      <td>en</td>\n",
       "      <td>direct</td>\n",
       "      <td>direct</td>\n",
       "      <td>untracked</td>\n",
       "      <td>Web</td>\n",
       "      <td>Windows Desktop</td>\n",
       "      <td>Chrome</td>\n",
       "      <td>US</td>\n",
       "    </tr>\n",
       "    <tr>\n",
       "      <th>y6bzzd248q</th>\n",
       "      <td>2012-12-30</td>\n",
       "      <td>2012-12-30 20:47:14</td>\n",
       "      <td>2012-12-31</td>\n",
       "      <td>FEMALE</td>\n",
       "      <td>21.0</td>\n",
       "      <td>basic</td>\n",
       "      <td>0</td>\n",
       "      <td>en</td>\n",
       "      <td>sem-non-brand</td>\n",
       "      <td>google</td>\n",
       "      <td>linked</td>\n",
       "      <td>Web</td>\n",
       "      <td>Mac Desktop</td>\n",
       "      <td>Firefox</td>\n",
       "      <td>US</td>\n",
       "    </tr>\n",
       "    <tr>\n",
       "      <th>oemm5mbaov</th>\n",
       "      <td>2012-12-30</td>\n",
       "      <td>2012-12-30 23:14:12</td>\n",
       "      <td>2012-12-31</td>\n",
       "      <td>FEMALE</td>\n",
       "      <td>34.0</td>\n",
       "      <td>facebook</td>\n",
       "      <td>0</td>\n",
       "      <td>en</td>\n",
       "      <td>direct</td>\n",
       "      <td>direct</td>\n",
       "      <td>untracked</td>\n",
       "      <td>Web</td>\n",
       "      <td>Windows Desktop</td>\n",
       "      <td>IE</td>\n",
       "      <td>US</td>\n",
       "    </tr>\n",
       "    <tr>\n",
       "      <th>uw6yraubuq</th>\n",
       "      <td>2012-12-31</td>\n",
       "      <td>2012-12-31 00:50:55</td>\n",
       "      <td>2012-12-31</td>\n",
       "      <td>MALE</td>\n",
       "      <td>43.0</td>\n",
       "      <td>facebook</td>\n",
       "      <td>0</td>\n",
       "      <td>en</td>\n",
       "      <td>direct</td>\n",
       "      <td>direct</td>\n",
       "      <td>linked</td>\n",
       "      <td>Web</td>\n",
       "      <td>Mac Desktop</td>\n",
       "      <td>Chrome</td>\n",
       "      <td>US</td>\n",
       "    </tr>\n",
       "    <tr>\n",
       "      <th>89zyvcizcn</th>\n",
       "      <td>2012-12-31</td>\n",
       "      <td>2012-12-31 01:37:26</td>\n",
       "      <td>2012-12-31</td>\n",
       "      <td>MALE</td>\n",
       "      <td>38.0</td>\n",
       "      <td>facebook</td>\n",
       "      <td>0</td>\n",
       "      <td>en</td>\n",
       "      <td>direct</td>\n",
       "      <td>direct</td>\n",
       "      <td>linked</td>\n",
       "      <td>Web</td>\n",
       "      <td>Mac Desktop</td>\n",
       "      <td>Safari</td>\n",
       "      <td>IT</td>\n",
       "    </tr>\n",
       "    <tr>\n",
       "      <th>u2q1xxli10</th>\n",
       "      <td>2012-12-31</td>\n",
       "      <td>2012-12-31 07:31:30</td>\n",
       "      <td>2012-12-31</td>\n",
       "      <td>MALE</td>\n",
       "      <td>25.0</td>\n",
       "      <td>facebook</td>\n",
       "      <td>0</td>\n",
       "      <td>en</td>\n",
       "      <td>direct</td>\n",
       "      <td>direct</td>\n",
       "      <td>untracked</td>\n",
       "      <td>Web</td>\n",
       "      <td>Mac Desktop</td>\n",
       "      <td>Safari</td>\n",
       "      <td>US</td>\n",
       "    </tr>\n",
       "    <tr>\n",
       "      <th>u7g96795lt</th>\n",
       "      <td>2012-12-31</td>\n",
       "      <td>2012-12-31 13:28:40</td>\n",
       "      <td>2012-12-31</td>\n",
       "      <td>FEMALE</td>\n",
       "      <td>36.0</td>\n",
       "      <td>facebook</td>\n",
       "      <td>0</td>\n",
       "      <td>en</td>\n",
       "      <td>direct</td>\n",
       "      <td>direct</td>\n",
       "      <td>linked</td>\n",
       "      <td>Web</td>\n",
       "      <td>Mac Desktop</td>\n",
       "      <td>Safari</td>\n",
       "      <td>other</td>\n",
       "    </tr>\n",
       "    <tr>\n",
       "      <th>vwns3udy17</th>\n",
       "      <td>2012-12-31</td>\n",
       "      <td>2012-12-31 19:14:09</td>\n",
       "      <td>2012-12-31</td>\n",
       "      <td>FEMALE</td>\n",
       "      <td>43.0</td>\n",
       "      <td>facebook</td>\n",
       "      <td>0</td>\n",
       "      <td>en</td>\n",
       "      <td>direct</td>\n",
       "      <td>direct</td>\n",
       "      <td>untracked</td>\n",
       "      <td>Web</td>\n",
       "      <td>Windows Desktop</td>\n",
       "      <td>Firefox</td>\n",
       "      <td>US</td>\n",
       "    </tr>\n",
       "  </tbody>\n",
       "</table>\n",
       "<p>16661 rows × 15 columns</p>\n",
       "</div>"
      ],
      "text/plain": [
       "              account              active     booked     gender   age  \\\n",
       "id                                                                      \n",
       "4ft3gnwmtx 2010-09-28 2009-06-09 23:12:47 2010-08-02     FEMALE  56.0   \n",
       "bjjt8pjhuk 2011-12-05 2009-10-31 06:01:29 2012-09-08     FEMALE  42.0   \n",
       "87mebub9p4 2010-09-14 2009-12-08 06:11:05 2010-02-18  -unknown-  41.0   \n",
       "lsw9q7uk0j 2010-01-02 2010-01-02 01:25:58 2010-01-05     FEMALE  46.0   \n",
       "0d01nltbrs 2010-01-03 2010-01-03 19:19:05 2010-01-13     FEMALE  47.0   \n",
       "a1vcnhxeij 2010-01-04 2010-01-04 00:42:11 2010-07-29     FEMALE  50.0   \n",
       "6uh8zyj2gn 2010-01-04 2010-01-04 02:37:58 2010-01-04  -unknown-  46.0   \n",
       "yuuqmid2rp 2010-01-04 2010-01-04 19:42:51 2010-01-06     FEMALE  36.0   \n",
       "v4d5rl22px 2010-01-07 2010-01-07 20:45:55 2010-01-08     FEMALE  33.0   \n",
       "gdka1q5ktd 2010-01-10 2010-01-10 01:08:17 2010-01-10     FEMALE  29.0   \n",
       "qsibmuz9sx 2010-01-10 2010-01-10 22:09:41 2010-01-11       MALE  30.0   \n",
       "80f7dwscrn 2010-01-11 2010-01-11 03:14:38 2010-01-11  -unknown-  40.0   \n",
       "al8bcetz0g 2010-01-12 2010-01-12 13:14:44 2010-01-15     FEMALE  26.0   \n",
       "hfrl5gle36 2010-01-12 2010-01-12 20:59:49 2010-01-22     FEMALE  32.0   \n",
       "hql77nu2lk 2010-01-13 2010-01-13 06:43:33 2010-01-19  -unknown-  37.0   \n",
       "cheova4spt 2010-01-14 2010-01-14 02:52:57 2010-01-24  -unknown-  42.0   \n",
       "7my0vrljxc 2010-01-15 2010-01-15 22:19:29 2010-01-15     FEMALE  31.0   \n",
       "k15j7mbny0 2010-01-19 2010-01-19 01:36:16 2010-01-21     FEMALE  30.0   \n",
       "g1q6caq452 2010-01-23 2010-01-23 20:15:40 2010-01-27     FEMALE  44.0   \n",
       "ae59m0iqsx 2010-01-25 2010-01-25 23:22:46 2010-01-26  -unknown-  33.0   \n",
       "efabqzuxmf 2010-01-26 2010-01-26 19:20:45 2010-01-27  -unknown-  44.0   \n",
       "emg8edpcpm 2010-01-26 2010-01-26 23:30:19 2010-07-30  -unknown-  19.0   \n",
       "fp6ndcm5ak 2010-01-27 2010-01-27 23:20:16 2010-01-27       MALE  52.0   \n",
       "0xvbruzuzz 2010-01-30 2010-01-30 04:57:49 2010-01-31       MALE  35.0   \n",
       "h53mz152m4 2010-02-02 2010-02-02 22:31:17 2010-02-09     FEMALE  57.0   \n",
       "b9pzliufcj 2010-02-03 2010-02-03 00:09:44 2010-02-04     FEMALE  30.0   \n",
       "h2gn4f9oqa 2010-02-03 2010-02-03 22:58:54 2010-08-12  -unknown-  49.0   \n",
       "rxdkzkowt2 2010-02-06 2010-02-06 07:22:33 2010-02-10     FEMALE  36.0   \n",
       "prqnudhgdx 2010-02-07 2010-02-07 01:42:29 2010-02-07     FEMALE  32.0   \n",
       "6qx6xl5eho 2010-02-07 2010-02-07 01:52:07 2010-06-01       MALE  33.0   \n",
       "...               ...                 ...        ...        ...   ...   \n",
       "x2otzto3uq 2012-12-29 2012-12-29 01:39:04 2012-12-29       MALE  31.0   \n",
       "uc4qk41p6e 2012-12-29 2012-12-29 01:47:11 2012-12-30       MALE  36.0   \n",
       "y3tum2p1ma 2012-12-29 2012-12-29 02:55:08 2012-12-31       MALE  27.0   \n",
       "vklbr6biyb 2012-12-29 2012-12-29 03:19:48 2012-12-29     FEMALE  24.0   \n",
       "gyjoy5es8m 2012-12-29 2012-12-29 03:39:39 2012-12-30     FEMALE  27.0   \n",
       "lxfxcha9r3 2012-12-29 2012-12-29 06:46:55 2012-12-31     FEMALE  25.0   \n",
       "keily0ikyr 2012-12-29 2012-12-29 06:50:01 2012-12-31       MALE  40.0   \n",
       "lmha02h4zk 2012-12-29 2012-12-29 08:11:14 2012-12-30     FEMALE  70.0   \n",
       "mzkff2namt 2012-12-29 2012-12-29 08:14:48 2012-12-29     FEMALE  49.0   \n",
       "jc9cbun8mr 2012-12-29 2012-12-29 17:33:53 2012-12-29     FEMALE  33.0   \n",
       "lngw8kkr9l 2012-12-29 2012-12-29 19:07:20 2012-12-30       MALE  27.0   \n",
       "t3qe518q0s 2012-12-29 2012-12-29 19:22:53 2012-12-30       MALE  42.0   \n",
       "xp698u9w41 2012-12-29 2012-12-29 19:46:57 2012-12-29     FEMALE  48.0   \n",
       "mqeko7nl3o 2012-12-29 2012-12-29 21:48:31 2012-12-30     FEMALE  35.0   \n",
       "i1zx9q8lgk 2012-12-29 2012-12-29 22:31:51 2012-12-30       MALE  32.0   \n",
       "3lm3ny71wo 2012-12-29 2012-12-29 22:39:57 2012-12-30       MALE  39.0   \n",
       "q3tqibqh6b 2012-12-30 2012-12-30 02:46:15 2012-12-31       MALE  24.0   \n",
       "fs4qlkncsg 2012-12-30 2012-12-30 04:09:11 2012-12-30  -unknown-  25.0   \n",
       "sb1yrmvojc 2012-12-30 2012-12-30 04:22:15 2012-12-30  -unknown-  33.0   \n",
       "73dmxkdqad 2012-12-30 2012-12-30 05:24:38 2012-12-31     FEMALE  31.0   \n",
       "j4d6bcnjgd 2012-12-30 2012-12-30 14:54:17 2012-12-30  -unknown-  27.0   \n",
       "gldqvo8zpo 2012-12-30 2012-12-30 19:08:51 2012-12-31     FEMALE  34.0   \n",
       "ljlk0jea21 2012-12-30 2012-12-30 20:45:13 2012-12-30     FEMALE  28.0   \n",
       "y6bzzd248q 2012-12-30 2012-12-30 20:47:14 2012-12-31     FEMALE  21.0   \n",
       "oemm5mbaov 2012-12-30 2012-12-30 23:14:12 2012-12-31     FEMALE  34.0   \n",
       "uw6yraubuq 2012-12-31 2012-12-31 00:50:55 2012-12-31       MALE  43.0   \n",
       "89zyvcizcn 2012-12-31 2012-12-31 01:37:26 2012-12-31       MALE  38.0   \n",
       "u2q1xxli10 2012-12-31 2012-12-31 07:31:30 2012-12-31       MALE  25.0   \n",
       "u7g96795lt 2012-12-31 2012-12-31 13:28:40 2012-12-31     FEMALE  36.0   \n",
       "vwns3udy17 2012-12-31 2012-12-31 19:14:09 2012-12-31     FEMALE  43.0   \n",
       "\n",
       "           signup_method  signup_flow language affiliate_channel  \\\n",
       "id                                                                 \n",
       "4ft3gnwmtx         basic            3       en            direct   \n",
       "bjjt8pjhuk      facebook            0       en            direct   \n",
       "87mebub9p4         basic            0       en            direct   \n",
       "lsw9q7uk0j         basic            0       en             other   \n",
       "0d01nltbrs         basic            0       en            direct   \n",
       "a1vcnhxeij         basic            0       en             other   \n",
       "6uh8zyj2gn         basic            0       en             other   \n",
       "yuuqmid2rp         basic            0       en             other   \n",
       "v4d5rl22px         basic            0       en            direct   \n",
       "gdka1q5ktd         basic            0       en            direct   \n",
       "qsibmuz9sx         basic            0       en            direct   \n",
       "80f7dwscrn         basic            0       en               seo   \n",
       "al8bcetz0g         basic            0       en             other   \n",
       "hfrl5gle36         basic            0       en             other   \n",
       "hql77nu2lk         basic            0       en            direct   \n",
       "cheova4spt         basic            0       en             other   \n",
       "7my0vrljxc         basic            0       en            direct   \n",
       "k15j7mbny0         basic            0       en            direct   \n",
       "g1q6caq452         basic            0       en             other   \n",
       "ae59m0iqsx         basic            0       en             other   \n",
       "efabqzuxmf         basic            0       en             other   \n",
       "emg8edpcpm         basic            0       en            direct   \n",
       "fp6ndcm5ak         basic            0       en            direct   \n",
       "0xvbruzuzz         basic            0       en            direct   \n",
       "h53mz152m4         basic            0       en             other   \n",
       "b9pzliufcj         basic            0       en            direct   \n",
       "h2gn4f9oqa         basic            0       en             other   \n",
       "rxdkzkowt2         basic            2       en             other   \n",
       "prqnudhgdx         basic            0       en             other   \n",
       "6qx6xl5eho         basic            2       en            direct   \n",
       "...                  ...          ...      ...               ...   \n",
       "x2otzto3uq         basic            0       en            direct   \n",
       "uc4qk41p6e         basic            0       en            direct   \n",
       "y3tum2p1ma      facebook            0       en            direct   \n",
       "vklbr6biyb      facebook            0       en            direct   \n",
       "gyjoy5es8m      facebook            0       en         sem-brand   \n",
       "lxfxcha9r3      facebook            0       en            direct   \n",
       "keily0ikyr         basic            0       en            direct   \n",
       "lmha02h4zk         basic            0       en       remarketing   \n",
       "mzkff2namt      facebook            0       en            direct   \n",
       "jc9cbun8mr      facebook            0       en         sem-brand   \n",
       "lngw8kkr9l      facebook            0       en            direct   \n",
       "t3qe518q0s      facebook            0       en            direct   \n",
       "xp698u9w41      facebook            0       en            direct   \n",
       "mqeko7nl3o      facebook           12       en               api   \n",
       "i1zx9q8lgk         basic            0       en         sem-brand   \n",
       "3lm3ny71wo      facebook            0       en     sem-non-brand   \n",
       "q3tqibqh6b      facebook            0       en            direct   \n",
       "fs4qlkncsg         basic            0       en            direct   \n",
       "sb1yrmvojc         basic            0       en            direct   \n",
       "73dmxkdqad      facebook           12       en               api   \n",
       "j4d6bcnjgd         basic            0       en            direct   \n",
       "gldqvo8zpo      facebook            0       en         sem-brand   \n",
       "ljlk0jea21         basic            0       en            direct   \n",
       "y6bzzd248q         basic            0       en     sem-non-brand   \n",
       "oemm5mbaov      facebook            0       en            direct   \n",
       "uw6yraubuq      facebook            0       en            direct   \n",
       "89zyvcizcn      facebook            0       en            direct   \n",
       "u2q1xxli10      facebook            0       en            direct   \n",
       "u7g96795lt      facebook            0       en            direct   \n",
       "vwns3udy17      facebook            0       en            direct   \n",
       "\n",
       "           affiliate_provider first_affiliate_tracked signup_app  \\\n",
       "id                                                                 \n",
       "4ft3gnwmtx             direct               untracked        Web   \n",
       "bjjt8pjhuk             direct               untracked        Web   \n",
       "87mebub9p4             direct               untracked        Web   \n",
       "lsw9q7uk0j         craigslist               untracked        Web   \n",
       "0d01nltbrs             direct                     omg        Web   \n",
       "a1vcnhxeij         craigslist               untracked        Web   \n",
       "6uh8zyj2gn         craigslist                     omg        Web   \n",
       "yuuqmid2rp         craigslist               untracked        Web   \n",
       "v4d5rl22px             direct               untracked        Web   \n",
       "gdka1q5ktd             direct               untracked        Web   \n",
       "qsibmuz9sx             direct                  linked        Web   \n",
       "80f7dwscrn             google               untracked        Web   \n",
       "al8bcetz0g         craigslist               untracked        Web   \n",
       "hfrl5gle36         craigslist               untracked        Web   \n",
       "hql77nu2lk             direct               untracked        Web   \n",
       "cheova4spt         craigslist               untracked        Web   \n",
       "7my0vrljxc             direct                  linked        Web   \n",
       "k15j7mbny0             direct               untracked        Web   \n",
       "g1q6caq452         craigslist               untracked        Web   \n",
       "ae59m0iqsx         craigslist               untracked        Web   \n",
       "efabqzuxmf         craigslist               untracked        Web   \n",
       "emg8edpcpm             direct                     omg        Web   \n",
       "fp6ndcm5ak             direct               untracked        Web   \n",
       "0xvbruzuzz             direct               untracked        Web   \n",
       "h53mz152m4         craigslist                     omg        Web   \n",
       "b9pzliufcj             direct               untracked        Web   \n",
       "h2gn4f9oqa         craigslist               untracked        Web   \n",
       "rxdkzkowt2         craigslist               untracked        Web   \n",
       "prqnudhgdx         craigslist                  linked        Web   \n",
       "6qx6xl5eho             direct               untracked        Web   \n",
       "...                       ...                     ...        ...   \n",
       "x2otzto3uq             direct                  linked        Web   \n",
       "uc4qk41p6e             direct               untracked        Web   \n",
       "y3tum2p1ma             direct                  linked        Web   \n",
       "vklbr6biyb             direct                  linked        Web   \n",
       "gyjoy5es8m             google                  linked        Web   \n",
       "lxfxcha9r3             direct               untracked        Web   \n",
       "keily0ikyr             direct               untracked        Web   \n",
       "lmha02h4zk             google                     omg        Web   \n",
       "mzkff2namt             direct               untracked        Web   \n",
       "jc9cbun8mr             google                     omg        Web   \n",
       "lngw8kkr9l             direct                  linked        Web   \n",
       "t3qe518q0s             direct               untracked        Web   \n",
       "xp698u9w41             direct                  linked        Web   \n",
       "mqeko7nl3o              other               untracked        iOS   \n",
       "i1zx9q8lgk             google                     omg        Web   \n",
       "3lm3ny71wo             google                     omg        Web   \n",
       "q3tqibqh6b             direct               untracked        Web   \n",
       "fs4qlkncsg             direct               untracked        Web   \n",
       "sb1yrmvojc             direct                  linked        Web   \n",
       "73dmxkdqad              other                  linked        iOS   \n",
       "j4d6bcnjgd             direct               untracked        Web   \n",
       "gldqvo8zpo             google                     omg        Web   \n",
       "ljlk0jea21             direct               untracked        Web   \n",
       "y6bzzd248q             google                  linked        Web   \n",
       "oemm5mbaov             direct               untracked        Web   \n",
       "uw6yraubuq             direct                  linked        Web   \n",
       "89zyvcizcn             direct                  linked        Web   \n",
       "u2q1xxli10             direct               untracked        Web   \n",
       "u7g96795lt             direct                  linked        Web   \n",
       "vwns3udy17             direct               untracked        Web   \n",
       "\n",
       "           first_device_type  first_browser country_destination  \n",
       "id                                                               \n",
       "4ft3gnwmtx   Windows Desktop             IE                  US  \n",
       "bjjt8pjhuk       Mac Desktop        Firefox               other  \n",
       "87mebub9p4       Mac Desktop         Chrome                  US  \n",
       "lsw9q7uk0j       Mac Desktop         Safari                  US  \n",
       "0d01nltbrs       Mac Desktop         Safari                  US  \n",
       "a1vcnhxeij       Mac Desktop         Safari                  US  \n",
       "6uh8zyj2gn       Mac Desktop        Firefox                  US  \n",
       "yuuqmid2rp       Mac Desktop        Firefox                  US  \n",
       "v4d5rl22px   Windows Desktop         Chrome                  CA  \n",
       "gdka1q5ktd       Mac Desktop         Chrome                  FR  \n",
       "qsibmuz9sx       Mac Desktop         Chrome                  US  \n",
       "80f7dwscrn            iPhone      -unknown-                  US  \n",
       "al8bcetz0g       Mac Desktop         Chrome                  FR  \n",
       "hfrl5gle36   Desktop (Other)         Chrome                  US  \n",
       "hql77nu2lk    Android Tablet      -unknown-                  US  \n",
       "cheova4spt       Mac Desktop        Firefox                  FR  \n",
       "7my0vrljxc       Mac Desktop         Safari                  US  \n",
       "k15j7mbny0       Mac Desktop         Chrome                  US  \n",
       "g1q6caq452   Windows Desktop             IE                  US  \n",
       "ae59m0iqsx              iPad  Mobile Safari                  US  \n",
       "efabqzuxmf       Mac Desktop        Firefox                  US  \n",
       "emg8edpcpm              iPad  Mobile Safari                  US  \n",
       "fp6ndcm5ak   Windows Desktop        Firefox                  US  \n",
       "0xvbruzuzz   Windows Desktop             IE                  CA  \n",
       "h53mz152m4   Windows Desktop        Firefox                  FR  \n",
       "b9pzliufcj       Mac Desktop         Chrome                  US  \n",
       "h2gn4f9oqa       Mac Desktop         Chrome                  US  \n",
       "rxdkzkowt2            iPhone      -unknown-                  US  \n",
       "prqnudhgdx   Windows Desktop         Chrome                  US  \n",
       "6qx6xl5eho       Mac Desktop        Firefox                  US  \n",
       "...                      ...            ...                 ...  \n",
       "x2otzto3uq   Windows Desktop        Firefox                  US  \n",
       "uc4qk41p6e       Mac Desktop         Chrome                  US  \n",
       "y3tum2p1ma   Windows Desktop         Chrome                  US  \n",
       "vklbr6biyb       Mac Desktop         Safari                  US  \n",
       "gyjoy5es8m       Mac Desktop         Safari                  US  \n",
       "lxfxcha9r3   Windows Desktop         Chrome                  FR  \n",
       "keily0ikyr   Windows Desktop             IE                  US  \n",
       "lmha02h4zk   Windows Desktop             IE                  US  \n",
       "mzkff2namt   Windows Desktop         Chrome                  GB  \n",
       "jc9cbun8mr       Mac Desktop         Chrome                  US  \n",
       "lngw8kkr9l       Mac Desktop         Chrome                  US  \n",
       "t3qe518q0s       Mac Desktop         Safari                  US  \n",
       "xp698u9w41       Mac Desktop         Chrome                  US  \n",
       "mqeko7nl3o            iPhone      -unknown-                  US  \n",
       "i1zx9q8lgk   Windows Desktop        Firefox                  US  \n",
       "3lm3ny71wo   Windows Desktop        Firefox                  US  \n",
       "q3tqibqh6b       Mac Desktop         Safari                  US  \n",
       "fs4qlkncsg       Mac Desktop        Firefox               other  \n",
       "sb1yrmvojc       Mac Desktop         Safari               other  \n",
       "73dmxkdqad       Mac Desktop         Chrome                  US  \n",
       "j4d6bcnjgd   Windows Desktop         Chrome                  ES  \n",
       "gldqvo8zpo       Mac Desktop         Chrome                  NL  \n",
       "ljlk0jea21   Windows Desktop         Chrome                  US  \n",
       "y6bzzd248q       Mac Desktop        Firefox                  US  \n",
       "oemm5mbaov   Windows Desktop             IE                  US  \n",
       "uw6yraubuq       Mac Desktop         Chrome                  US  \n",
       "89zyvcizcn       Mac Desktop         Safari                  IT  \n",
       "u2q1xxli10       Mac Desktop         Safari                  US  \n",
       "u7g96795lt       Mac Desktop         Safari               other  \n",
       "vwns3udy17   Windows Desktop        Firefox                  US  \n",
       "\n",
       "[16661 rows x 15 columns]"
      ]
     },
     "execution_count": 18,
     "metadata": {},
     "output_type": "execute_result"
    }
   ],
   "source": [
    "#checking data before Jan 2013\n",
    "users[users.booked < pd.to_datetime(20130101, format='%Y%m%d')]"
   ]
  },
  {
   "cell_type": "code",
   "execution_count": 19,
   "metadata": {
    "collapsed": false
   },
   "outputs": [
    {
     "data": {
      "text/plain": [
       "7.805538507666865"
      ]
     },
     "execution_count": 19,
     "metadata": {},
     "output_type": "execute_result"
    }
   ],
   "source": [
    "#percent of data that is from before Jan 2013\n",
    "(16661.00/213451.00)*100"
   ]
  },
  {
   "cell_type": "code",
   "execution_count": 20,
   "metadata": {
    "collapsed": false
   },
   "outputs": [
    {
     "data": {
      "text/plain": [
       "account                    6355\n",
       "active                     6355\n",
       "booked                     6355\n",
       "gender                     6355\n",
       "age                        6355\n",
       "signup_method              6355\n",
       "signup_flow                6355\n",
       "language                   6355\n",
       "affiliate_channel          6355\n",
       "affiliate_provider         6355\n",
       "first_affiliate_tracked    6355\n",
       "signup_app                 6355\n",
       "first_device_type          6355\n",
       "first_browser              6355\n",
       "country_destination        6355\n",
       "dtype: int64"
      ]
     },
     "execution_count": 20,
     "metadata": {},
     "output_type": "execute_result"
    }
   ],
   "source": [
    "#checking data after Jun 2014\n",
    "users[users.booked > pd.to_datetime(20140630, format='%Y%m%d')].count()"
   ]
  },
  {
   "cell_type": "code",
   "execution_count": 21,
   "metadata": {
    "collapsed": false
   },
   "outputs": [
    {
     "data": {
      "text/plain": [
       "2.977264102768317"
      ]
     },
     "execution_count": 21,
     "metadata": {},
     "output_type": "execute_result"
    }
   ],
   "source": [
    "#percent of data that is from after June 2014\n",
    "(6355.00/213451.00)*100"
   ]
  },
  {
   "cell_type": "code",
   "execution_count": 22,
   "metadata": {
    "collapsed": false
   },
   "outputs": [
    {
     "data": {
      "image/png": "[encoded data removed]",
      "text/plain": [
       "<matplotlib.figure.Figure at 0x119ed2290>"
      ]
     },
     "metadata": {},
     "output_type": "display_data"
    }
   ],
   "source": [
    "#graph of first booking Jan 2013 - June 2014\n",
    "\n",
    "users = users[users['booked'] > pd.to_datetime(20130101, format='%Y%m%d')]\n",
    "users = users[users['booked'] < pd.to_datetime(20140630, format='%Y%m%d')]\n",
    "booked = users.booked.apply(lambda x: datetime.datetime(x.year, x.month, x.day))\n",
    "booked.value_counts().plot(kind='line', figsize = (8, 8))\n",
    "plt.show()"
   ]
  },
  {
   "cell_type": "code",
   "execution_count": 23,
   "metadata": {
    "collapsed": false
   },
   "outputs": [
    {
     "data": {
      "text/plain": [
       "count                   44976\n",
       "unique                    544\n",
       "top       2014-05-22 00:00:00\n",
       "freq                      193\n",
       "first     2013-01-02 00:00:00\n",
       "last      2014-06-29 00:00:00\n",
       "Name: booked, dtype: object"
      ]
     },
     "execution_count": 23,
     "metadata": {},
     "output_type": "execute_result"
    }
   ],
   "source": [
    "#checking date range (1/2/2013 - 6/29/2014)\n",
    "users.booked.describe()"
   ]
  },
  {
   "cell_type": "code",
   "execution_count": 24,
   "metadata": {
    "collapsed": false
   },
   "outputs": [
    {
     "data": {
      "image/png": "[encoded data removed]",
      "text/plain": [
       "<matplotlib.figure.Figure at 0x119e6c150>"
      ]
     },
     "metadata": {},
     "output_type": "display_data"
    }
   ],
   "source": [
    "#graph of first active Jan 2013 - June 2014\n",
    "\n",
    "users = users[users['active'] > pd.to_datetime(20130101, format='%Y%m%d')]\n",
    "users = users[users['active'] < pd.to_datetime(20140630, format='%Y%m%d')]\n",
    "active = users.active.apply(lambda x: datetime.datetime(x.year, x.month, x.day))\n",
    "active.value_counts().plot(kind='line', figsize = (8, 8))\n",
    "plt.show()"
   ]
  },
  {
   "cell_type": "code",
   "execution_count": 25,
   "metadata": {
    "collapsed": false
   },
   "outputs": [
    {
     "data": {
      "text/plain": [
       "count                   42914\n",
       "unique                  42914\n",
       "top       2014-03-16 22:26:35\n",
       "freq                        1\n",
       "first     2013-01-01 00:47:49\n",
       "last      2014-06-29 23:16:42\n",
       "Name: active, dtype: object"
      ]
     },
     "execution_count": 25,
     "metadata": {},
     "output_type": "execute_result"
    }
   ],
   "source": [
    "#checking date range (1/1/2013 - 6/29/2014)\n",
    "users.active.describe()"
   ]
  },
  {
   "cell_type": "code",
   "execution_count": 26,
   "metadata": {
    "collapsed": false
   },
   "outputs": [
    {
     "data": {
      "image/png": "[encoded data removed]",
      "text/plain": [
       "<matplotlib.figure.Figure at 0x11ad30610>"
      ]
     },
     "metadata": {},
     "output_type": "display_data"
    }
   ],
   "source": [
    "#graph of account created Jan 2013 - June 2014\n",
    "\n",
    "users = users[users['account'] > pd.to_datetime(20130101, format='%Y%m%d')]\n",
    "users = users[users['account'] < pd.to_datetime(20140630, format='%Y%m%d')]\n",
    "account = users.account.apply(lambda x: datetime.datetime(x.year, x.month, x.day))\n",
    "account.value_counts().plot(kind='line', figsize = (8, 8))\n",
    "plt.show()"
   ]
  },
  {
   "cell_type": "code",
   "execution_count": 27,
   "metadata": {
    "collapsed": false
   },
   "outputs": [
    {
     "data": {
      "text/plain": [
       "count                   42886\n",
       "unique                    544\n",
       "top       2014-05-13 00:00:00\n",
       "freq                      156\n",
       "first     2013-01-02 00:00:00\n",
       "last      2014-06-29 00:00:00\n",
       "Name: account, dtype: object"
      ]
     },
     "execution_count": 27,
     "metadata": {},
     "output_type": "execute_result"
    }
   ],
   "source": [
    "#checking date range (1/1/2013 - 6/29/2014)\n",
    "users.account.describe()"
   ]
  },
  {
   "cell_type": "code",
   "execution_count": 28,
   "metadata": {
    "collapsed": false
   },
   "outputs": [
    {
     "data": {
      "text/plain": [
       "account                    42886\n",
       "active                     42886\n",
       "booked                     42886\n",
       "gender                     42886\n",
       "age                        42886\n",
       "signup_method              42886\n",
       "signup_flow                42886\n",
       "language                   42886\n",
       "affiliate_channel          42886\n",
       "affiliate_provider         42886\n",
       "first_affiliate_tracked    42886\n",
       "signup_app                 42886\n",
       "first_device_type          42886\n",
       "first_browser              42886\n",
       "country_destination        42886\n",
       "dtype: int64"
      ]
     },
     "execution_count": 28,
     "metadata": {},
     "output_type": "execute_result"
    }
   ],
   "source": [
    "users.count()"
   ]
  },
  {
   "cell_type": "markdown",
   "metadata": {},
   "source": [
    "#### Gender \n",
    "Drop `-unknown-` (user didn't specify gender)"
   ]
  },
  {
   "cell_type": "code",
   "execution_count": 29,
   "metadata": {
    "collapsed": false
   },
   "outputs": [
    {
     "data": {
      "text/plain": [
       "FEMALE       18087\n",
       "MALE         16228\n",
       "-unknown-     8486\n",
       "OTHER           85\n",
       "Name: gender, dtype: int64"
      ]
     },
     "execution_count": 29,
     "metadata": {},
     "output_type": "execute_result"
    }
   ],
   "source": [
    "users.gender.value_counts()"
   ]
  },
  {
   "cell_type": "code",
   "execution_count": 30,
   "metadata": {
    "collapsed": false
   },
   "outputs": [
    {
     "data": {
      "text/plain": [
       "FEMALE    18087\n",
       "MALE      16228\n",
       "OTHER        85\n",
       "Name: gender, dtype: int64"
      ]
     },
     "execution_count": 30,
     "metadata": {},
     "output_type": "execute_result"
    }
   ],
   "source": [
    "users = users[users.gender !='-unknown-']\n",
    "\n",
    "users.gender.value_counts()"
   ]
  },
  {
   "cell_type": "code",
   "execution_count": 31,
   "metadata": {
    "collapsed": false
   },
   "outputs": [
    {
     "data": {
      "text/plain": [
       "0"
      ]
     },
     "execution_count": 31,
     "metadata": {},
     "output_type": "execute_result"
    }
   ],
   "source": [
    "users.gender.isnull().sum()"
   ]
  },
  {
   "cell_type": "markdown",
   "metadata": {},
   "source": [
    "#### Age\n",
    "Drop ages under 18 and over 100"
   ]
  },
  {
   "cell_type": "code",
   "execution_count": 32,
   "metadata": {
    "collapsed": false
   },
   "outputs": [
    {
     "data": {
      "text/plain": [
       "count    34400.000000\n",
       "mean        47.635087\n",
       "std        149.157832\n",
       "min          2.000000\n",
       "25%         28.000000\n",
       "50%         33.000000\n",
       "75%         41.000000\n",
       "max       2014.000000\n",
       "Name: age, dtype: float64"
      ]
     },
     "execution_count": 32,
     "metadata": {},
     "output_type": "execute_result"
    }
   ],
   "source": [
    "#basic stats - standard deviation is pretty high, also wacky min and max ages\n",
    "users.age.describe()"
   ]
  },
  {
   "cell_type": "code",
   "execution_count": 33,
   "metadata": {
    "collapsed": false
   },
   "outputs": [
    {
     "data": {
      "text/plain": [
       "0"
      ]
     },
     "execution_count": 33,
     "metadata": {},
     "output_type": "execute_result"
    }
   ],
   "source": [
    "#checking NaNs \n",
    "users.age.isnull().sum()"
   ]
  },
  {
   "cell_type": "code",
   "execution_count": 34,
   "metadata": {
    "collapsed": false
   },
   "outputs": [
    {
     "data": {
      "text/plain": [
       "5"
      ]
     },
     "execution_count": 34,
     "metadata": {},
     "output_type": "execute_result"
    }
   ],
   "source": [
    "#checking under 18\n",
    "sum(users.age < 18)"
   ]
  },
  {
   "cell_type": "code",
   "execution_count": 35,
   "metadata": {
    "collapsed": false
   },
   "outputs": [
    {
     "data": {
      "text/html": [
       "<div>\n",
       "<table border=\"1\" class=\"dataframe\">\n",
       "  <thead>\n",
       "    <tr style=\"text-align: right;\">\n",
       "      <th></th>\n",
       "      <th>account</th>\n",
       "      <th>active</th>\n",
       "      <th>booked</th>\n",
       "      <th>gender</th>\n",
       "      <th>age</th>\n",
       "      <th>signup_method</th>\n",
       "      <th>signup_flow</th>\n",
       "      <th>language</th>\n",
       "      <th>affiliate_channel</th>\n",
       "      <th>affiliate_provider</th>\n",
       "      <th>first_affiliate_tracked</th>\n",
       "      <th>signup_app</th>\n",
       "      <th>first_device_type</th>\n",
       "      <th>first_browser</th>\n",
       "      <th>country_destination</th>\n",
       "    </tr>\n",
       "    <tr>\n",
       "      <th>id</th>\n",
       "      <th></th>\n",
       "      <th></th>\n",
       "      <th></th>\n",
       "      <th></th>\n",
       "      <th></th>\n",
       "      <th></th>\n",
       "      <th></th>\n",
       "      <th></th>\n",
       "      <th></th>\n",
       "      <th></th>\n",
       "      <th></th>\n",
       "      <th></th>\n",
       "      <th></th>\n",
       "      <th></th>\n",
       "      <th></th>\n",
       "    </tr>\n",
       "  </thead>\n",
       "  <tbody>\n",
       "    <tr>\n",
       "      <th>ac60nc2h3h</th>\n",
       "      <td>2013-05-17</td>\n",
       "      <td>2013-05-17 03:53:09</td>\n",
       "      <td>2013-06-07</td>\n",
       "      <td>MALE</td>\n",
       "      <td>17.0</td>\n",
       "      <td>basic</td>\n",
       "      <td>0</td>\n",
       "      <td>en</td>\n",
       "      <td>direct</td>\n",
       "      <td>direct</td>\n",
       "      <td>linked</td>\n",
       "      <td>Web</td>\n",
       "      <td>Windows Desktop</td>\n",
       "      <td>IE</td>\n",
       "      <td>US</td>\n",
       "    </tr>\n",
       "    <tr>\n",
       "      <th>78ztkxfz48</th>\n",
       "      <td>2013-07-08</td>\n",
       "      <td>2013-07-08 01:47:15</td>\n",
       "      <td>2013-07-11</td>\n",
       "      <td>FEMALE</td>\n",
       "      <td>2.0</td>\n",
       "      <td>basic</td>\n",
       "      <td>0</td>\n",
       "      <td>en</td>\n",
       "      <td>sem-brand</td>\n",
       "      <td>google</td>\n",
       "      <td>omg</td>\n",
       "      <td>Web</td>\n",
       "      <td>Mac Desktop</td>\n",
       "      <td>Firefox</td>\n",
       "      <td>US</td>\n",
       "    </tr>\n",
       "    <tr>\n",
       "      <th>fpar5q9urf</th>\n",
       "      <td>2014-01-11</td>\n",
       "      <td>2014-01-11 00:41:34</td>\n",
       "      <td>2014-01-26</td>\n",
       "      <td>MALE</td>\n",
       "      <td>15.0</td>\n",
       "      <td>facebook</td>\n",
       "      <td>0</td>\n",
       "      <td>en</td>\n",
       "      <td>sem-brand</td>\n",
       "      <td>google</td>\n",
       "      <td>omg</td>\n",
       "      <td>Web</td>\n",
       "      <td>Windows Desktop</td>\n",
       "      <td>IE</td>\n",
       "      <td>US</td>\n",
       "    </tr>\n",
       "    <tr>\n",
       "      <th>p1ulwalqpb</th>\n",
       "      <td>2014-05-21</td>\n",
       "      <td>2014-05-21 11:02:18</td>\n",
       "      <td>2014-05-25</td>\n",
       "      <td>FEMALE</td>\n",
       "      <td>17.0</td>\n",
       "      <td>facebook</td>\n",
       "      <td>0</td>\n",
       "      <td>fr</td>\n",
       "      <td>sem-non-brand</td>\n",
       "      <td>google</td>\n",
       "      <td>omg</td>\n",
       "      <td>Web</td>\n",
       "      <td>Windows Desktop</td>\n",
       "      <td>Chrome</td>\n",
       "      <td>GB</td>\n",
       "    </tr>\n",
       "    <tr>\n",
       "      <th>10pnfxyqwp</th>\n",
       "      <td>2014-05-24</td>\n",
       "      <td>2014-05-24 07:44:10</td>\n",
       "      <td>2014-06-09</td>\n",
       "      <td>FEMALE</td>\n",
       "      <td>16.0</td>\n",
       "      <td>facebook</td>\n",
       "      <td>0</td>\n",
       "      <td>en</td>\n",
       "      <td>sem-non-brand</td>\n",
       "      <td>google</td>\n",
       "      <td>omg</td>\n",
       "      <td>Web</td>\n",
       "      <td>Mac Desktop</td>\n",
       "      <td>Safari</td>\n",
       "      <td>US</td>\n",
       "    </tr>\n",
       "  </tbody>\n",
       "</table>\n",
       "</div>"
      ],
      "text/plain": [
       "              account              active     booked  gender   age  \\\n",
       "id                                                                   \n",
       "ac60nc2h3h 2013-05-17 2013-05-17 03:53:09 2013-06-07    MALE  17.0   \n",
       "78ztkxfz48 2013-07-08 2013-07-08 01:47:15 2013-07-11  FEMALE   2.0   \n",
       "fpar5q9urf 2014-01-11 2014-01-11 00:41:34 2014-01-26    MALE  15.0   \n",
       "p1ulwalqpb 2014-05-21 2014-05-21 11:02:18 2014-05-25  FEMALE  17.0   \n",
       "10pnfxyqwp 2014-05-24 2014-05-24 07:44:10 2014-06-09  FEMALE  16.0   \n",
       "\n",
       "           signup_method  signup_flow language affiliate_channel  \\\n",
       "id                                                                 \n",
       "ac60nc2h3h         basic            0       en            direct   \n",
       "78ztkxfz48         basic            0       en         sem-brand   \n",
       "fpar5q9urf      facebook            0       en         sem-brand   \n",
       "p1ulwalqpb      facebook            0       fr     sem-non-brand   \n",
       "10pnfxyqwp      facebook            0       en     sem-non-brand   \n",
       "\n",
       "           affiliate_provider first_affiliate_tracked signup_app  \\\n",
       "id                                                                 \n",
       "ac60nc2h3h             direct                  linked        Web   \n",
       "78ztkxfz48             google                     omg        Web   \n",
       "fpar5q9urf             google                     omg        Web   \n",
       "p1ulwalqpb             google                     omg        Web   \n",
       "10pnfxyqwp             google                     omg        Web   \n",
       "\n",
       "           first_device_type first_browser country_destination  \n",
       "id                                                              \n",
       "ac60nc2h3h   Windows Desktop            IE                  US  \n",
       "78ztkxfz48       Mac Desktop       Firefox                  US  \n",
       "fpar5q9urf   Windows Desktop            IE                  US  \n",
       "p1ulwalqpb   Windows Desktop        Chrome                  GB  \n",
       "10pnfxyqwp       Mac Desktop        Safari                  US  "
      ]
     },
     "execution_count": 35,
     "metadata": {},
     "output_type": "execute_result"
    }
   ],
   "source": [
    "#just double checking my code ;)\n",
    "users[ users.age < 18 ]"
   ]
  },
  {
   "cell_type": "code",
   "execution_count": 36,
   "metadata": {
    "collapsed": false
   },
   "outputs": [
    {
     "data": {
      "text/plain": [
       "529"
      ]
     },
     "execution_count": 36,
     "metadata": {},
     "output_type": "execute_result"
    }
   ],
   "source": [
    "#checking over 100\n",
    "sum(users.age > 100)"
   ]
  },
  {
   "cell_type": "code",
   "execution_count": 37,
   "metadata": {
    "collapsed": true
   },
   "outputs": [],
   "source": [
    "#setting over 100 & under 18 to NaN\n",
    "users.loc[users.age > 100, 'age'] = np.nan\n",
    "users.loc[users.age < 18, 'age'] = np.nan"
   ]
  },
  {
   "cell_type": "code",
   "execution_count": 38,
   "metadata": {
    "collapsed": false
   },
   "outputs": [
    {
     "data": {
      "text/plain": [
       "534"
      ]
     },
     "execution_count": 38,
     "metadata": {},
     "output_type": "execute_result"
    }
   ],
   "source": [
    "#checking NaNs again to check the math\n",
    "users.age.isnull().sum()"
   ]
  },
  {
   "cell_type": "code",
   "execution_count": 39,
   "metadata": {
    "collapsed": false
   },
   "outputs": [
    {
     "data": {
      "text/plain": [
       "count    33866.000000\n",
       "mean        35.710595\n",
       "std         11.254757\n",
       "min         18.000000\n",
       "25%         28.000000\n",
       "50%         33.000000\n",
       "75%         41.000000\n",
       "max        100.000000\n",
       "Name: age, dtype: float64"
      ]
     },
     "execution_count": 39,
     "metadata": {},
     "output_type": "execute_result"
    }
   ],
   "source": [
    "#this looks better now\n",
    "users.age.describe()"
   ]
  },
  {
   "cell_type": "code",
   "execution_count": 40,
   "metadata": {
    "collapsed": true
   },
   "outputs": [],
   "source": [
    "users.dropna(inplace = True, subset = ['age'])"
   ]
  },
  {
   "cell_type": "code",
   "execution_count": 41,
   "metadata": {
    "collapsed": false
   },
   "outputs": [
    {
     "data": {
      "text/plain": [
       "0"
      ]
     },
     "execution_count": 41,
     "metadata": {},
     "output_type": "execute_result"
    }
   ],
   "source": [
    "users.age.isnull().sum()"
   ]
  },
  {
   "cell_type": "markdown",
   "metadata": {},
   "source": [
    "#### Signup Method\n",
    "Nothing to do here... did consider dropping Google but doesn't feel right"
   ]
  },
  {
   "cell_type": "code",
   "execution_count": 42,
   "metadata": {
    "collapsed": false
   },
   "outputs": [
    {
     "data": {
      "text/plain": [
       "basic       20600\n",
       "facebook    13236\n",
       "google         30\n",
       "Name: signup_method, dtype: int64"
      ]
     },
     "execution_count": 42,
     "metadata": {},
     "output_type": "execute_result"
    }
   ],
   "source": [
    "users.signup_method.value_counts()"
   ]
  },
  {
   "cell_type": "markdown",
   "metadata": {},
   "source": [
    "#### Signup Flow\n",
    "Hmmm looks like we got some outliers - maybe plotting will help? Not sure if I should get rid of them or not..."
   ]
  },
  {
   "cell_type": "code",
   "execution_count": 43,
   "metadata": {
    "collapsed": false
   },
   "outputs": [
    {
     "data": {
      "text/plain": [
       "0     29620\n",
       "25     1665\n",
       "12     1528\n",
       "24      682\n",
       "23      259\n",
       "21       63\n",
       "8        48\n",
       "20        1\n",
       "Name: signup_flow, dtype: int64"
      ]
     },
     "execution_count": 43,
     "metadata": {},
     "output_type": "execute_result"
    }
   ],
   "source": [
    "users.signup_flow.value_counts()"
   ]
  },
  {
   "cell_type": "code",
   "execution_count": 44,
   "metadata": {
    "collapsed": false
   },
   "outputs": [
    {
     "data": {
      "text/plain": [
       "<matplotlib.axes._subplots.AxesSubplot at 0x11b51dc90>"
      ]
     },
     "execution_count": 44,
     "metadata": {},
     "output_type": "execute_result"
    },
    {
     "data": {
      "image/png": "[encoded data removed]",
      "text/plain": [
       "<matplotlib.figure.Figure at 0x119ea8790>"
      ]
     },
     "metadata": {},
     "output_type": "display_data"
    }
   ],
   "source": [
    "#why doesn't this work?\n",
    "users.signup_flow.plot(kind = 'box', figsize = (8, 8))"
   ]
  },
  {
   "cell_type": "code",
   "execution_count": 45,
   "metadata": {
    "collapsed": false
   },
   "outputs": [
    {
     "data": {
      "text/plain": [
       "<matplotlib.axes._subplots.AxesSubplot at 0x11b545690>"
      ]
     },
     "execution_count": 45,
     "metadata": {},
     "output_type": "execute_result"
    },
    {
     "data": {
      "image/png": "[encoded data removed]",
      "text/plain": [
       "<matplotlib.figure.Figure at 0x11a4c8ad0>"
      ]
     },
     "metadata": {},
     "output_type": "display_data"
    }
   ],
   "source": [
    "users.signup_flow.plot(kind = 'hist', figsize = (8, 8))"
   ]
  },
  {
   "cell_type": "markdown",
   "metadata": {},
   "source": [
    "Not sure what to do so I'll just leave all the data here"
   ]
  },
  {
   "cell_type": "markdown",
   "metadata": {},
   "source": [
    "#### Language\n",
    "Again some low values that I'm not sure whether to keep or not"
   ]
  },
  {
   "cell_type": "code",
   "execution_count": 46,
   "metadata": {
    "collapsed": false
   },
   "outputs": [
    {
     "data": {
      "text/plain": [
       "en    32927\n",
       "zh      221\n",
       "fr      170\n",
       "es      116\n",
       "de      103\n",
       "ko       89\n",
       "ru       51\n",
       "it       41\n",
       "ja       33\n",
       "pt       29\n",
       "sv       22\n",
       "da       11\n",
       "tr        9\n",
       "nl        9\n",
       "no        9\n",
       "pl        8\n",
       "el        5\n",
       "cs        3\n",
       "fi        3\n",
       "hu        3\n",
       "ca        2\n",
       "is        1\n",
       "th        1\n",
       "Name: language, dtype: int64"
      ]
     },
     "execution_count": 46,
     "metadata": {},
     "output_type": "execute_result"
    }
   ],
   "source": [
    "users.language.value_counts()"
   ]
  },
  {
   "cell_type": "markdown",
   "metadata": {},
   "source": [
    "#### Affiliate Channel\n",
    "This looks fine... but potentially could regroup to simply `direct` and clump everything else into `other`"
   ]
  },
  {
   "cell_type": "code",
   "execution_count": 47,
   "metadata": {
    "collapsed": false
   },
   "outputs": [
    {
     "data": {
      "text/plain": [
       "direct           22755\n",
       "sem-brand         4959\n",
       "sem-non-brand     2164\n",
       "seo               1611\n",
       "api               1390\n",
       "other              708\n",
       "content            158\n",
       "remarketing        121\n",
       "Name: affiliate_channel, dtype: int64"
      ]
     },
     "execution_count": 47,
     "metadata": {},
     "output_type": "execute_result"
    }
   ],
   "source": [
    "users.affiliate_channel.value_counts()"
   ]
  },
  {
   "cell_type": "markdown",
   "metadata": {},
   "source": [
    "### Affiliate Provider\n",
    "Combine `facebook-open-graph` with `facebook`"
   ]
  },
  {
   "cell_type": "code",
   "execution_count": 48,
   "metadata": {
    "collapsed": false
   },
   "outputs": [
    {
     "data": {
      "text/plain": [
       "direct                 22755\n",
       "google                  8159\n",
       "other                   1869\n",
       "facebook                 394\n",
       "bing                     263\n",
       "padmapper                139\n",
       "yahoo                     76\n",
       "facebook-open-graph       74\n",
       "vast                      48\n",
       "gsp                       24\n",
       "meetup                    22\n",
       "craigslist                16\n",
       "email-marketing           13\n",
       "naver                      7\n",
       "baidu                      5\n",
       "yandex                     2\n",
       "Name: affiliate_provider, dtype: int64"
      ]
     },
     "execution_count": 48,
     "metadata": {},
     "output_type": "execute_result"
    }
   ],
   "source": [
    "users.affiliate_provider.value_counts()"
   ]
  },
  {
   "cell_type": "code",
   "execution_count": 49,
   "metadata": {
    "collapsed": true
   },
   "outputs": [],
   "source": [
    "users.affiliate_provider = users.affiliate_provider.str.replace('facebook-open-graph','facebook')"
   ]
  },
  {
   "cell_type": "code",
   "execution_count": 50,
   "metadata": {
    "collapsed": false
   },
   "outputs": [
    {
     "data": {
      "text/plain": [
       "direct             22755\n",
       "google              8159\n",
       "other               1869\n",
       "facebook             468\n",
       "bing                 263\n",
       "padmapper            139\n",
       "yahoo                 76\n",
       "vast                  48\n",
       "gsp                   24\n",
       "meetup                22\n",
       "craigslist            16\n",
       "email-marketing       13\n",
       "naver                  7\n",
       "baidu                  5\n",
       "yandex                 2\n",
       "Name: affiliate_provider, dtype: int64"
      ]
     },
     "execution_count": 50,
     "metadata": {},
     "output_type": "execute_result"
    }
   ],
   "source": [
    "users.affiliate_provider.value_counts()"
   ]
  },
  {
   "cell_type": "markdown",
   "metadata": {},
   "source": [
    "#### First Affiliate Tracked\n",
    "Drop `untracked`"
   ]
  },
  {
   "cell_type": "code",
   "execution_count": 51,
   "metadata": {
    "collapsed": false
   },
   "outputs": [
    {
     "data": {
      "text/plain": [
       "untracked        18356\n",
       "linked            7619\n",
       "omg               6877\n",
       "tracked-other      789\n",
       "product            179\n",
       "marketing           41\n",
       "local ops            5\n",
       "Name: first_affiliate_tracked, dtype: int64"
      ]
     },
     "execution_count": 51,
     "metadata": {},
     "output_type": "execute_result"
    }
   ],
   "source": [
    "users.first_affiliate_tracked.value_counts()"
   ]
  },
  {
   "cell_type": "code",
   "execution_count": 52,
   "metadata": {
    "collapsed": false
   },
   "outputs": [
    {
     "data": {
      "text/plain": [
       "linked           7619\n",
       "omg              6877\n",
       "tracked-other     789\n",
       "product           179\n",
       "marketing          41\n",
       "local ops           5\n",
       "Name: first_affiliate_tracked, dtype: int64"
      ]
     },
     "execution_count": 52,
     "metadata": {},
     "output_type": "execute_result"
    }
   ],
   "source": [
    "users = users[users.first_affiliate_tracked !='untracked']\n",
    "\n",
    "users.first_affiliate_tracked.value_counts()"
   ]
  },
  {
   "cell_type": "markdown",
   "metadata": {},
   "source": [
    "#### Signup App \n",
    "Looks good"
   ]
  },
  {
   "cell_type": "code",
   "execution_count": 53,
   "metadata": {
    "collapsed": false
   },
   "outputs": [
    {
     "data": {
      "text/plain": [
       "Web        14802\n",
       "iOS          385\n",
       "Moweb        285\n",
       "Android       38\n",
       "Name: signup_app, dtype: int64"
      ]
     },
     "execution_count": 53,
     "metadata": {},
     "output_type": "execute_result"
    }
   ],
   "source": [
    "users.signup_app.value_counts()"
   ]
  },
  {
   "cell_type": "markdown",
   "metadata": {},
   "source": [
    "#### First Device Type\n",
    "Drop `Other/Unknown`"
   ]
  },
  {
   "cell_type": "code",
   "execution_count": 54,
   "metadata": {
    "collapsed": false
   },
   "outputs": [
    {
     "data": {
      "text/plain": [
       "Mac Desktop           8396\n",
       "Windows Desktop       5555\n",
       "iPad                  1098\n",
       "iPhone                 248\n",
       "Desktop (Other)        101\n",
       "Android Tablet          67\n",
       "Android Phone           43\n",
       "SmartPhone (Other)       1\n",
       "Other/Unknown            1\n",
       "Name: first_device_type, dtype: int64"
      ]
     },
     "execution_count": 54,
     "metadata": {},
     "output_type": "execute_result"
    }
   ],
   "source": [
    "users.first_device_type.value_counts()"
   ]
  },
  {
   "cell_type": "code",
   "execution_count": 55,
   "metadata": {
    "collapsed": false
   },
   "outputs": [
    {
     "data": {
      "text/plain": [
       "Mac Desktop           8396\n",
       "Windows Desktop       5555\n",
       "iPad                  1098\n",
       "iPhone                 248\n",
       "Desktop (Other)        101\n",
       "Android Tablet          67\n",
       "Android Phone           43\n",
       "SmartPhone (Other)       1\n",
       "Name: first_device_type, dtype: int64"
      ]
     },
     "execution_count": 55,
     "metadata": {},
     "output_type": "execute_result"
    }
   ],
   "source": [
    "users = users[users.first_device_type !='Other/Unknown']\n",
    "\n",
    "users.first_device_type.value_counts()"
   ]
  },
  {
   "cell_type": "markdown",
   "metadata": {},
   "source": [
    "#### First Browser\n",
    "Drop `unknown` but same issue here with low vales... also has the potential for grouping later on "
   ]
  },
  {
   "cell_type": "code",
   "execution_count": 56,
   "metadata": {
    "collapsed": false
   },
   "outputs": [
    {
     "data": {
      "text/plain": [
       "Chrome                6140\n",
       "Safari                4081\n",
       "Firefox               2688\n",
       "Mobile Safari         1318\n",
       "IE                    1160\n",
       "Chrome Mobile           48\n",
       "Android Browser         24\n",
       "Opera                   11\n",
       "AOL Explorer             7\n",
       "Chromium                 7\n",
       "Silk                     7\n",
       "Iron                     3\n",
       "Maxthon                  3\n",
       "IceWeasel                2\n",
       "Apple Mail               2\n",
       "Pale Moon                2\n",
       "SiteKiosk                1\n",
       "TenFourFox               1\n",
       "TheWorld Browser         1\n",
       "BlackBerry Browser       1\n",
       "Stainless                1\n",
       "-unknown-                1\n",
       "Name: first_browser, dtype: int64"
      ]
     },
     "execution_count": 56,
     "metadata": {},
     "output_type": "execute_result"
    }
   ],
   "source": [
    "users.first_browser.value_counts()"
   ]
  },
  {
   "cell_type": "code",
   "execution_count": 57,
   "metadata": {
    "collapsed": false
   },
   "outputs": [
    {
     "data": {
      "text/plain": [
       "Chrome                6140\n",
       "Safari                4081\n",
       "Firefox               2688\n",
       "Mobile Safari         1318\n",
       "IE                    1160\n",
       "Chrome Mobile           48\n",
       "Android Browser         24\n",
       "Opera                   11\n",
       "AOL Explorer             7\n",
       "Chromium                 7\n",
       "Silk                     7\n",
       "Iron                     3\n",
       "Maxthon                  3\n",
       "Apple Mail               2\n",
       "IceWeasel                2\n",
       "Pale Moon                2\n",
       "TenFourFox               1\n",
       "TheWorld Browser         1\n",
       "SiteKiosk                1\n",
       "BlackBerry Browser       1\n",
       "Stainless                1\n",
       "Name: first_browser, dtype: int64"
      ]
     },
     "execution_count": 57,
     "metadata": {},
     "output_type": "execute_result"
    }
   ],
   "source": [
    "users = users[users.first_browser !='-unknown-']\n",
    "\n",
    "users.first_browser.value_counts()"
   ]
  },
  {
   "cell_type": "markdown",
   "metadata": {},
   "source": [
    "#### Country Destination\n",
    "According to some research I've done NDF values (see original value_counts above) here means the user has not yet booked? Weird, though I guess it could explain why the `booked` column had so many NaNs. But limited the date range took care of them."
   ]
  },
  {
   "cell_type": "code",
   "execution_count": 58,
   "metadata": {
    "collapsed": false
   },
   "outputs": [
    {
     "data": {
      "text/plain": [
       "US       10919\n",
       "other     1795\n",
       "FR         860\n",
       "IT         468\n",
       "GB         408\n",
       "ES         397\n",
       "CA         211\n",
       "DE         186\n",
       "NL         132\n",
       "AU          87\n",
       "PT          45\n",
       "Name: country_destination, dtype: int64"
      ]
     },
     "execution_count": 58,
     "metadata": {},
     "output_type": "execute_result"
    }
   ],
   "source": [
    "users.country_destination.value_counts()"
   ]
  },
  {
   "cell_type": "markdown",
   "metadata": {},
   "source": [
    "#### How much data have we lost?\n",
    "Answer: a lot"
   ]
  },
  {
   "cell_type": "code",
   "execution_count": 59,
   "metadata": {
    "collapsed": false
   },
   "outputs": [
    {
     "data": {
      "text/plain": [
       "account                    15508\n",
       "active                     15508\n",
       "booked                     15508\n",
       "gender                     15508\n",
       "age                        15508\n",
       "signup_method              15508\n",
       "signup_flow                15508\n",
       "language                   15508\n",
       "affiliate_channel          15508\n",
       "affiliate_provider         15508\n",
       "first_affiliate_tracked    15508\n",
       "signup_app                 15508\n",
       "first_device_type          15508\n",
       "first_browser              15508\n",
       "country_destination        15508\n",
       "dtype: int64"
      ]
     },
     "execution_count": 59,
     "metadata": {},
     "output_type": "execute_result"
    }
   ],
   "source": [
    "users.count()"
   ]
  },
  {
   "cell_type": "markdown",
   "metadata": {},
   "source": [
    "#### Doubling checking NaNs"
   ]
  },
  {
   "cell_type": "code",
   "execution_count": 60,
   "metadata": {
    "collapsed": false
   },
   "outputs": [
    {
     "data": {
      "text/plain": [
       "account                    0\n",
       "active                     0\n",
       "booked                     0\n",
       "gender                     0\n",
       "age                        0\n",
       "signup_method              0\n",
       "signup_flow                0\n",
       "language                   0\n",
       "affiliate_channel          0\n",
       "affiliate_provider         0\n",
       "first_affiliate_tracked    0\n",
       "signup_app                 0\n",
       "first_device_type          0\n",
       "first_browser              0\n",
       "country_destination        0\n",
       "dtype: int64"
      ]
     },
     "execution_count": 60,
     "metadata": {},
     "output_type": "execute_result"
    }
   ],
   "source": [
    "users.isnull().sum()"
   ]
  },
  {
   "cell_type": "code",
   "execution_count": 61,
   "metadata": {
    "collapsed": false
   },
   "outputs": [
    {
     "data": {
      "text/plain": [
       "92.73463230436963"
      ]
     },
     "execution_count": 61,
     "metadata": {},
     "output_type": "execute_result"
    }
   ],
   "source": [
    "#data lost\n",
    "((213451.00-15508.00)/213451.00)*100"
   ]
  },
  {
   "cell_type": "markdown",
   "metadata": {},
   "source": [
    "# Export to CSV"
   ]
  },
  {
   "cell_type": "markdown",
   "metadata": {},
   "source": [
    "Will continue clean up & exploratory analysis in new notebook "
   ]
  },
  {
   "cell_type": "code",
   "execution_count": 62,
   "metadata": {
    "collapsed": false
   },
   "outputs": [],
   "source": [
    "users['active'] = users['active'].dt.strftime('%Y-%m-%d:%H:%M:%S')"
   ]
  },
  {
   "cell_type": "code",
   "execution_count": 63,
   "metadata": {
    "collapsed": false
   },
   "outputs": [],
   "source": [
    "users['account'] = users['account'].dt.strftime('%Y-%m-%d')"
   ]
  },
  {
   "cell_type": "code",
   "execution_count": 64,
   "metadata": {
    "collapsed": true
   },
   "outputs": [],
   "source": [
    "users['booked'] = users['booked'].dt.strftime('%Y-%m-%d')"
   ]
  },
  {
   "cell_type": "code",
   "execution_count": 65,
   "metadata": {
    "collapsed": false
   },
   "outputs": [
    {
     "data": {
      "text/plain": [
       "account                     object\n",
       "active                      object\n",
       "booked                      object\n",
       "gender                      object\n",
       "age                        float64\n",
       "signup_method               object\n",
       "signup_flow                  int64\n",
       "language                    object\n",
       "affiliate_channel           object\n",
       "affiliate_provider          object\n",
       "first_affiliate_tracked     object\n",
       "signup_app                  object\n",
       "first_device_type           object\n",
       "first_browser               object\n",
       "country_destination         object\n",
       "dtype: object"
      ]
     },
     "execution_count": 65,
     "metadata": {},
     "output_type": "execute_result"
    }
   ],
   "source": [
    "users.dtypes"
   ]
  },
  {
   "cell_type": "code",
   "execution_count": 66,
   "metadata": {
    "collapsed": false
   },
   "outputs": [],
   "source": [
    "users.to_csv('datasets/airbnb_clean.csv', index_label = 'id')"
   ]
  },
  {
   "cell_type": "code",
   "execution_count": null,
   "metadata": {
    "collapsed": true
   },
   "outputs": [],
   "source": []
  }
 ],
 "metadata": {
  "kernelspec": {
   "display_name": "Python 2",
   "language": "python",
   "name": "python2"
  },
  "language_info": {
   "codemirror_mode": {
    "name": "ipython",
    "version": 2
   },
   "file_extension": ".py",
   "mimetype": "text/x-python",
   "name": "python",
   "nbconvert_exporter": "python",
   "pygments_lexer": "ipython2",
   "version": "2.7.11"
  }
 },
 "nbformat": 4,
 "nbformat_minor": 0
}
