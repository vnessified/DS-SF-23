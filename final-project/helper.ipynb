{
 "cells": [
  {
   "cell_type": "markdown",
   "metadata": {},
   "source": [
    "# Imports"
   ]
  },
  {
   "cell_type": "code",
   "execution_count": 1,
   "metadata": {
    "collapsed": true
   },
   "outputs": [],
   "source": [
    "import os\n",
    "import numpy as np\n",
    "import pandas as pd\n",
    "import csv"
   ]
  },
  {
   "cell_type": "code",
   "execution_count": 2,
   "metadata": {
    "collapsed": false
   },
   "outputs": [],
   "source": [
    "# , dtype = {'timestamp_first_active': 'str'}"
   ]
  },
  {
   "cell_type": "markdown",
   "metadata": {},
   "source": [
    "# Import & Clean up"
   ]
  },
  {
   "cell_type": "code",
   "execution_count": 3,
   "metadata": {
    "collapsed": false
   },
   "outputs": [
    {
     "data": {
      "text/html": [
       "<div>\n",
       "<table border=\"1\" class=\"dataframe\">\n",
       "  <thead>\n",
       "    <tr style=\"text-align: right;\">\n",
       "      <th></th>\n",
       "      <th>account</th>\n",
       "      <th>active</th>\n",
       "      <th>booked</th>\n",
       "      <th>gender</th>\n",
       "      <th>age</th>\n",
       "      <th>signup_method</th>\n",
       "      <th>signup_flow</th>\n",
       "      <th>language</th>\n",
       "      <th>affiliate_channel</th>\n",
       "      <th>affiliate_provider</th>\n",
       "      <th>first_affiliate_tracked</th>\n",
       "      <th>signup_app</th>\n",
       "      <th>first_device_type</th>\n",
       "      <th>first_browser</th>\n",
       "      <th>country_destination</th>\n",
       "    </tr>\n",
       "  </thead>\n",
       "  <tbody>\n",
       "    <tr>\n",
       "      <th>2</th>\n",
       "      <td>2010-09-28</td>\n",
       "      <td>2009-06-09</td>\n",
       "      <td>2010-08-02</td>\n",
       "      <td>FEMALE</td>\n",
       "      <td>56.0</td>\n",
       "      <td>basic</td>\n",
       "      <td>3</td>\n",
       "      <td>en</td>\n",
       "      <td>direct</td>\n",
       "      <td>direct</td>\n",
       "      <td>untracked</td>\n",
       "      <td>Web</td>\n",
       "      <td>Windows Desktop</td>\n",
       "      <td>IE</td>\n",
       "      <td>US</td>\n",
       "    </tr>\n",
       "    <tr>\n",
       "      <th>3</th>\n",
       "      <td>2011-12-05</td>\n",
       "      <td>2009-10-31</td>\n",
       "      <td>2012-09-08</td>\n",
       "      <td>FEMALE</td>\n",
       "      <td>42.0</td>\n",
       "      <td>facebook</td>\n",
       "      <td>0</td>\n",
       "      <td>en</td>\n",
       "      <td>direct</td>\n",
       "      <td>direct</td>\n",
       "      <td>untracked</td>\n",
       "      <td>Web</td>\n",
       "      <td>Mac Desktop</td>\n",
       "      <td>Firefox</td>\n",
       "      <td>other</td>\n",
       "    </tr>\n",
       "    <tr>\n",
       "      <th>4</th>\n",
       "      <td>2010-09-14</td>\n",
       "      <td>2009-12-08</td>\n",
       "      <td>2010-02-18</td>\n",
       "      <td>Not Specified</td>\n",
       "      <td>41.0</td>\n",
       "      <td>basic</td>\n",
       "      <td>0</td>\n",
       "      <td>en</td>\n",
       "      <td>direct</td>\n",
       "      <td>direct</td>\n",
       "      <td>untracked</td>\n",
       "      <td>Web</td>\n",
       "      <td>Mac Desktop</td>\n",
       "      <td>Chrome</td>\n",
       "      <td>US</td>\n",
       "    </tr>\n",
       "    <tr>\n",
       "      <th>6</th>\n",
       "      <td>2010-01-02</td>\n",
       "      <td>2010-01-02</td>\n",
       "      <td>2010-01-05</td>\n",
       "      <td>FEMALE</td>\n",
       "      <td>46.0</td>\n",
       "      <td>basic</td>\n",
       "      <td>0</td>\n",
       "      <td>en</td>\n",
       "      <td>other</td>\n",
       "      <td>craigslist</td>\n",
       "      <td>untracked</td>\n",
       "      <td>Web</td>\n",
       "      <td>Mac Desktop</td>\n",
       "      <td>Safari</td>\n",
       "      <td>US</td>\n",
       "    </tr>\n",
       "    <tr>\n",
       "      <th>7</th>\n",
       "      <td>2010-01-03</td>\n",
       "      <td>2010-01-03</td>\n",
       "      <td>2010-01-13</td>\n",
       "      <td>FEMALE</td>\n",
       "      <td>47.0</td>\n",
       "      <td>basic</td>\n",
       "      <td>0</td>\n",
       "      <td>en</td>\n",
       "      <td>direct</td>\n",
       "      <td>direct</td>\n",
       "      <td>omg</td>\n",
       "      <td>Web</td>\n",
       "      <td>Mac Desktop</td>\n",
       "      <td>Safari</td>\n",
       "      <td>US</td>\n",
       "    </tr>\n",
       "  </tbody>\n",
       "</table>\n",
       "</div>"
      ],
      "text/plain": [
       "     account     active     booked         gender   age signup_method  \\\n",
       "2 2010-09-28 2009-06-09 2010-08-02         FEMALE  56.0         basic   \n",
       "3 2011-12-05 2009-10-31 2012-09-08         FEMALE  42.0      facebook   \n",
       "4 2010-09-14 2009-12-08 2010-02-18  Not Specified  41.0         basic   \n",
       "6 2010-01-02 2010-01-02 2010-01-05         FEMALE  46.0         basic   \n",
       "7 2010-01-03 2010-01-03 2010-01-13         FEMALE  47.0         basic   \n",
       "\n",
       "   signup_flow language affiliate_channel affiliate_provider  \\\n",
       "2            3       en            direct             direct   \n",
       "3            0       en            direct             direct   \n",
       "4            0       en            direct             direct   \n",
       "6            0       en             other         craigslist   \n",
       "7            0       en            direct             direct   \n",
       "\n",
       "  first_affiliate_tracked signup_app first_device_type first_browser  \\\n",
       "2               untracked        Web   Windows Desktop            IE   \n",
       "3               untracked        Web       Mac Desktop       Firefox   \n",
       "4               untracked        Web       Mac Desktop        Chrome   \n",
       "6               untracked        Web       Mac Desktop        Safari   \n",
       "7                     omg        Web       Mac Desktop        Safari   \n",
       "\n",
       "  country_destination  \n",
       "2                  US  \n",
       "3               other  \n",
       "4                  US  \n",
       "6                  US  \n",
       "7                  US  "
      ]
     },
     "execution_count": 3,
     "metadata": {},
     "output_type": "execute_result"
    }
   ],
   "source": [
    "#import dataset\n",
    "users = pd.read_csv(os.path.join('datasets', 'train_users_2.csv'))\n",
    "\n",
    "#rename columns\n",
    "users.rename(columns = {'date_account_created' : 'account', 'timestamp_first_active' : 'active', \n",
    "                     'date_first_booking': 'booked'}, inplace=True)\n",
    "\n",
    "users.gender = users.gender.str.replace('-unknown-','Not Specified')\n",
    "\n",
    "\n",
    "# convert timestamp_first_active from int to string for to_datetime\n",
    "users['active'] = users['active'].astype(str)\n",
    "\n",
    "#convert to datetime type\n",
    "users.account = pd.to_datetime(pd.to_datetime(users.account).dt.strftime('%Y-%m-%d'))\n",
    "users.booked = pd.to_datetime(pd.to_datetime(users.booked).dt.strftime('%Y-%m-%d'))\n",
    "users.active = pd.to_datetime(pd.to_datetime(users.active).dt.strftime('%Y-%m-%d'))\n",
    "\n",
    "# drop id column\n",
    "users.drop([\"id\"], axis=1, inplace=True)\n",
    "\n",
    "#drop NaN\n",
    "users.dropna(inplace = True, subset = ['account', 'active', 'booked','age'])\n",
    "\n",
    "\n",
    "users.head()"
   ]
  },
  {
   "cell_type": "code",
   "execution_count": 4,
   "metadata": {
    "collapsed": false,
    "scrolled": true
   },
   "outputs": [
    {
     "data": {
      "text/plain": [
       "account                    datetime64[ns]\n",
       "active                     datetime64[ns]\n",
       "booked                     datetime64[ns]\n",
       "gender                             object\n",
       "age                               float64\n",
       "signup_method                      object\n",
       "signup_flow                         int64\n",
       "language                           object\n",
       "affiliate_channel                  object\n",
       "affiliate_provider                 object\n",
       "first_affiliate_tracked            object\n",
       "signup_app                         object\n",
       "first_device_type                  object\n",
       "first_browser                      object\n",
       "country_destination                object\n",
       "dtype: object"
      ]
     },
     "execution_count": 4,
     "metadata": {},
     "output_type": "execute_result"
    }
   ],
   "source": [
    "users.dtypes"
   ]
  },
  {
   "cell_type": "code",
   "execution_count": 5,
   "metadata": {
    "collapsed": false
   },
   "outputs": [
    {
     "data": {
      "text/plain": [
       "Chrome                24207\n",
       "Safari                15366\n",
       "Firefox               12162\n",
       "Mobile Safari          5453\n",
       "IE                     5403\n",
       "-unknown-              5137\n",
       "Chrome Mobile           320\n",
       "Android Browser         197\n",
       "Opera                    53\n",
       "AOL Explorer             42\n",
       "Chromium                 40\n",
       "Silk                     30\n",
       "BlackBerry Browser       16\n",
       "Apple Mail               13\n",
       "Mobile Firefox           11\n",
       "RockMelt                 11\n",
       "Maxthon                  10\n",
       "Iron                      8\n",
       "Sogou Explorer            7\n",
       "IceWeasel                 7\n",
       "IE Mobile                 5\n",
       "Camino                    5\n",
       "SiteKiosk                 5\n",
       "TenFourFox                4\n",
       "Pale Moon                 4\n",
       "SeaMonkey                 3\n",
       "CoolNovo                  3\n",
       "TheWorld Browser          2\n",
       "Mozilla                   1\n",
       "SlimBrowser               1\n",
       "Opera Mini                1\n",
       "NetNewsWire               1\n",
       "Avant Browser             1\n",
       "Kindle Browser            1\n",
       "Stainless                 1\n",
       "Yandex.Browser            1\n",
       "Name: first_browser, dtype: int64"
      ]
     },
     "execution_count": 5,
     "metadata": {},
     "output_type": "execute_result"
    }
   ],
   "source": [
    "users.first_browser.value_counts()"
   ]
  },
  {
   "cell_type": "code",
   "execution_count": 6,
   "metadata": {
    "collapsed": false
   },
   "outputs": [
    {
     "data": {
      "text/plain": [
       "0"
      ]
     },
     "execution_count": 6,
     "metadata": {},
     "output_type": "execute_result"
    }
   ],
   "source": [
    "users.age.isnull().sum()"
   ]
  },
  {
   "cell_type": "code",
   "execution_count": 7,
   "metadata": {
    "collapsed": false
   },
   "outputs": [
    {
     "data": {
      "text/plain": [
       "0"
      ]
     },
     "execution_count": 7,
     "metadata": {},
     "output_type": "execute_result"
    }
   ],
   "source": [
    "len(users.age) - users.age.count()"
   ]
  },
  {
   "cell_type": "code",
   "execution_count": 11,
   "metadata": {
    "collapsed": false
   },
   "outputs": [
    {
     "data": {
      "text/plain": [
       "array(['FEMALE', 'Not Specified', 'MALE', 'OTHER'], dtype=object)"
      ]
     },
     "execution_count": 11,
     "metadata": {},
     "output_type": "execute_result"
    }
   ],
   "source": [
    "users.gender.unique()"
   ]
  },
  {
   "cell_type": "code",
   "execution_count": null,
   "metadata": {
    "collapsed": true
   },
   "outputs": [],
   "source": []
  }
 ],
 "metadata": {
  "kernelspec": {
   "display_name": "Python 2",
   "language": "python",
   "name": "python2"
  },
  "language_info": {
   "codemirror_mode": {
    "name": "ipython",
    "version": 2
   },
   "file_extension": ".py",
   "mimetype": "text/x-python",
   "name": "python",
   "nbconvert_exporter": "python",
   "pygments_lexer": "ipython2",
   "version": "2.7.11"
  }
 },
 "nbformat": 4,
 "nbformat_minor": 0
}
