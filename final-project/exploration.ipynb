{
 "cells": [
  {
   "cell_type": "code",
   "execution_count": 1,
   "metadata": {
    "collapsed": true
   },
   "outputs": [],
   "source": [
    "import os\n",
    "import numpy as np\n",
    "import pandas as pd\n",
    "import datetime\n",
    "import csv\n",
    "import matplotlib.pyplot as plt\n",
    "import statsmodels.formula.api as smf\n",
    "\n",
    "# pd.set_option('display.max_rows', 10)\n",
    "# pd.set_option('display.notebook_repr_html', True)\n",
    "# pd.set_option('display.max_columns', 10)\n",
    "\n",
    "%matplotlib inline\n",
    "plt.style.use('ggplot')"
   ]
  },
  {
   "cell_type": "code",
   "execution_count": 2,
   "metadata": {
    "collapsed": false
   },
   "outputs": [
    {
     "data": {
      "text/html": [
       "<div>\n",
       "<table border=\"1\" class=\"dataframe\">\n",
       "  <thead>\n",
       "    <tr style=\"text-align: right;\">\n",
       "      <th></th>\n",
       "      <th>account</th>\n",
       "      <th>active</th>\n",
       "      <th>booked</th>\n",
       "      <th>gender</th>\n",
       "      <th>age</th>\n",
       "      <th>signup_method</th>\n",
       "      <th>signup_flow</th>\n",
       "      <th>language</th>\n",
       "      <th>affiliate_channel</th>\n",
       "      <th>affiliate_provider</th>\n",
       "      <th>first_affiliate_tracked</th>\n",
       "      <th>signup_app</th>\n",
       "      <th>first_device_type</th>\n",
       "      <th>first_browser</th>\n",
       "      <th>country_destination</th>\n",
       "    </tr>\n",
       "    <tr>\n",
       "      <th>id</th>\n",
       "      <th></th>\n",
       "      <th></th>\n",
       "      <th></th>\n",
       "      <th></th>\n",
       "      <th></th>\n",
       "      <th></th>\n",
       "      <th></th>\n",
       "      <th></th>\n",
       "      <th></th>\n",
       "      <th></th>\n",
       "      <th></th>\n",
       "      <th></th>\n",
       "      <th></th>\n",
       "      <th></th>\n",
       "      <th></th>\n",
       "    </tr>\n",
       "  </thead>\n",
       "  <tbody>\n",
       "    <tr>\n",
       "      <th>5ozmhime8v</th>\n",
       "      <td>2013-01-02</td>\n",
       "      <td>2013-01-02:01:48:12</td>\n",
       "      <td>2013-01-05</td>\n",
       "      <td>FEMALE</td>\n",
       "      <td>44.0</td>\n",
       "      <td>facebook</td>\n",
       "      <td>0</td>\n",
       "      <td>en</td>\n",
       "      <td>direct</td>\n",
       "      <td>direct</td>\n",
       "      <td>linked</td>\n",
       "      <td>Web</td>\n",
       "      <td>Mac Desktop</td>\n",
       "      <td>Safari</td>\n",
       "      <td>US</td>\n",
       "    </tr>\n",
       "    <tr>\n",
       "      <th>2llh6fo1cp</th>\n",
       "      <td>2013-01-02</td>\n",
       "      <td>2013-01-02:01:57:46</td>\n",
       "      <td>2013-01-04</td>\n",
       "      <td>MALE</td>\n",
       "      <td>47.0</td>\n",
       "      <td>basic</td>\n",
       "      <td>0</td>\n",
       "      <td>en</td>\n",
       "      <td>sem-brand</td>\n",
       "      <td>google</td>\n",
       "      <td>tracked-other</td>\n",
       "      <td>Web</td>\n",
       "      <td>iPad</td>\n",
       "      <td>Mobile Safari</td>\n",
       "      <td>US</td>\n",
       "    </tr>\n",
       "    <tr>\n",
       "      <th>n4o9woov3x</th>\n",
       "      <td>2013-01-02</td>\n",
       "      <td>2013-01-02:03:20:05</td>\n",
       "      <td>2013-03-11</td>\n",
       "      <td>FEMALE</td>\n",
       "      <td>56.0</td>\n",
       "      <td>facebook</td>\n",
       "      <td>0</td>\n",
       "      <td>en</td>\n",
       "      <td>direct</td>\n",
       "      <td>direct</td>\n",
       "      <td>linked</td>\n",
       "      <td>Web</td>\n",
       "      <td>Mac Desktop</td>\n",
       "      <td>Safari</td>\n",
       "      <td>US</td>\n",
       "    </tr>\n",
       "    <tr>\n",
       "      <th>q7a55cobxp</th>\n",
       "      <td>2013-01-02</td>\n",
       "      <td>2013-01-02:03:44:15</td>\n",
       "      <td>2013-01-16</td>\n",
       "      <td>FEMALE</td>\n",
       "      <td>34.0</td>\n",
       "      <td>basic</td>\n",
       "      <td>0</td>\n",
       "      <td>en</td>\n",
       "      <td>sem-non-brand</td>\n",
       "      <td>google</td>\n",
       "      <td>omg</td>\n",
       "      <td>Web</td>\n",
       "      <td>Mac Desktop</td>\n",
       "      <td>Chrome</td>\n",
       "      <td>US</td>\n",
       "    </tr>\n",
       "    <tr>\n",
       "      <th>9dz0er4rej</th>\n",
       "      <td>2013-01-02</td>\n",
       "      <td>2013-01-02:04:01:44</td>\n",
       "      <td>2013-01-20</td>\n",
       "      <td>FEMALE</td>\n",
       "      <td>65.0</td>\n",
       "      <td>facebook</td>\n",
       "      <td>0</td>\n",
       "      <td>en</td>\n",
       "      <td>direct</td>\n",
       "      <td>direct</td>\n",
       "      <td>linked</td>\n",
       "      <td>Web</td>\n",
       "      <td>Windows Desktop</td>\n",
       "      <td>IE</td>\n",
       "      <td>US</td>\n",
       "    </tr>\n",
       "  </tbody>\n",
       "</table>\n",
       "</div>"
      ],
      "text/plain": [
       "               account               active      booked  gender   age  \\\n",
       "id                                                                      \n",
       "5ozmhime8v  2013-01-02  2013-01-02:01:48:12  2013-01-05  FEMALE  44.0   \n",
       "2llh6fo1cp  2013-01-02  2013-01-02:01:57:46  2013-01-04    MALE  47.0   \n",
       "n4o9woov3x  2013-01-02  2013-01-02:03:20:05  2013-03-11  FEMALE  56.0   \n",
       "q7a55cobxp  2013-01-02  2013-01-02:03:44:15  2013-01-16  FEMALE  34.0   \n",
       "9dz0er4rej  2013-01-02  2013-01-02:04:01:44  2013-01-20  FEMALE  65.0   \n",
       "\n",
       "           signup_method  signup_flow language affiliate_channel  \\\n",
       "id                                                                 \n",
       "5ozmhime8v      facebook            0       en            direct   \n",
       "2llh6fo1cp         basic            0       en         sem-brand   \n",
       "n4o9woov3x      facebook            0       en            direct   \n",
       "q7a55cobxp         basic            0       en     sem-non-brand   \n",
       "9dz0er4rej      facebook            0       en            direct   \n",
       "\n",
       "           affiliate_provider first_affiliate_tracked signup_app  \\\n",
       "id                                                                 \n",
       "5ozmhime8v             direct                  linked        Web   \n",
       "2llh6fo1cp             google           tracked-other        Web   \n",
       "n4o9woov3x             direct                  linked        Web   \n",
       "q7a55cobxp             google                     omg        Web   \n",
       "9dz0er4rej             direct                  linked        Web   \n",
       "\n",
       "           first_device_type  first_browser country_destination  \n",
       "id                                                               \n",
       "5ozmhime8v       Mac Desktop         Safari                  US  \n",
       "2llh6fo1cp              iPad  Mobile Safari                  US  \n",
       "n4o9woov3x       Mac Desktop         Safari                  US  \n",
       "q7a55cobxp       Mac Desktop         Chrome                  US  \n",
       "9dz0er4rej   Windows Desktop             IE                  US  "
      ]
     },
     "execution_count": 2,
     "metadata": {},
     "output_type": "execute_result"
    }
   ],
   "source": [
    "#import dataset\n",
    "users = pd.read_csv(os.path.join('datasets', 'airbnb_clean.csv'), index_col = 'id')\n",
    "users.head()"
   ]
  },
  {
   "cell_type": "code",
   "execution_count": 3,
   "metadata": {
    "collapsed": false
   },
   "outputs": [
    {
     "data": {
      "text/plain": [
       "account                     object\n",
       "active                      object\n",
       "booked                      object\n",
       "gender                      object\n",
       "age                        float64\n",
       "signup_method               object\n",
       "signup_flow                  int64\n",
       "language                    object\n",
       "affiliate_channel           object\n",
       "affiliate_provider          object\n",
       "first_affiliate_tracked     object\n",
       "signup_app                  object\n",
       "first_device_type           object\n",
       "first_browser               object\n",
       "country_destination         object\n",
       "dtype: object"
      ]
     },
     "execution_count": 3,
     "metadata": {},
     "output_type": "execute_result"
    }
   ],
   "source": [
    "users.dtypes"
   ]
  },
  {
   "cell_type": "code",
   "execution_count": 6,
   "metadata": {
    "collapsed": false
   },
   "outputs": [],
   "source": [
    "users['account'] = pd.to_datetime(users['account'], format='%Y-%m-%d')\n",
    "users['booked'] = pd.to_datetime(users['booked'], format='%Y-%m-%d')\n",
    "users['active'] = pd.to_datetime(users['active'], format='%Y-%m-%d:%H:%M:%S')"
   ]
  },
  {
   "cell_type": "code",
   "execution_count": 7,
   "metadata": {
    "collapsed": false
   },
   "outputs": [],
   "source": [
    "users.active = users.active.apply(lambda datetime: datetime.date())"
   ]
  },
  {
   "cell_type": "code",
   "execution_count": 8,
   "metadata": {
    "collapsed": false
   },
   "outputs": [
    {
     "data": {
      "text/plain": [
       "account                    datetime64[ns]\n",
       "active                             object\n",
       "booked                     datetime64[ns]\n",
       "gender                             object\n",
       "age                               float64\n",
       "signup_method                      object\n",
       "signup_flow                         int64\n",
       "language                           object\n",
       "affiliate_channel                  object\n",
       "affiliate_provider                 object\n",
       "first_affiliate_tracked            object\n",
       "signup_app                         object\n",
       "first_device_type                  object\n",
       "first_browser                      object\n",
       "country_destination                object\n",
       "dtype: object"
      ]
     },
     "execution_count": 8,
     "metadata": {},
     "output_type": "execute_result"
    }
   ],
   "source": [
    "users.dtypes"
   ]
  },
  {
   "cell_type": "code",
   "execution_count": 9,
   "metadata": {
    "collapsed": true
   },
   "outputs": [],
   "source": [
    "users['active'] = pd.to_datetime(users['active'], format='%Y-%m-%d')"
   ]
  },
  {
   "cell_type": "code",
   "execution_count": 31,
   "metadata": {
    "collapsed": false
   },
   "outputs": [],
   "source": [
    "# users.corr()"
   ]
  },
  {
   "cell_type": "code",
   "execution_count": 10,
   "metadata": {
    "collapsed": false
   },
   "outputs": [],
   "source": [
    "users['active_to_booked'] = users['booked'] - users['active']"
   ]
  },
  {
   "cell_type": "code",
   "execution_count": 11,
   "metadata": {
    "collapsed": false
   },
   "outputs": [
    {
     "data": {
      "text/plain": [
       "count                      15508\n",
       "mean     29 days 17:13:00.913077\n",
       "std      65 days 09:03:47.989635\n",
       "min              0 days 00:00:00\n",
       "25%              0 days 00:00:00\n",
       "50%              2 days 00:00:00\n",
       "75%             18 days 00:00:00\n",
       "max            365 days 00:00:00\n",
       "Name: active_to_booked, dtype: object"
      ]
     },
     "execution_count": 11,
     "metadata": {},
     "output_type": "execute_result"
    }
   ],
   "source": [
    "users.active_to_booked.describe()"
   ]
  },
  {
   "cell_type": "code",
   "execution_count": 12,
   "metadata": {
    "collapsed": false
   },
   "outputs": [
    {
     "data": {
      "text/plain": [
       "dtype('<m8[ns]')"
      ]
     },
     "execution_count": 12,
     "metadata": {},
     "output_type": "execute_result"
    }
   ],
   "source": [
    "users.active_to_booked.dtypes"
   ]
  },
  {
   "cell_type": "code",
   "execution_count": 13,
   "metadata": {
    "collapsed": false
   },
   "outputs": [
    {
     "data": {
      "text/plain": [
       "Index([u'account', u'active', u'booked', u'gender', u'age', u'signup_method',\n",
       "       u'signup_flow', u'language', u'affiliate_channel',\n",
       "       u'affiliate_provider', u'first_affiliate_tracked', u'signup_app',\n",
       "       u'first_device_type', u'first_browser', u'country_destination',\n",
       "       u'active_to_booked'],\n",
       "      dtype='object')"
      ]
     },
     "execution_count": 13,
     "metadata": {},
     "output_type": "execute_result"
    }
   ],
   "source": [
    "users.columns"
   ]
  },
  {
   "cell_type": "code",
   "execution_count": 14,
   "metadata": {
    "collapsed": false
   },
   "outputs": [
    {
     "data": {
      "text/html": [
       "<div>\n",
       "<table border=\"1\" class=\"dataframe\">\n",
       "  <thead>\n",
       "    <tr style=\"text-align: right;\">\n",
       "      <th></th>\n",
       "      <th>account</th>\n",
       "      <th>active</th>\n",
       "      <th>booked</th>\n",
       "      <th>active_to_booked</th>\n",
       "    </tr>\n",
       "    <tr>\n",
       "      <th>id</th>\n",
       "      <th></th>\n",
       "      <th></th>\n",
       "      <th></th>\n",
       "      <th></th>\n",
       "    </tr>\n",
       "  </thead>\n",
       "  <tbody>\n",
       "    <tr>\n",
       "      <th>5ozmhime8v</th>\n",
       "      <td>2013-01-02</td>\n",
       "      <td>2013-01-02</td>\n",
       "      <td>2013-01-05</td>\n",
       "      <td>3 days</td>\n",
       "    </tr>\n",
       "    <tr>\n",
       "      <th>2llh6fo1cp</th>\n",
       "      <td>2013-01-02</td>\n",
       "      <td>2013-01-02</td>\n",
       "      <td>2013-01-04</td>\n",
       "      <td>2 days</td>\n",
       "    </tr>\n",
       "    <tr>\n",
       "      <th>n4o9woov3x</th>\n",
       "      <td>2013-01-02</td>\n",
       "      <td>2013-01-02</td>\n",
       "      <td>2013-03-11</td>\n",
       "      <td>68 days</td>\n",
       "    </tr>\n",
       "    <tr>\n",
       "      <th>q7a55cobxp</th>\n",
       "      <td>2013-01-02</td>\n",
       "      <td>2013-01-02</td>\n",
       "      <td>2013-01-16</td>\n",
       "      <td>14 days</td>\n",
       "    </tr>\n",
       "    <tr>\n",
       "      <th>9dz0er4rej</th>\n",
       "      <td>2013-01-02</td>\n",
       "      <td>2013-01-02</td>\n",
       "      <td>2013-01-20</td>\n",
       "      <td>18 days</td>\n",
       "    </tr>\n",
       "  </tbody>\n",
       "</table>\n",
       "</div>"
      ],
      "text/plain": [
       "              account     active     booked  active_to_booked\n",
       "id                                                           \n",
       "5ozmhime8v 2013-01-02 2013-01-02 2013-01-05            3 days\n",
       "2llh6fo1cp 2013-01-02 2013-01-02 2013-01-04            2 days\n",
       "n4o9woov3x 2013-01-02 2013-01-02 2013-03-11           68 days\n",
       "q7a55cobxp 2013-01-02 2013-01-02 2013-01-16           14 days\n",
       "9dz0er4rej 2013-01-02 2013-01-02 2013-01-20           18 days"
      ]
     },
     "execution_count": 14,
     "metadata": {},
     "output_type": "execute_result"
    }
   ],
   "source": [
    "users[ ['account', 'active', 'booked', 'active_to_booked'] ].head()"
   ]
  },
  {
   "cell_type": "code",
   "execution_count": null,
   "metadata": {
    "collapsed": true
   },
   "outputs": [],
   "source": []
  }
 ],
 "metadata": {
  "kernelspec": {
   "display_name": "Python 2",
   "language": "python",
   "name": "python2"
  },
  "language_info": {
   "codemirror_mode": {
    "name": "ipython",
    "version": 2
   },
   "file_extension": ".py",
   "mimetype": "text/x-python",
   "name": "python",
   "nbconvert_exporter": "python",
   "pygments_lexer": "ipython2",
   "version": "2.7.11"
  }
 },
 "nbformat": 4,
 "nbformat_minor": 0
}
